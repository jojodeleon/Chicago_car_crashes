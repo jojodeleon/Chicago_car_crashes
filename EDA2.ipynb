{
 "cells": [
  {
   "cell_type": "code",
   "execution_count": 2,
   "metadata": {},
   "outputs": [
    {
     "data": {
      "text/html": [
       "<div>\n",
       "<style scoped>\n",
       "    .dataframe tbody tr th:only-of-type {\n",
       "        vertical-align: middle;\n",
       "    }\n",
       "\n",
       "    .dataframe tbody tr th {\n",
       "        vertical-align: top;\n",
       "    }\n",
       "\n",
       "    .dataframe thead th {\n",
       "        text-align: right;\n",
       "    }\n",
       "</style>\n",
       "<table border=\"1\" class=\"dataframe\">\n",
       "  <thead>\n",
       "    <tr style=\"text-align: right;\">\n",
       "      <th></th>\n",
       "      <th>CRASH_RECORD_ID</th>\n",
       "      <th>RD_NO_x</th>\n",
       "      <th>CRASH_DATE_EST_I</th>\n",
       "      <th>CRASH_DATE_x</th>\n",
       "      <th>POSTED_SPEED_LIMIT</th>\n",
       "      <th>TRAFFIC_CONTROL_DEVICE</th>\n",
       "      <th>DEVICE_CONDITION</th>\n",
       "      <th>WEATHER_CONDITION</th>\n",
       "      <th>LIGHTING_CONDITION</th>\n",
       "      <th>FIRST_CRASH_TYPE</th>\n",
       "      <th>...</th>\n",
       "      <th>EMS_RUN_NO</th>\n",
       "      <th>DRIVER_ACTION</th>\n",
       "      <th>DRIVER_VISION</th>\n",
       "      <th>PHYSICAL_CONDITION</th>\n",
       "      <th>PEDPEDAL_ACTION</th>\n",
       "      <th>PEDPEDAL_VISIBILITY</th>\n",
       "      <th>PEDPEDAL_LOCATION</th>\n",
       "      <th>BAC_RESULT</th>\n",
       "      <th>BAC_RESULT VALUE</th>\n",
       "      <th>CELL_PHONE_USE</th>\n",
       "    </tr>\n",
       "  </thead>\n",
       "  <tbody>\n",
       "    <tr>\n",
       "      <th>0</th>\n",
       "      <td>4fd0a3e0897b3335b94cd8d5b2d2b350eb691add56c62d...</td>\n",
       "      <td>JC343143</td>\n",
       "      <td>NaN</td>\n",
       "      <td>07/10/2019 05:56:00 PM</td>\n",
       "      <td>35</td>\n",
       "      <td>NO CONTROLS</td>\n",
       "      <td>NO CONTROLS</td>\n",
       "      <td>CLEAR</td>\n",
       "      <td>DAYLIGHT</td>\n",
       "      <td>TURNING</td>\n",
       "      <td>...</td>\n",
       "      <td>NaN</td>\n",
       "      <td>IMPROPER BACKING</td>\n",
       "      <td>UNKNOWN</td>\n",
       "      <td>NORMAL</td>\n",
       "      <td>NaN</td>\n",
       "      <td>NaN</td>\n",
       "      <td>NaN</td>\n",
       "      <td>TEST NOT OFFERED</td>\n",
       "      <td>NaN</td>\n",
       "      <td>NaN</td>\n",
       "    </tr>\n",
       "    <tr>\n",
       "      <th>1</th>\n",
       "      <td>4fd0a3e0897b3335b94cd8d5b2d2b350eb691add56c62d...</td>\n",
       "      <td>JC343143</td>\n",
       "      <td>NaN</td>\n",
       "      <td>07/10/2019 05:56:00 PM</td>\n",
       "      <td>35</td>\n",
       "      <td>NO CONTROLS</td>\n",
       "      <td>NO CONTROLS</td>\n",
       "      <td>CLEAR</td>\n",
       "      <td>DAYLIGHT</td>\n",
       "      <td>TURNING</td>\n",
       "      <td>...</td>\n",
       "      <td>NaN</td>\n",
       "      <td>NONE</td>\n",
       "      <td>NOT OBSCURED</td>\n",
       "      <td>NORMAL</td>\n",
       "      <td>NaN</td>\n",
       "      <td>NaN</td>\n",
       "      <td>NaN</td>\n",
       "      <td>TEST NOT OFFERED</td>\n",
       "      <td>NaN</td>\n",
       "      <td>NaN</td>\n",
       "    </tr>\n",
       "    <tr>\n",
       "      <th>2</th>\n",
       "      <td>4fd0a3e0897b3335b94cd8d5b2d2b350eb691add56c62d...</td>\n",
       "      <td>JC343143</td>\n",
       "      <td>NaN</td>\n",
       "      <td>07/10/2019 05:56:00 PM</td>\n",
       "      <td>35</td>\n",
       "      <td>NO CONTROLS</td>\n",
       "      <td>NO CONTROLS</td>\n",
       "      <td>CLEAR</td>\n",
       "      <td>DAYLIGHT</td>\n",
       "      <td>TURNING</td>\n",
       "      <td>...</td>\n",
       "      <td>NaN</td>\n",
       "      <td>NaN</td>\n",
       "      <td>NaN</td>\n",
       "      <td>NaN</td>\n",
       "      <td>NaN</td>\n",
       "      <td>NaN</td>\n",
       "      <td>NaN</td>\n",
       "      <td>NaN</td>\n",
       "      <td>NaN</td>\n",
       "      <td>NaN</td>\n",
       "    </tr>\n",
       "    <tr>\n",
       "      <th>3</th>\n",
       "      <td>009e9e67203442370272e1a13d6ee51a4155dac65e583d...</td>\n",
       "      <td>JA329216</td>\n",
       "      <td>NaN</td>\n",
       "      <td>06/30/2017 04:00:00 PM</td>\n",
       "      <td>35</td>\n",
       "      <td>STOP SIGN/FLASHER</td>\n",
       "      <td>FUNCTIONING PROPERLY</td>\n",
       "      <td>CLEAR</td>\n",
       "      <td>DAYLIGHT</td>\n",
       "      <td>TURNING</td>\n",
       "      <td>...</td>\n",
       "      <td>NaN</td>\n",
       "      <td>FAILED TO YIELD</td>\n",
       "      <td>UNKNOWN</td>\n",
       "      <td>UNKNOWN</td>\n",
       "      <td>NaN</td>\n",
       "      <td>NaN</td>\n",
       "      <td>NaN</td>\n",
       "      <td>TEST NOT OFFERED</td>\n",
       "      <td>NaN</td>\n",
       "      <td>NaN</td>\n",
       "    </tr>\n",
       "    <tr>\n",
       "      <th>4</th>\n",
       "      <td>009e9e67203442370272e1a13d6ee51a4155dac65e583d...</td>\n",
       "      <td>JA329216</td>\n",
       "      <td>NaN</td>\n",
       "      <td>06/30/2017 04:00:00 PM</td>\n",
       "      <td>35</td>\n",
       "      <td>STOP SIGN/FLASHER</td>\n",
       "      <td>FUNCTIONING PROPERLY</td>\n",
       "      <td>CLEAR</td>\n",
       "      <td>DAYLIGHT</td>\n",
       "      <td>TURNING</td>\n",
       "      <td>...</td>\n",
       "      <td>NaN</td>\n",
       "      <td>NONE</td>\n",
       "      <td>NOT OBSCURED</td>\n",
       "      <td>NORMAL</td>\n",
       "      <td>NaN</td>\n",
       "      <td>NaN</td>\n",
       "      <td>NaN</td>\n",
       "      <td>TEST NOT OFFERED</td>\n",
       "      <td>NaN</td>\n",
       "      <td>NaN</td>\n",
       "    </tr>\n",
       "  </tbody>\n",
       "</table>\n",
       "<p>5 rows × 78 columns</p>\n",
       "</div>"
      ],
      "text/plain": [
       "                                     CRASH_RECORD_ID   RD_NO_x  \\\n",
       "0  4fd0a3e0897b3335b94cd8d5b2d2b350eb691add56c62d...  JC343143   \n",
       "1  4fd0a3e0897b3335b94cd8d5b2d2b350eb691add56c62d...  JC343143   \n",
       "2  4fd0a3e0897b3335b94cd8d5b2d2b350eb691add56c62d...  JC343143   \n",
       "3  009e9e67203442370272e1a13d6ee51a4155dac65e583d...  JA329216   \n",
       "4  009e9e67203442370272e1a13d6ee51a4155dac65e583d...  JA329216   \n",
       "\n",
       "  CRASH_DATE_EST_I            CRASH_DATE_x  POSTED_SPEED_LIMIT  \\\n",
       "0              NaN  07/10/2019 05:56:00 PM                  35   \n",
       "1              NaN  07/10/2019 05:56:00 PM                  35   \n",
       "2              NaN  07/10/2019 05:56:00 PM                  35   \n",
       "3              NaN  06/30/2017 04:00:00 PM                  35   \n",
       "4              NaN  06/30/2017 04:00:00 PM                  35   \n",
       "\n",
       "  TRAFFIC_CONTROL_DEVICE      DEVICE_CONDITION WEATHER_CONDITION  \\\n",
       "0            NO CONTROLS           NO CONTROLS             CLEAR   \n",
       "1            NO CONTROLS           NO CONTROLS             CLEAR   \n",
       "2            NO CONTROLS           NO CONTROLS             CLEAR   \n",
       "3      STOP SIGN/FLASHER  FUNCTIONING PROPERLY             CLEAR   \n",
       "4      STOP SIGN/FLASHER  FUNCTIONING PROPERLY             CLEAR   \n",
       "\n",
       "  LIGHTING_CONDITION FIRST_CRASH_TYPE  ... EMS_RUN_NO     DRIVER_ACTION  \\\n",
       "0           DAYLIGHT          TURNING  ...        NaN  IMPROPER BACKING   \n",
       "1           DAYLIGHT          TURNING  ...        NaN              NONE   \n",
       "2           DAYLIGHT          TURNING  ...        NaN               NaN   \n",
       "3           DAYLIGHT          TURNING  ...        NaN   FAILED TO YIELD   \n",
       "4           DAYLIGHT          TURNING  ...        NaN              NONE   \n",
       "\n",
       "  DRIVER_VISION PHYSICAL_CONDITION PEDPEDAL_ACTION PEDPEDAL_VISIBILITY  \\\n",
       "0       UNKNOWN             NORMAL             NaN                 NaN   \n",
       "1  NOT OBSCURED             NORMAL             NaN                 NaN   \n",
       "2           NaN                NaN             NaN                 NaN   \n",
       "3       UNKNOWN            UNKNOWN             NaN                 NaN   \n",
       "4  NOT OBSCURED             NORMAL             NaN                 NaN   \n",
       "\n",
       "  PEDPEDAL_LOCATION        BAC_RESULT BAC_RESULT VALUE CELL_PHONE_USE  \n",
       "0               NaN  TEST NOT OFFERED              NaN            NaN  \n",
       "1               NaN  TEST NOT OFFERED              NaN            NaN  \n",
       "2               NaN               NaN              NaN            NaN  \n",
       "3               NaN  TEST NOT OFFERED              NaN            NaN  \n",
       "4               NaN  TEST NOT OFFERED              NaN            NaN  \n",
       "\n",
       "[5 rows x 78 columns]"
      ]
     },
     "execution_count": 2,
     "metadata": {},
     "output_type": "execute_result"
    }
   ],
   "source": [
    "import pandas as pd\n",
    "\n",
    "data = pd.read_csv('ChiTrafCrash', low_memory=False)\n",
    "people = pd.read_csv('ChiPeopCrash', low_memory=False)\n",
    "\n",
    "#merge two datasets on the column CRASH_RECORD_ID\n",
    "all_df = pd.merge(data, people, on='CRASH_RECORD_ID')\n",
    "all_df.head()"
   ]
  },
  {
   "cell_type": "code",
   "execution_count": 3,
   "metadata": {},
   "outputs": [
    {
     "data": {
      "text/html": [
       "<div>\n",
       "<style scoped>\n",
       "    .dataframe tbody tr th:only-of-type {\n",
       "        vertical-align: middle;\n",
       "    }\n",
       "\n",
       "    .dataframe tbody tr th {\n",
       "        vertical-align: top;\n",
       "    }\n",
       "\n",
       "    .dataframe thead th {\n",
       "        text-align: right;\n",
       "    }\n",
       "</style>\n",
       "<table border=\"1\" class=\"dataframe\">\n",
       "  <thead>\n",
       "    <tr style=\"text-align: right;\">\n",
       "      <th></th>\n",
       "      <th>POSTED_SPEED_LIMIT</th>\n",
       "      <th>TRAFFIC_CONTROL_DEVICE</th>\n",
       "      <th>WEATHER_CONDITION</th>\n",
       "      <th>LIGHTING_CONDITION</th>\n",
       "      <th>ROADWAY_SURFACE_COND</th>\n",
       "      <th>ROAD_DEFECT</th>\n",
       "      <th>INTERSECTION_RELATED_I</th>\n",
       "      <th>PRIM_CONTRIBUTORY_CAUSE</th>\n",
       "      <th>STREET_NAME</th>\n",
       "      <th>CRASH_HOUR</th>\n",
       "      <th>CRASH_DAY_OF_WEEK</th>\n",
       "      <th>CRASH_MONTH</th>\n",
       "      <th>PERSON_TYPE</th>\n",
       "      <th>SEX</th>\n",
       "      <th>AGE</th>\n",
       "      <th>SAFETY_EQUIPMENT</th>\n",
       "      <th>INJURY_CLASSIFICATION</th>\n",
       "      <th>PHYSICAL_CONDITION</th>\n",
       "    </tr>\n",
       "  </thead>\n",
       "  <tbody>\n",
       "    <tr>\n",
       "      <th>0</th>\n",
       "      <td>35</td>\n",
       "      <td>NO CONTROLS</td>\n",
       "      <td>CLEAR</td>\n",
       "      <td>DAYLIGHT</td>\n",
       "      <td>DRY</td>\n",
       "      <td>NO DEFECTS</td>\n",
       "      <td>NaN</td>\n",
       "      <td>IMPROPER BACKING</td>\n",
       "      <td>MARMORA AVE</td>\n",
       "      <td>17</td>\n",
       "      <td>4</td>\n",
       "      <td>7</td>\n",
       "      <td>DRIVER</td>\n",
       "      <td>M</td>\n",
       "      <td>31.0</td>\n",
       "      <td>USAGE UNKNOWN</td>\n",
       "      <td>NO INDICATION OF INJURY</td>\n",
       "      <td>NORMAL</td>\n",
       "    </tr>\n",
       "    <tr>\n",
       "      <th>1</th>\n",
       "      <td>35</td>\n",
       "      <td>NO CONTROLS</td>\n",
       "      <td>CLEAR</td>\n",
       "      <td>DAYLIGHT</td>\n",
       "      <td>DRY</td>\n",
       "      <td>NO DEFECTS</td>\n",
       "      <td>NaN</td>\n",
       "      <td>IMPROPER BACKING</td>\n",
       "      <td>MARMORA AVE</td>\n",
       "      <td>17</td>\n",
       "      <td>4</td>\n",
       "      <td>7</td>\n",
       "      <td>DRIVER</td>\n",
       "      <td>M</td>\n",
       "      <td>43.0</td>\n",
       "      <td>USAGE UNKNOWN</td>\n",
       "      <td>NO INDICATION OF INJURY</td>\n",
       "      <td>NORMAL</td>\n",
       "    </tr>\n",
       "    <tr>\n",
       "      <th>2</th>\n",
       "      <td>35</td>\n",
       "      <td>NO CONTROLS</td>\n",
       "      <td>CLEAR</td>\n",
       "      <td>DAYLIGHT</td>\n",
       "      <td>DRY</td>\n",
       "      <td>NO DEFECTS</td>\n",
       "      <td>NaN</td>\n",
       "      <td>IMPROPER BACKING</td>\n",
       "      <td>MARMORA AVE</td>\n",
       "      <td>17</td>\n",
       "      <td>4</td>\n",
       "      <td>7</td>\n",
       "      <td>PASSENGER</td>\n",
       "      <td>M</td>\n",
       "      <td>28.0</td>\n",
       "      <td>USAGE UNKNOWN</td>\n",
       "      <td>NO INDICATION OF INJURY</td>\n",
       "      <td>NaN</td>\n",
       "    </tr>\n",
       "    <tr>\n",
       "      <th>3</th>\n",
       "      <td>35</td>\n",
       "      <td>STOP SIGN/FLASHER</td>\n",
       "      <td>CLEAR</td>\n",
       "      <td>DAYLIGHT</td>\n",
       "      <td>DRY</td>\n",
       "      <td>NO DEFECTS</td>\n",
       "      <td>Y</td>\n",
       "      <td>FAILING TO YIELD RIGHT-OF-WAY</td>\n",
       "      <td>CICERO AVE</td>\n",
       "      <td>16</td>\n",
       "      <td>6</td>\n",
       "      <td>6</td>\n",
       "      <td>DRIVER</td>\n",
       "      <td>F</td>\n",
       "      <td>20.0</td>\n",
       "      <td>USAGE UNKNOWN</td>\n",
       "      <td>NO INDICATION OF INJURY</td>\n",
       "      <td>UNKNOWN</td>\n",
       "    </tr>\n",
       "    <tr>\n",
       "      <th>4</th>\n",
       "      <td>35</td>\n",
       "      <td>STOP SIGN/FLASHER</td>\n",
       "      <td>CLEAR</td>\n",
       "      <td>DAYLIGHT</td>\n",
       "      <td>DRY</td>\n",
       "      <td>NO DEFECTS</td>\n",
       "      <td>Y</td>\n",
       "      <td>FAILING TO YIELD RIGHT-OF-WAY</td>\n",
       "      <td>CICERO AVE</td>\n",
       "      <td>16</td>\n",
       "      <td>6</td>\n",
       "      <td>6</td>\n",
       "      <td>DRIVER</td>\n",
       "      <td>F</td>\n",
       "      <td>26.0</td>\n",
       "      <td>SAFETY BELT USED</td>\n",
       "      <td>NO INDICATION OF INJURY</td>\n",
       "      <td>NORMAL</td>\n",
       "    </tr>\n",
       "    <tr>\n",
       "      <th>...</th>\n",
       "      <td>...</td>\n",
       "      <td>...</td>\n",
       "      <td>...</td>\n",
       "      <td>...</td>\n",
       "      <td>...</td>\n",
       "      <td>...</td>\n",
       "      <td>...</td>\n",
       "      <td>...</td>\n",
       "      <td>...</td>\n",
       "      <td>...</td>\n",
       "      <td>...</td>\n",
       "      <td>...</td>\n",
       "      <td>...</td>\n",
       "      <td>...</td>\n",
       "      <td>...</td>\n",
       "      <td>...</td>\n",
       "      <td>...</td>\n",
       "      <td>...</td>\n",
       "    </tr>\n",
       "    <tr>\n",
       "      <th>1171676</th>\n",
       "      <td>20</td>\n",
       "      <td>NO CONTROLS</td>\n",
       "      <td>CLEAR</td>\n",
       "      <td>DUSK</td>\n",
       "      <td>DRY</td>\n",
       "      <td>NO DEFECTS</td>\n",
       "      <td>NaN</td>\n",
       "      <td>UNABLE TO DETERMINE</td>\n",
       "      <td>BENTON PL</td>\n",
       "      <td>19</td>\n",
       "      <td>3</td>\n",
       "      <td>7</td>\n",
       "      <td>DRIVER</td>\n",
       "      <td>M</td>\n",
       "      <td>NaN</td>\n",
       "      <td>SAFETY BELT USED</td>\n",
       "      <td>NO INDICATION OF INJURY</td>\n",
       "      <td>NORMAL</td>\n",
       "    </tr>\n",
       "    <tr>\n",
       "      <th>1171677</th>\n",
       "      <td>25</td>\n",
       "      <td>NO CONTROLS</td>\n",
       "      <td>UNKNOWN</td>\n",
       "      <td>UNKNOWN</td>\n",
       "      <td>UNKNOWN</td>\n",
       "      <td>UNKNOWN</td>\n",
       "      <td>NaN</td>\n",
       "      <td>UNABLE TO DETERMINE</td>\n",
       "      <td>SAGINAW AVE</td>\n",
       "      <td>14</td>\n",
       "      <td>1</td>\n",
       "      <td>7</td>\n",
       "      <td>DRIVER</td>\n",
       "      <td>X</td>\n",
       "      <td>NaN</td>\n",
       "      <td>USAGE UNKNOWN</td>\n",
       "      <td>NO INDICATION OF INJURY</td>\n",
       "      <td>UNKNOWN</td>\n",
       "    </tr>\n",
       "    <tr>\n",
       "      <th>1171678</th>\n",
       "      <td>30</td>\n",
       "      <td>NO CONTROLS</td>\n",
       "      <td>CLEAR</td>\n",
       "      <td>DAYLIGHT</td>\n",
       "      <td>DRY</td>\n",
       "      <td>NO DEFECTS</td>\n",
       "      <td>Y</td>\n",
       "      <td>UNABLE TO DETERMINE</td>\n",
       "      <td>MICHIGAN AVE</td>\n",
       "      <td>10</td>\n",
       "      <td>2</td>\n",
       "      <td>7</td>\n",
       "      <td>DRIVER</td>\n",
       "      <td>M</td>\n",
       "      <td>NaN</td>\n",
       "      <td>USAGE UNKNOWN</td>\n",
       "      <td>NO INDICATION OF INJURY</td>\n",
       "      <td>UNKNOWN</td>\n",
       "    </tr>\n",
       "    <tr>\n",
       "      <th>1171679</th>\n",
       "      <td>30</td>\n",
       "      <td>NO CONTROLS</td>\n",
       "      <td>CLEAR</td>\n",
       "      <td>DAYLIGHT</td>\n",
       "      <td>DRY</td>\n",
       "      <td>NO DEFECTS</td>\n",
       "      <td>Y</td>\n",
       "      <td>UNABLE TO DETERMINE</td>\n",
       "      <td>MICHIGAN AVE</td>\n",
       "      <td>10</td>\n",
       "      <td>2</td>\n",
       "      <td>7</td>\n",
       "      <td>DRIVER</td>\n",
       "      <td>F</td>\n",
       "      <td>25.0</td>\n",
       "      <td>SAFETY BELT USED</td>\n",
       "      <td>REPORTED, NOT EVIDENT</td>\n",
       "      <td>NORMAL</td>\n",
       "    </tr>\n",
       "    <tr>\n",
       "      <th>1171680</th>\n",
       "      <td>30</td>\n",
       "      <td>NO CONTROLS</td>\n",
       "      <td>CLEAR</td>\n",
       "      <td>DARKNESS, LIGHTED ROAD</td>\n",
       "      <td>DRY</td>\n",
       "      <td>NO DEFECTS</td>\n",
       "      <td>NaN</td>\n",
       "      <td>FAILING TO REDUCE SPEED TO AVOID CRASH</td>\n",
       "      <td>50TH ST</td>\n",
       "      <td>22</td>\n",
       "      <td>3</td>\n",
       "      <td>7</td>\n",
       "      <td>DRIVER</td>\n",
       "      <td>F</td>\n",
       "      <td>NaN</td>\n",
       "      <td>USAGE UNKNOWN</td>\n",
       "      <td>NO INDICATION OF INJURY</td>\n",
       "      <td>UNKNOWN</td>\n",
       "    </tr>\n",
       "  </tbody>\n",
       "</table>\n",
       "<p>1171681 rows × 18 columns</p>\n",
       "</div>"
      ],
      "text/plain": [
       "         POSTED_SPEED_LIMIT TRAFFIC_CONTROL_DEVICE WEATHER_CONDITION  \\\n",
       "0                        35            NO CONTROLS             CLEAR   \n",
       "1                        35            NO CONTROLS             CLEAR   \n",
       "2                        35            NO CONTROLS             CLEAR   \n",
       "3                        35      STOP SIGN/FLASHER             CLEAR   \n",
       "4                        35      STOP SIGN/FLASHER             CLEAR   \n",
       "...                     ...                    ...               ...   \n",
       "1171676                  20            NO CONTROLS             CLEAR   \n",
       "1171677                  25            NO CONTROLS           UNKNOWN   \n",
       "1171678                  30            NO CONTROLS             CLEAR   \n",
       "1171679                  30            NO CONTROLS             CLEAR   \n",
       "1171680                  30            NO CONTROLS             CLEAR   \n",
       "\n",
       "             LIGHTING_CONDITION ROADWAY_SURFACE_COND ROAD_DEFECT  \\\n",
       "0                      DAYLIGHT                  DRY  NO DEFECTS   \n",
       "1                      DAYLIGHT                  DRY  NO DEFECTS   \n",
       "2                      DAYLIGHT                  DRY  NO DEFECTS   \n",
       "3                      DAYLIGHT                  DRY  NO DEFECTS   \n",
       "4                      DAYLIGHT                  DRY  NO DEFECTS   \n",
       "...                         ...                  ...         ...   \n",
       "1171676                    DUSK                  DRY  NO DEFECTS   \n",
       "1171677                 UNKNOWN              UNKNOWN     UNKNOWN   \n",
       "1171678                DAYLIGHT                  DRY  NO DEFECTS   \n",
       "1171679                DAYLIGHT                  DRY  NO DEFECTS   \n",
       "1171680  DARKNESS, LIGHTED ROAD                  DRY  NO DEFECTS   \n",
       "\n",
       "        INTERSECTION_RELATED_I                 PRIM_CONTRIBUTORY_CAUSE  \\\n",
       "0                          NaN                        IMPROPER BACKING   \n",
       "1                          NaN                        IMPROPER BACKING   \n",
       "2                          NaN                        IMPROPER BACKING   \n",
       "3                            Y           FAILING TO YIELD RIGHT-OF-WAY   \n",
       "4                            Y           FAILING TO YIELD RIGHT-OF-WAY   \n",
       "...                        ...                                     ...   \n",
       "1171676                    NaN                     UNABLE TO DETERMINE   \n",
       "1171677                    NaN                     UNABLE TO DETERMINE   \n",
       "1171678                      Y                     UNABLE TO DETERMINE   \n",
       "1171679                      Y                     UNABLE TO DETERMINE   \n",
       "1171680                    NaN  FAILING TO REDUCE SPEED TO AVOID CRASH   \n",
       "\n",
       "          STREET_NAME  CRASH_HOUR  CRASH_DAY_OF_WEEK  CRASH_MONTH PERSON_TYPE  \\\n",
       "0         MARMORA AVE          17                  4            7      DRIVER   \n",
       "1         MARMORA AVE          17                  4            7      DRIVER   \n",
       "2         MARMORA AVE          17                  4            7   PASSENGER   \n",
       "3          CICERO AVE          16                  6            6      DRIVER   \n",
       "4          CICERO AVE          16                  6            6      DRIVER   \n",
       "...               ...         ...                ...          ...         ...   \n",
       "1171676     BENTON PL          19                  3            7      DRIVER   \n",
       "1171677   SAGINAW AVE          14                  1            7      DRIVER   \n",
       "1171678  MICHIGAN AVE          10                  2            7      DRIVER   \n",
       "1171679  MICHIGAN AVE          10                  2            7      DRIVER   \n",
       "1171680       50TH ST          22                  3            7      DRIVER   \n",
       "\n",
       "        SEX   AGE  SAFETY_EQUIPMENT    INJURY_CLASSIFICATION  \\\n",
       "0         M  31.0     USAGE UNKNOWN  NO INDICATION OF INJURY   \n",
       "1         M  43.0     USAGE UNKNOWN  NO INDICATION OF INJURY   \n",
       "2         M  28.0     USAGE UNKNOWN  NO INDICATION OF INJURY   \n",
       "3         F  20.0     USAGE UNKNOWN  NO INDICATION OF INJURY   \n",
       "4         F  26.0  SAFETY BELT USED  NO INDICATION OF INJURY   \n",
       "...      ..   ...               ...                      ...   \n",
       "1171676   M   NaN  SAFETY BELT USED  NO INDICATION OF INJURY   \n",
       "1171677   X   NaN     USAGE UNKNOWN  NO INDICATION OF INJURY   \n",
       "1171678   M   NaN     USAGE UNKNOWN  NO INDICATION OF INJURY   \n",
       "1171679   F  25.0  SAFETY BELT USED    REPORTED, NOT EVIDENT   \n",
       "1171680   F   NaN     USAGE UNKNOWN  NO INDICATION OF INJURY   \n",
       "\n",
       "        PHYSICAL_CONDITION  \n",
       "0                   NORMAL  \n",
       "1                   NORMAL  \n",
       "2                      NaN  \n",
       "3                  UNKNOWN  \n",
       "4                   NORMAL  \n",
       "...                    ...  \n",
       "1171676             NORMAL  \n",
       "1171677            UNKNOWN  \n",
       "1171678            UNKNOWN  \n",
       "1171679             NORMAL  \n",
       "1171680            UNKNOWN  \n",
       "\n",
       "[1171681 rows x 18 columns]"
      ]
     },
     "execution_count": 3,
     "metadata": {},
     "output_type": "execute_result"
    }
   ],
   "source": [
    "#drop irrelevant columns\n",
    "drop_cols = ['CRASH_RECORD_ID','RD_NO_x', 'CRASH_DATE_EST_I', 'BEAT_OF_OCCURRENCE', 'DATE_POLICE_NOTIFIED', \n",
    "             'REPORT_TYPE', 'DAMAGE', 'PHOTOS_TAKEN_I', 'STATEMENTS_TAKEN_I', 'MOST_SEVERE_INJURY', \n",
    "             'INJURIES_TOTAL', 'INJURIES_FATAL', 'INJURIES_INCAPACITATING', 'INJURIES_NON_INCAPACITATING', \n",
    "             'INJURIES_REPORTED_NOT_EVIDENT', 'INJURIES_NO_INDICATION', 'INJURIES_UNKNOWN', 'ALIGNMENT', \n",
    "             'DEVICE_CONDITION', 'STREET_NO', 'STREET_DIRECTION', 'WORK_ZONE_TYPE', 'WORKERS_PRESENT_I', \n",
    "             'LANE_CNT', 'PERSON_ID', 'VEHICLE_ID', 'CRASH_DATE_y', 'CITY', 'STATE', 'ZIPCODE', 'LATITUDE', \n",
    "             'LONGITUDE', 'RD_NO_y', 'DRIVERS_LICENSE_STATE', 'AIRBAG_DEPLOYED', 'EJECTION', 'HOSPITAL', \n",
    "             'EMS_AGENCY', 'EMS_RUN_NO', 'PEDPEDAL_ACTION', 'PEDPEDAL_VISIBILITY', 'PEDPEDAL_LOCATION', \n",
    "             'BAC_RESULT VALUE', 'CELL_PHONE_USE', 'CRASH_DATE_x', 'DOORING_I', 'NOT_RIGHT_OF_WAY_I', \n",
    "             'HIT_AND_RUN_I', 'SEC_CONTRIBUTORY_CAUSE', 'WORK_ZONE_I', 'SEAT_NO', 'FIRST_CRASH_TYPE', \n",
    "             'TRAFFICWAY_TYPE', 'CRASH_TYPE', 'NUM_UNITS', 'LOCATION', 'BAC_RESULT', 'DRIVER_ACTION', \n",
    "             'DRIVER_VISION', 'DRIVERS_LICENSE_CLASS']\n",
    "\n",
    "all_df.drop(drop_cols, axis=1, inplace=True)\n",
    "all_df"
   ]
  },
  {
   "cell_type": "code",
   "execution_count": 4,
   "metadata": {},
   "outputs": [
    {
     "name": "stdout",
     "output_type": "stream",
     "text": [
      "<class 'pandas.core.frame.DataFrame'>\n",
      "Int64Index: 909400 entries, 0 to 1171680\n",
      "Data columns (total 17 columns):\n",
      " #   Column                   Non-Null Count   Dtype  \n",
      "---  ------                   --------------   -----  \n",
      " 0   POSTED_SPEED_LIMIT       909400 non-null  int64  \n",
      " 1   TRAFFIC_CONTROL_DEVICE   909400 non-null  object \n",
      " 2   WEATHER_CONDITION        909400 non-null  object \n",
      " 3   LIGHTING_CONDITION       909400 non-null  object \n",
      " 4   ROADWAY_SURFACE_COND     909400 non-null  object \n",
      " 5   ROAD_DEFECT              909400 non-null  object \n",
      " 6   INTERSECTION_RELATED_I   234552 non-null  object \n",
      " 7   PRIM_CONTRIBUTORY_CAUSE  909400 non-null  object \n",
      " 8   STREET_NAME              909398 non-null  object \n",
      " 9   CRASH_HOUR               909400 non-null  int64  \n",
      " 10  CRASH_DAY_OF_WEEK        909400 non-null  int64  \n",
      " 11  CRASH_MONTH              909400 non-null  int64  \n",
      " 12  SEX                      909303 non-null  object \n",
      " 13  AGE                      670866 non-null  float64\n",
      " 14  SAFETY_EQUIPMENT         909400 non-null  object \n",
      " 15  INJURY_CLASSIFICATION    909400 non-null  object \n",
      " 16  PHYSICAL_CONDITION       909400 non-null  object \n",
      "dtypes: float64(1), int64(4), object(12)\n",
      "memory usage: 124.9+ MB\n"
     ]
    }
   ],
   "source": [
    "#drop rows where the accident is not from a car driver\n",
    "all_df.drop(all_df.loc[all_df['PERSON_TYPE'] != 'DRIVER'].index, inplace=True)\n",
    "#drop column PERSON_TYPE as only needed to determine all records were from car drivers\n",
    "all_df.drop('PERSON_TYPE', axis=1, inplace=True)\n",
    "all_df.info()"
   ]
  },
  {
   "cell_type": "code",
   "execution_count": 5,
   "metadata": {},
   "outputs": [],
   "source": [
    "#FUNCTIONS TO CHANGE INDIVIDUAL COLUMNS\n",
    "def speed_limit(rate):\n",
    "    speed = float(rate)\n",
    "    if speed < 10:\n",
    "        return '-10'\n",
    "    elif speed < 15:\n",
    "        return '10'\n",
    "    elif speed < 20:\n",
    "        return '15'\n",
    "    elif speed < 25:\n",
    "        return '20'\n",
    "    elif speed < 30:\n",
    "        return '25'\n",
    "    elif speed < 35:\n",
    "        return '30'\n",
    "    elif speed < 40:\n",
    "        return '35'\n",
    "    elif speed < 45:\n",
    "        return '40'\n",
    "    elif speed < 50:\n",
    "        return '45'\n",
    "    else:\n",
    "        return '+45'\n",
    "    \n",
    "    \n",
    "def traffic_device(device):\n",
    "    keep = ['NO CONTROLS', 'TRAFFIC SIGNAL', 'STOP SIGN/FLASHER', 'UNKNOWN', 'OTHER']\n",
    "    if device in keep:\n",
    "        return device\n",
    "    else:\n",
    "        return 'OTHER'\n",
    "\n",
    "    \n",
    "def weather(condition):\n",
    "    keep = ['CLEAR', 'RAIN', 'SNOW', 'UNKNOWN', 'OTHER']\n",
    "    if condition in keep:\n",
    "        return condition\n",
    "    else:\n",
    "        return 'OTHER'\n",
    "\n",
    "\n",
    "def defects(defect):\n",
    "    keep = ['NO DEFECTS', 'UNKNOWN', 'OTHER']\n",
    "    if defect in keep:\n",
    "        return defect\n",
    "    else:\n",
    "        return 'OTHER'\n",
    "\n",
    "    \n",
    "def time(hour):\n",
    "    peak = [6,7,8,9,10,14,15,16,17,18,19]\n",
    "    if hour in peak:\n",
    "        return 'RUSH HRS'\n",
    "    else:\n",
    "        return 'NON RUSH HRS'\n",
    "\n",
    "    \n",
    "def age_range(age):\n",
    "    if age <= 15:\n",
    "        return 'TOO YOUNG'\n",
    "    if age < 20:\n",
    "        return 'TEENAGER'\n",
    "    elif age < 30:\n",
    "        return 'TWENTIES'\n",
    "    elif age < 40:\n",
    "        return 'THIRTIES'\n",
    "    elif age < 50:\n",
    "        return 'FORTIES'\n",
    "    elif age < 60:\n",
    "        return 'FIFTIES'\n",
    "    elif age < 70:\n",
    "        return 'SIXTIES'\n",
    "    elif age < 80:\n",
    "        return 'SEVENTIES'\n",
    "    else:\n",
    "        return 'EIGHTY OR OLDER'\n",
    "\n",
    "    \n",
    "def safety(equipment):\n",
    "    keep = ['USAGE UNKNOWN', 'NONE PRESENT']\n",
    "    used = ['SAFETY BELT USED', 'CHILD RESTRAINT USED', 'CHILD RESTRAINT - FORWARD FACING', \n",
    "            'BICYCLE HELMET (PEDACYCLIST INVOLVED ONLY)', 'HELMET USED', 'DOT COMPLIANT MOTORCYCLE HELMET', \n",
    "            'CHILD RESTRAINT - TYPE UNKNOWN', 'CHILD RESTRAINT - REAR FACING', 'BOOSTER SEAT']\n",
    "    if equipment in keep:\n",
    "        return equipment\n",
    "    elif equipment in used:\n",
    "        return 'SAFETY USED'\n",
    "    elif 'IMPROPERLY' in equipment:\n",
    "        return 'USED IMPROPERLY'\n",
    "    elif 'NOT USED' in equipment:\n",
    "        return 'NOT USED'\n",
    "    elif 'NOT DOT' in equipment:\n",
    "        return 'USED IMPROPERLY'\n",
    "    else:\n",
    "        return 'OTHER' \n",
    "\n",
    "    \n",
    "def road_surface(condition):\n",
    "    keep = ['WET', 'DRY', 'OTHER', 'UNKNOWN']\n",
    "    wet = ['SNOW OR SLUSH', 'ICE']\n",
    "    if condition in keep:\n",
    "        return condition\n",
    "    elif condition in wet:\n",
    "        return 'WET'\n",
    "    else:\n",
    "        return 'OTHER'\n",
    "\n",
    "    \n",
    "names = list(all_df.STREET_NAME.value_counts().sort_values()[1518:].index)\n",
    "def street_acc(name):\n",
    "    if name in names:\n",
    "        return 'HIGH ACCIDENT RATE'\n",
    "    else:\n",
    "        return 'LOW ACCIDENT RATE'\n",
    "\n",
    "\n",
    "def phys_cond(condition):\n",
    "    keep = ['NORMAL', 'UNKNOWN', 'OTHER']\n",
    "    substance = ['HAD BEEN DRINKING', 'MEDICATED']\n",
    "    physical = ['FATIGUED/ASLEEP', 'EMOTIONAL', 'ILLNESS/FAINTED']\n",
    "    if condition in keep:\n",
    "        return condition\n",
    "    elif 'IMPAIRED' in condition:\n",
    "        return 'IMPAIRED'\n",
    "    elif condition in substance:\n",
    "        return 'IMPAIRED'\n",
    "    elif condition in physical:\n",
    "        return 'FATIGUE/ILL/EMOTION'\n",
    "    else:\n",
    "        return 'OTHER'\n",
    "\n",
    "def primary(cause):\n",
    "    keep = ['UNABLE TO DETERMINE', 'NOT APPLICABLE', 'WEATHER']\n",
    "    construction = ['ROAD CONSTRUCTION/MAINTENANCE', 'ROAD ENGINEERING/SURFACE/MARKING DEFECTS']\n",
    "    not_driver = ['VISION OBSCURED (SIGNS, TREE LIMBS, BUILDINGS, ETC.)', \n",
    "                  'EVASIVE ACTION DUE TO ANIMAL, OBJECT, NONMOTORIST', 'ANIMAL', 'OBSTRUCTED CROSSWALKS']\n",
    "    if cause in keep:\n",
    "        return cause\n",
    "    elif cause in construction:\n",
    "        return 'CONSTRUCTION'\n",
    "    elif cause in not_driver:\n",
    "        return 'NOT DRIVER FAULT'\n",
    "    else:\n",
    "        return 'DRIVER FAULT'"
   ]
  },
  {
   "cell_type": "code",
   "execution_count": 6,
   "metadata": {},
   "outputs": [
    {
     "data": {
      "text/html": [
       "<div>\n",
       "<style scoped>\n",
       "    .dataframe tbody tr th:only-of-type {\n",
       "        vertical-align: middle;\n",
       "    }\n",
       "\n",
       "    .dataframe tbody tr th {\n",
       "        vertical-align: top;\n",
       "    }\n",
       "\n",
       "    .dataframe thead th {\n",
       "        text-align: right;\n",
       "    }\n",
       "</style>\n",
       "<table border=\"1\" class=\"dataframe\">\n",
       "  <thead>\n",
       "    <tr style=\"text-align: right;\">\n",
       "      <th></th>\n",
       "      <th>POSTED_SPEED_LIMIT</th>\n",
       "      <th>TRAFFIC_CONTROL_DEVICE</th>\n",
       "      <th>WEATHER_CONDITION</th>\n",
       "      <th>LIGHTING_CONDITION</th>\n",
       "      <th>ROADWAY_SURFACE_COND</th>\n",
       "      <th>ROAD_DEFECT</th>\n",
       "      <th>INTERSECTION_RELATED_I</th>\n",
       "      <th>PRIM_CONTRIBUTORY_CAUSE</th>\n",
       "      <th>STREET_NAME</th>\n",
       "      <th>CRASH_HOUR</th>\n",
       "      <th>CRASH_DAY_OF_WEEK</th>\n",
       "      <th>CRASH_MONTH</th>\n",
       "      <th>SEX</th>\n",
       "      <th>AGE</th>\n",
       "      <th>SAFETY_EQUIPMENT</th>\n",
       "      <th>INJURY_CLASSIFICATION</th>\n",
       "      <th>PHYSICAL_CONDITION</th>\n",
       "    </tr>\n",
       "  </thead>\n",
       "  <tbody>\n",
       "    <tr>\n",
       "      <th>0</th>\n",
       "      <td>35</td>\n",
       "      <td>NO CONTROLS</td>\n",
       "      <td>CLEAR</td>\n",
       "      <td>DAYLIGHT</td>\n",
       "      <td>DRY</td>\n",
       "      <td>NO DEFECTS</td>\n",
       "      <td>NaN</td>\n",
       "      <td>DRIVER FAULT</td>\n",
       "      <td>LOW ACCIDENT RATE</td>\n",
       "      <td>RUSH HRS</td>\n",
       "      <td>4</td>\n",
       "      <td>7</td>\n",
       "      <td>M</td>\n",
       "      <td>THIRTIES</td>\n",
       "      <td>USAGE UNKNOWN</td>\n",
       "      <td>NO INDICATION OF INJURY</td>\n",
       "      <td>NORMAL</td>\n",
       "    </tr>\n",
       "    <tr>\n",
       "      <th>1</th>\n",
       "      <td>35</td>\n",
       "      <td>NO CONTROLS</td>\n",
       "      <td>CLEAR</td>\n",
       "      <td>DAYLIGHT</td>\n",
       "      <td>DRY</td>\n",
       "      <td>NO DEFECTS</td>\n",
       "      <td>NaN</td>\n",
       "      <td>DRIVER FAULT</td>\n",
       "      <td>LOW ACCIDENT RATE</td>\n",
       "      <td>RUSH HRS</td>\n",
       "      <td>4</td>\n",
       "      <td>7</td>\n",
       "      <td>M</td>\n",
       "      <td>FORTIES</td>\n",
       "      <td>USAGE UNKNOWN</td>\n",
       "      <td>NO INDICATION OF INJURY</td>\n",
       "      <td>NORMAL</td>\n",
       "    </tr>\n",
       "    <tr>\n",
       "      <th>3</th>\n",
       "      <td>35</td>\n",
       "      <td>STOP SIGN/FLASHER</td>\n",
       "      <td>CLEAR</td>\n",
       "      <td>DAYLIGHT</td>\n",
       "      <td>DRY</td>\n",
       "      <td>NO DEFECTS</td>\n",
       "      <td>Y</td>\n",
       "      <td>DRIVER FAULT</td>\n",
       "      <td>HIGH ACCIDENT RATE</td>\n",
       "      <td>RUSH HRS</td>\n",
       "      <td>6</td>\n",
       "      <td>6</td>\n",
       "      <td>F</td>\n",
       "      <td>TWENTIES</td>\n",
       "      <td>USAGE UNKNOWN</td>\n",
       "      <td>NO INDICATION OF INJURY</td>\n",
       "      <td>UNKNOWN</td>\n",
       "    </tr>\n",
       "    <tr>\n",
       "      <th>4</th>\n",
       "      <td>35</td>\n",
       "      <td>STOP SIGN/FLASHER</td>\n",
       "      <td>CLEAR</td>\n",
       "      <td>DAYLIGHT</td>\n",
       "      <td>DRY</td>\n",
       "      <td>NO DEFECTS</td>\n",
       "      <td>Y</td>\n",
       "      <td>DRIVER FAULT</td>\n",
       "      <td>HIGH ACCIDENT RATE</td>\n",
       "      <td>RUSH HRS</td>\n",
       "      <td>6</td>\n",
       "      <td>6</td>\n",
       "      <td>F</td>\n",
       "      <td>TWENTIES</td>\n",
       "      <td>SAFETY USED</td>\n",
       "      <td>NO INDICATION OF INJURY</td>\n",
       "      <td>NORMAL</td>\n",
       "    </tr>\n",
       "    <tr>\n",
       "      <th>6</th>\n",
       "      <td>30</td>\n",
       "      <td>TRAFFIC SIGNAL</td>\n",
       "      <td>CLEAR</td>\n",
       "      <td>DAYLIGHT</td>\n",
       "      <td>DRY</td>\n",
       "      <td>NO DEFECTS</td>\n",
       "      <td>NaN</td>\n",
       "      <td>DRIVER FAULT</td>\n",
       "      <td>LOW ACCIDENT RATE</td>\n",
       "      <td>RUSH HRS</td>\n",
       "      <td>6</td>\n",
       "      <td>7</td>\n",
       "      <td>M</td>\n",
       "      <td>FIFTIES</td>\n",
       "      <td>USAGE UNKNOWN</td>\n",
       "      <td>NO INDICATION OF INJURY</td>\n",
       "      <td>NORMAL</td>\n",
       "    </tr>\n",
       "  </tbody>\n",
       "</table>\n",
       "</div>"
      ],
      "text/plain": [
       "  POSTED_SPEED_LIMIT TRAFFIC_CONTROL_DEVICE WEATHER_CONDITION  \\\n",
       "0                 35            NO CONTROLS             CLEAR   \n",
       "1                 35            NO CONTROLS             CLEAR   \n",
       "3                 35      STOP SIGN/FLASHER             CLEAR   \n",
       "4                 35      STOP SIGN/FLASHER             CLEAR   \n",
       "6                 30         TRAFFIC SIGNAL             CLEAR   \n",
       "\n",
       "  LIGHTING_CONDITION ROADWAY_SURFACE_COND ROAD_DEFECT INTERSECTION_RELATED_I  \\\n",
       "0           DAYLIGHT                  DRY  NO DEFECTS                    NaN   \n",
       "1           DAYLIGHT                  DRY  NO DEFECTS                    NaN   \n",
       "3           DAYLIGHT                  DRY  NO DEFECTS                      Y   \n",
       "4           DAYLIGHT                  DRY  NO DEFECTS                      Y   \n",
       "6           DAYLIGHT                  DRY  NO DEFECTS                    NaN   \n",
       "\n",
       "  PRIM_CONTRIBUTORY_CAUSE         STREET_NAME CRASH_HOUR  CRASH_DAY_OF_WEEK  \\\n",
       "0            DRIVER FAULT   LOW ACCIDENT RATE   RUSH HRS                  4   \n",
       "1            DRIVER FAULT   LOW ACCIDENT RATE   RUSH HRS                  4   \n",
       "3            DRIVER FAULT  HIGH ACCIDENT RATE   RUSH HRS                  6   \n",
       "4            DRIVER FAULT  HIGH ACCIDENT RATE   RUSH HRS                  6   \n",
       "6            DRIVER FAULT   LOW ACCIDENT RATE   RUSH HRS                  6   \n",
       "\n",
       "   CRASH_MONTH SEX       AGE SAFETY_EQUIPMENT    INJURY_CLASSIFICATION  \\\n",
       "0            7   M  THIRTIES    USAGE UNKNOWN  NO INDICATION OF INJURY   \n",
       "1            7   M   FORTIES    USAGE UNKNOWN  NO INDICATION OF INJURY   \n",
       "3            6   F  TWENTIES    USAGE UNKNOWN  NO INDICATION OF INJURY   \n",
       "4            6   F  TWENTIES      SAFETY USED  NO INDICATION OF INJURY   \n",
       "6            7   M   FIFTIES    USAGE UNKNOWN  NO INDICATION OF INJURY   \n",
       "\n",
       "  PHYSICAL_CONDITION  \n",
       "0             NORMAL  \n",
       "1             NORMAL  \n",
       "3            UNKNOWN  \n",
       "4             NORMAL  \n",
       "6             NORMAL  "
      ]
     },
     "execution_count": 6,
     "metadata": {},
     "output_type": "execute_result"
    }
   ],
   "source": [
    "#apply functions to appropriate columns\n",
    "all_df.POSTED_SPEED_LIMIT = all_df.POSTED_SPEED_LIMIT.apply(speed_limit)\n",
    "all_df.TRAFFIC_CONTROL_DEVICE = all_df.TRAFFIC_CONTROL_DEVICE.apply(traffic_device)\n",
    "all_df.WEATHER_CONDITION = all_df.WEATHER_CONDITION.apply(weather)\n",
    "all_df.ROAD_DEFECT = all_df.ROAD_DEFECT.apply(defects)\n",
    "all_df.CRASH_HOUR = all_df.CRASH_HOUR.apply(time)\n",
    "all_df.AGE = all_df.AGE.apply(age_range)\n",
    "all_df.SAFETY_EQUIPMENT = all_df.SAFETY_EQUIPMENT.apply(safety)\n",
    "all_df.ROADWAY_SURFACE_COND = all_df.ROADWAY_SURFACE_COND.apply(road_surface)\n",
    "all_df.PHYSICAL_CONDITION = all_df.PHYSICAL_CONDITION.apply(phys_cond)\n",
    "all_df.PRIM_CONTRIBUTORY_CAUSE = all_df.PRIM_CONTRIBUTORY_CAUSE.apply(primary)\n",
    "\n",
    "\n",
    "names = list(all_df.STREET_NAME.value_counts().sort_values()[1518:].index)\n",
    "all_df.STREET_NAME = all_df.STREET_NAME.apply(street_acc)\n",
    "\n",
    "all_df.head()"
   ]
  },
  {
   "cell_type": "code",
   "execution_count": 7,
   "metadata": {},
   "outputs": [
    {
     "data": {
      "text/plain": [
       "Y    223975\n",
       "N     10577\n",
       "Name: INTERSECTION_RELATED_I, dtype: int64"
      ]
     },
     "execution_count": 7,
     "metadata": {},
     "output_type": "execute_result"
    }
   ],
   "source": [
    "all_df.INTERSECTION_RELATED_I.value_counts()"
   ]
  },
  {
   "cell_type": "code",
   "execution_count": 8,
   "metadata": {},
   "outputs": [
    {
     "data": {
      "text/plain": [
       "(234552, 17)"
      ]
     },
     "execution_count": 8,
     "metadata": {},
     "output_type": "execute_result"
    }
   ],
   "source": [
    "#drop rows with NaN in the INTERSECTION_RELATED_I column\n",
    "all_df = all_df[all_df.INTERSECTION_RELATED_I.notna()]\n",
    "all_df.shape"
   ]
  },
  {
   "cell_type": "code",
   "execution_count": 9,
   "metadata": {},
   "outputs": [],
   "source": [
    "import numpy as np\n",
    "all_df = all_df.replace('UNKNOWN', np.nan)"
   ]
  },
  {
   "cell_type": "code",
   "execution_count": 10,
   "metadata": {},
   "outputs": [
    {
     "name": "stdout",
     "output_type": "stream",
     "text": [
      "<class 'pandas.core.frame.DataFrame'>\n",
      "Int64Index: 234552 entries, 3 to 1171679\n",
      "Data columns (total 17 columns):\n",
      " #   Column                   Non-Null Count   Dtype \n",
      "---  ------                   --------------   ----- \n",
      " 0   POSTED_SPEED_LIMIT       234552 non-null  object\n",
      " 1   TRAFFIC_CONTROL_DEVICE   230821 non-null  object\n",
      " 2   WEATHER_CONDITION        229678 non-null  object\n",
      " 3   LIGHTING_CONDITION       231656 non-null  object\n",
      " 4   ROADWAY_SURFACE_COND     224235 non-null  object\n",
      " 5   ROAD_DEFECT              203571 non-null  object\n",
      " 6   INTERSECTION_RELATED_I   234552 non-null  object\n",
      " 7   PRIM_CONTRIBUTORY_CAUSE  234552 non-null  object\n",
      " 8   STREET_NAME              234552 non-null  object\n",
      " 9   CRASH_HOUR               234552 non-null  object\n",
      " 10  CRASH_DAY_OF_WEEK        234552 non-null  int64 \n",
      " 11  CRASH_MONTH              234552 non-null  int64 \n",
      " 12  SEX                      234538 non-null  object\n",
      " 13  AGE                      234552 non-null  object\n",
      " 14  SAFETY_EQUIPMENT         234552 non-null  object\n",
      " 15  INJURY_CLASSIFICATION    234552 non-null  object\n",
      " 16  PHYSICAL_CONDITION       181473 non-null  object\n",
      "dtypes: int64(2), object(15)\n",
      "memory usage: 32.2+ MB\n"
     ]
    }
   ],
   "source": [
    "all_df.info()"
   ]
  },
  {
   "cell_type": "code",
   "execution_count": 11,
   "metadata": {},
   "outputs": [
    {
     "data": {
      "text/plain": [
       "(162301, 17)"
      ]
     },
     "execution_count": 11,
     "metadata": {},
     "output_type": "execute_result"
    }
   ],
   "source": [
    "all_df = all_df.dropna()\n",
    "all_df.shape"
   ]
  },
  {
   "cell_type": "code",
   "execution_count": 12,
   "metadata": {},
   "outputs": [
    {
     "data": {
      "text/plain": [
       "NO INDICATION OF INJURY     143297\n",
       "NONINCAPACITATING INJURY     10592\n",
       "REPORTED, NOT EVIDENT         6573\n",
       "INCAPACITATING INJURY         1793\n",
       "FATAL                           46\n",
       "Name: INJURY_CLASSIFICATION, dtype: int64"
      ]
     },
     "execution_count": 12,
     "metadata": {},
     "output_type": "execute_result"
    }
   ],
   "source": [
    "all_df.INJURY_CLASSIFICATION.value_counts()"
   ]
  },
  {
   "cell_type": "code",
   "execution_count": 13,
   "metadata": {},
   "outputs": [],
   "source": [
    "#change INJURY_CLASSIFICATION column values to indicate whether accident yielded an injury or not\n",
    "all_df.INJURY_CLASSIFICATION = np.where((all_df.INJURY_CLASSIFICATION == 'NO INDICATION OF INJURY'), 'NO INJURY', 'INJURY')"
   ]
  },
  {
   "cell_type": "code",
   "execution_count": 14,
   "metadata": {},
   "outputs": [
    {
     "data": {
      "text/plain": [
       "NO INJURY    143297\n",
       "INJURY        19004\n",
       "Name: INJURY_CLASSIFICATION, dtype: int64"
      ]
     },
     "execution_count": 14,
     "metadata": {},
     "output_type": "execute_result"
    }
   ],
   "source": [
    "all_df.INJURY_CLASSIFICATION.value_counts()"
   ]
  },
  {
   "cell_type": "code",
   "execution_count": 15,
   "metadata": {},
   "outputs": [
    {
     "data": {
      "text/plain": [
       "SAFETY USED        114961\n",
       "USAGE UNKNOWN       43165\n",
       "NONE PRESENT         3149\n",
       "NOT USED              989\n",
       "USED IMPROPERLY        37\n",
       "Name: SAFETY_EQUIPMENT, dtype: int64"
      ]
     },
     "execution_count": 15,
     "metadata": {},
     "output_type": "execute_result"
    }
   ],
   "source": [
    "all_df.SAFETY_EQUIPMENT.value_counts()"
   ]
  },
  {
   "cell_type": "code",
   "execution_count": 16,
   "metadata": {},
   "outputs": [
    {
     "data": {
      "text/plain": [
       "HIGH ACCIDENT RATE    93487\n",
       "LOW ACCIDENT RATE     68814\n",
       "Name: STREET_NAME, dtype: int64"
      ]
     },
     "execution_count": 16,
     "metadata": {},
     "output_type": "execute_result"
    }
   ],
   "source": [
    "all_df.STREET_NAME.value_counts()"
   ]
  },
  {
   "cell_type": "code",
   "execution_count": 17,
   "metadata": {},
   "outputs": [
    {
     "data": {
      "text/plain": [
       "['POSTED_SPEED_LIMIT',\n",
       " 'TRAFFIC_CONTROL_DEVICE',\n",
       " 'WEATHER_CONDITION',\n",
       " 'LIGHTING_CONDITION',\n",
       " 'ROADWAY_SURFACE_COND',\n",
       " 'ROAD_DEFECT',\n",
       " 'INTERSECTION_RELATED_I',\n",
       " 'PRIM_CONTRIBUTORY_CAUSE',\n",
       " 'ACCIDENT_RATE',\n",
       " 'CRASH_HOUR',\n",
       " 'CRASH_DAY_OF_WEEK',\n",
       " 'CRASH_MONTH',\n",
       " 'SEX',\n",
       " 'AGE',\n",
       " 'SAFETY_EQUIPMENT',\n",
       " 'INJURY_CLASSIFICATION',\n",
       " 'PHYSICAL_CONDITION']"
      ]
     },
     "execution_count": 17,
     "metadata": {},
     "output_type": "execute_result"
    }
   ],
   "source": [
    "#rename STREET_NAME column to ACCIDENT_RATE as column now indicates whether street has a high or low accident rate\n",
    "all_df.rename(columns={'STREET_NAME':'ACCIDENT_RATE'}, inplace=True)\n",
    "list(all_df.columns)"
   ]
  },
  {
   "cell_type": "code",
   "execution_count": 18,
   "metadata": {},
   "outputs": [
    {
     "data": {
      "text/plain": [
       "M    96665\n",
       "F    65462\n",
       "X      174\n",
       "Name: SEX, dtype: int64"
      ]
     },
     "execution_count": 18,
     "metadata": {},
     "output_type": "execute_result"
    }
   ],
   "source": [
    "all_df.SEX.value_counts()"
   ]
  },
  {
   "cell_type": "code",
   "execution_count": 19,
   "metadata": {},
   "outputs": [
    {
     "data": {
      "text/plain": [
       "TWENTIES           42259\n",
       "THIRTIES           35006\n",
       "FORTIES            26732\n",
       "FIFTIES            21920\n",
       "SIXTIES            13452\n",
       "EIGHTY OR OLDER    10296\n",
       "TEENAGER            6068\n",
       "SEVENTIES           5017\n",
       "TOO YOUNG           1551\n",
       "Name: AGE, dtype: int64"
      ]
     },
     "execution_count": 19,
     "metadata": {},
     "output_type": "execute_result"
    }
   ],
   "source": [
    "all_df.AGE.value_counts()"
   ]
  },
  {
   "cell_type": "code",
   "execution_count": 20,
   "metadata": {},
   "outputs": [
    {
     "name": "stdout",
     "output_type": "stream",
     "text": [
      "<class 'pandas.core.frame.DataFrame'>\n",
      "Int64Index: 162301 entries, 4 to 1171679\n",
      "Data columns (total 17 columns):\n",
      " #   Column                   Non-Null Count   Dtype \n",
      "---  ------                   --------------   ----- \n",
      " 0   POSTED_SPEED_LIMIT       162301 non-null  object\n",
      " 1   TRAFFIC_CONTROL_DEVICE   162301 non-null  object\n",
      " 2   WEATHER_CONDITION        162301 non-null  object\n",
      " 3   LIGHTING_CONDITION       162301 non-null  object\n",
      " 4   ROADWAY_SURFACE_COND     162301 non-null  object\n",
      " 5   ROAD_DEFECT              162301 non-null  object\n",
      " 6   INTERSECTION_RELATED_I   162301 non-null  object\n",
      " 7   PRIM_CONTRIBUTORY_CAUSE  162301 non-null  object\n",
      " 8   ACCIDENT_RATE            162301 non-null  object\n",
      " 9   CRASH_HOUR               162301 non-null  object\n",
      " 10  CRASH_DAY_OF_WEEK        162301 non-null  int64 \n",
      " 11  CRASH_MONTH              162301 non-null  int64 \n",
      " 12  SEX                      162301 non-null  object\n",
      " 13  AGE                      162301 non-null  object\n",
      " 14  SAFETY_EQUIPMENT         162301 non-null  object\n",
      " 15  INJURY_CLASSIFICATION    162301 non-null  object\n",
      " 16  PHYSICAL_CONDITION       162301 non-null  object\n",
      "dtypes: int64(2), object(15)\n",
      "memory usage: 22.3+ MB\n"
     ]
    }
   ],
   "source": [
    "all_df.info()"
   ]
  },
  {
   "cell_type": "code",
   "execution_count": 21,
   "metadata": {},
   "outputs": [],
   "source": [
    "#ensure all values of dataframe are strings for One Hot Encoder\n",
    "all_df = all_df.astype('str')"
   ]
  },
  {
   "cell_type": "code",
   "execution_count": 22,
   "metadata": {},
   "outputs": [],
   "source": [
    "from sklearn.preprocessing import OneHotEncoder\n",
    "from sklearn.model_selection import train_test_split\n",
    "\n",
    "#split data into features and target\n",
    "X = all_df.drop('INJURY_CLASSIFICATION', axis=1)\n",
    "y = all_df.INJURY_CLASSIFICATION\n",
    "\n",
    "#train test split X (the features of the dataset) using random state of 42\n",
    "X_train, X_test, y_train, y_test = train_test_split(X, y, test_size=0.25, random_state=42)\n",
    "\n",
    "#One Hot Encode X on both training (fit and transform) and testing data (transofrm only)\n",
    "ohe = OneHotEncoder()\n",
    "X_train_ohe = ohe.fit_transform(X_train).toarray()\n",
    "X_test_ohe = ohe.transform(X_test).toarray()\n"
   ]
  },
  {
   "cell_type": "code",
   "execution_count": 23,
   "metadata": {},
   "outputs": [],
   "source": [
    "#turning predictors into dataframes\n",
    "X_train_df = pd.DataFrame(X_train_ohe, columns=ohe.get_feature_names(X_train.columns))\n",
    "X_test_df = pd.DataFrame(X_test_ohe, columns=ohe.get_feature_names(X_test.columns))"
   ]
  },
  {
   "cell_type": "code",
   "execution_count": 24,
   "metadata": {},
   "outputs": [],
   "source": [
    "#runs model and prints training/testing classification reports, confusion matrices, accuracy scores\n",
    "def run_model(X_train, X_test, y_train, y_test, model, target_names, scale=False):\n",
    "    if scale:\n",
    "        ss = StandardScaler()\n",
    "        X_train_scaled = ss.fit_transform(X_train)\n",
    "        X_test_scaled = ss.transform(X_test)\n",
    "        model.fit(X_train_scaled, y_train)\n",
    "        y_train_pred = model.predict(X_train_scaled)\n",
    "        y_test_pred = model.predict(X_test_scaled)\n",
    "        print(plot_confusion_matrix(model, X_train, y_train, cmap=plt.cm.Blues))\n",
    "        print(classification_report(y_train, y_train_pred, target_names=target_names))\n",
    "        print(plot_confusion_matrix(model, X_test, y_test, cmap=plt.cm.Blues))\n",
    "        print(classification_report(y_test, y_test_pred, target_names=target_names))\n",
    "        print(\"Training Accuracy Score: {}\".format(model.score(X_train, y_train)))\n",
    "        print(\"Testing Accuracy Score: {}\".format(model.score(X_test, y_test)))\n",
    "        return model\n",
    "\n",
    "    model.fit(X_train, y_train)\n",
    "    y_train_pred = model.predict(X_train)\n",
    "    y_test_pred = model.predict(X_test)\n",
    "    \n",
    "    print(plot_confusion_matrix(model, X_train, y_train, cmap=plt.cm.Blues))\n",
    "    print(classification_report(y_train, y_train_pred, target_names=target_names))\n",
    "    print(plot_confusion_matrix(model, X_test, y_test, cmap=plt.cm.Blues))\n",
    "    print(classification_report(y_test, y_test_pred, target_names=target_names))\n",
    "    print(\"Training Accuracy Score: {}\".format(model.score(X_train, y_train)))\n",
    "    print(\"Testing Accuracy Score: {}\".format(model.score(X_test, y_test)))\n",
    "    return model"
   ]
  },
  {
   "cell_type": "code",
   "execution_count": 25,
   "metadata": {},
   "outputs": [],
   "source": [
    "#instantiating models\n",
    "from sklearn.linear_model import LogisticRegression\n",
    "from sklearn.neighbors import KNeighborsClassifier\n",
    "from sklearn.tree import DecisionTreeClassifier\n",
    "from sklearn.ensemble import BaggingClassifier, RandomForestClassifier\n",
    "from sklearn.ensemble import AdaBoostClassifier, GradientBoostingClassifier\n",
    "from xgboost import XGBClassifier\n",
    "import matplotlib.pyplot as plt\n",
    "from sklearn.preprocessing import StandardScaler\n",
    "from sklearn.metrics import plot_confusion_matrix\n",
    "from sklearn.metrics import classification_report\n",
    "\n",
    "logreg = LogisticRegression(fit_intercept=False, C=1e12, solver='liblinear')\n",
    "knn = KNeighborsClassifier()\n",
    "dtc = DecisionTreeClassifier(random_state=42)\n",
    "bagged_tree = BaggingClassifier(DecisionTreeClassifier(criterion='gini', max_depth=5), n_estimators=20)\n",
    "forest = RandomForestClassifier(n_estimators=20, max_depth=5)\n",
    "ada = AdaBoostClassifier(random_state=42)\n",
    "gb = GradientBoostingClassifier(random_state=42)\n",
    "xgb = XGBClassifier()\n",
    "\n",
    "target_names = ['No Injury', 'Injury']"
   ]
  },
  {
   "cell_type": "code",
   "execution_count": 26,
   "metadata": {},
   "outputs": [
    {
     "name": "stdout",
     "output_type": "stream",
     "text": [
      "<sklearn.metrics._plot.confusion_matrix.ConfusionMatrixDisplay object at 0x0000020FB28AB460>\n",
      "              precision    recall  f1-score   support\n",
      "\n",
      "   No Injury       0.71      0.05      0.09     14302\n",
      "      Injury       0.89      1.00      0.94    107423\n",
      "\n",
      "    accuracy                           0.89    121725\n",
      "   macro avg       0.80      0.52      0.52    121725\n",
      "weighted avg       0.87      0.89      0.84    121725\n",
      "\n",
      "<sklearn.metrics._plot.confusion_matrix.ConfusionMatrixDisplay object at 0x0000020FB0722250>\n",
      "              precision    recall  f1-score   support\n",
      "\n",
      "   No Injury       0.76      0.05      0.09      4702\n",
      "      Injury       0.89      1.00      0.94     35874\n",
      "\n",
      "    accuracy                           0.89     40576\n",
      "   macro avg       0.83      0.52      0.52     40576\n",
      "weighted avg       0.87      0.89      0.84     40576\n",
      "\n",
      "Training Accuracy Score: 0.8858821113164921\n",
      "Testing Accuracy Score: 0.8881111987381703\n"
     ]
    },
    {
     "data": {
      "text/plain": [
       "LogisticRegression(C=1000000000000.0, fit_intercept=False, solver='liblinear')"
      ]
     },
     "execution_count": 26,
     "metadata": {},
     "output_type": "execute_result"
    },
    {
     "data": {
      "image/png": "[encoded data removed]",
      "text/plain": [
       "<Figure size 432x288 with 2 Axes>"
      ]
     },
     "metadata": {
      "needs_background": "light"
     },
     "output_type": "display_data"
    },
    {
     "data": {
      "image/png": "[encoded data removed]",
      "text/plain": [
       "<Figure size 432x288 with 2 Axes>"
      ]
     },
     "metadata": {
      "needs_background": "light"
     },
     "output_type": "display_data"
    }
   ],
   "source": [
    "#logistic regression\n",
    "run_model(X_train_df, X_test_df, y_train, y_test, logreg, target_names)"
   ]
  },
  {
   "cell_type": "code",
   "execution_count": 36,
   "metadata": {},
   "outputs": [
    {
     "name": "stdout",
     "output_type": "stream",
     "text": [
      "<sklearn.metrics._plot.confusion_matrix.ConfusionMatrixDisplay object at 0x0000021D93B15970>\n",
      "              precision    recall  f1-score   support\n",
      "\n",
      "   No Injury       0.66      0.11      0.18     14302\n",
      "      Injury       0.89      0.99      0.94    107423\n",
      "\n",
      "    accuracy                           0.89    121725\n",
      "   macro avg       0.77      0.55      0.56    121725\n",
      "weighted avg       0.87      0.89      0.85    121725\n",
      "\n",
      "<sklearn.metrics._plot.confusion_matrix.ConfusionMatrixDisplay object at 0x0000021DE9359FD0>\n",
      "              precision    recall  f1-score   support\n",
      "\n",
      "   No Injury       0.19      0.03      0.05      4702\n",
      "      Injury       0.89      0.98      0.93     35874\n",
      "\n",
      "    accuracy                           0.87     40576\n",
      "   macro avg       0.54      0.51      0.49     40576\n",
      "weighted avg       0.81      0.87      0.83     40576\n",
      "\n",
      "Training Accuracy Score: 0.8885027726432533\n",
      "Testing Accuracy Score: 0.873176261829653\n"
     ]
    },
    {
     "data": {
      "text/plain": [
       "KNeighborsClassifier()"
      ]
     },
     "execution_count": 36,
     "metadata": {},
     "output_type": "execute_result"
    },
    {
     "data": {
      "image/png": "[encoded data removed]",
      "text/plain": [
       "<Figure size 432x288 with 2 Axes>"
      ]
     },
     "metadata": {
      "needs_background": "light"
     },
     "output_type": "display_data"
    },
    {
     "data": {
      "image/png": "[encoded data removed]",
      "text/plain": [
       "<Figure size 432x288 with 2 Axes>"
      ]
     },
     "metadata": {
      "needs_background": "light"
     },
     "output_type": "display_data"
    }
   ],
   "source": [
    "#k nearest neighbors\n",
    "run_model(X_train_df, X_test_df, y_train, y_test, knn, target_names)"
   ]
  },
  {
   "cell_type": "code",
   "execution_count": 27,
   "metadata": {},
   "outputs": [
    {
     "name": "stdout",
     "output_type": "stream",
     "text": [
      "<sklearn.metrics._plot.confusion_matrix.ConfusionMatrixDisplay object at 0x0000020FEF89E2B0>\n",
      "              precision    recall  f1-score   support\n",
      "\n",
      "   No Injury       0.83      0.79      0.81     14302\n",
      "      Injury       0.97      0.98      0.98    107423\n",
      "\n",
      "    accuracy                           0.96    121725\n",
      "   macro avg       0.90      0.88      0.89    121725\n",
      "weighted avg       0.96      0.96      0.96    121725\n",
      "\n",
      "<sklearn.metrics._plot.confusion_matrix.ConfusionMatrixDisplay object at 0x0000020FEF89E2B0>\n",
      "              precision    recall  f1-score   support\n",
      "\n",
      "   No Injury       0.18      0.19      0.19      4702\n",
      "      Injury       0.89      0.89      0.89     35874\n",
      "\n",
      "    accuracy                           0.81     40576\n",
      "   macro avg       0.54      0.54      0.54     40576\n",
      "weighted avg       0.81      0.81      0.81     40576\n",
      "\n",
      "Training Accuracy Score: 0.9564099404395153\n",
      "Testing Accuracy Score: 0.80729988170347\n"
     ]
    },
    {
     "data": {
      "text/plain": [
       "DecisionTreeClassifier(random_state=42)"
      ]
     },
     "execution_count": 27,
     "metadata": {},
     "output_type": "execute_result"
    },
    {
     "data": {
      "image/png": "[encoded data removed]",
      "text/plain": [
       "<Figure size 432x288 with 2 Axes>"
      ]
     },
     "metadata": {
      "needs_background": "light"
     },
     "output_type": "display_data"
    },
    {
     "data": {
      "image/png": "[encoded data removed]",
      "text/plain": [
       "<Figure size 432x288 with 2 Axes>"
      ]
     },
     "metadata": {
      "needs_background": "light"
     },
     "output_type": "display_data"
    }
   ],
   "source": [
    "#decision tree\n",
    "run_model(X_train_df, X_test_df, y_train, y_test, dtc, target_names)"
   ]
  },
  {
   "cell_type": "code",
   "execution_count": 28,
   "metadata": {},
   "outputs": [
    {
     "name": "stdout",
     "output_type": "stream",
     "text": [
      "<sklearn.metrics._plot.confusion_matrix.ConfusionMatrixDisplay object at 0x0000020FF6E11370>\n",
      "              precision    recall  f1-score   support\n",
      "\n",
      "   No Injury       0.72      0.05      0.10     14302\n",
      "      Injury       0.89      1.00      0.94    107423\n",
      "\n",
      "    accuracy                           0.89    121725\n",
      "   macro avg       0.80      0.53      0.52    121725\n",
      "weighted avg       0.87      0.89      0.84    121725\n",
      "\n",
      "<sklearn.metrics._plot.confusion_matrix.ConfusionMatrixDisplay object at 0x0000021000660D90>\n",
      "              precision    recall  f1-score   support\n",
      "\n",
      "   No Injury       0.74      0.05      0.10      4702\n",
      "      Injury       0.89      1.00      0.94     35874\n",
      "\n",
      "    accuracy                           0.89     40576\n",
      "   macro avg       0.81      0.53      0.52     40576\n",
      "weighted avg       0.87      0.89      0.84     40576\n",
      "\n",
      "Training Accuracy Score: 0.8864489628260424\n",
      "Testing Accuracy Score: 0.8881111987381703\n"
     ]
    },
    {
     "data": {
      "text/plain": [
       "BaggingClassifier(base_estimator=DecisionTreeClassifier(max_depth=5),\n",
       "                  n_estimators=20)"
      ]
     },
     "execution_count": 28,
     "metadata": {},
     "output_type": "execute_result"
    },
    {
     "data": {
      "image/png": "[encoded data removed]",
      "text/plain": [
       "<Figure size 432x288 with 2 Axes>"
      ]
     },
     "metadata": {
      "needs_background": "light"
     },
     "output_type": "display_data"
    },
    {
     "data": {
      "image/png": "[encoded data removed]",
      "text/plain": [
       "<Figure size 432x288 with 2 Axes>"
      ]
     },
     "metadata": {
      "needs_background": "light"
     },
     "output_type": "display_data"
    }
   ],
   "source": [
    "#bagged tree\n",
    "run_model(X_train_df, X_test_df, y_train, y_test, bagged_tree, target_names)"
   ]
  },
  {
   "cell_type": "code",
   "execution_count": 29,
   "metadata": {},
   "outputs": [
    {
     "name": "stdout",
     "output_type": "stream",
     "text": [
      "<sklearn.metrics._plot.confusion_matrix.ConfusionMatrixDisplay object at 0x0000021000CABE20>\n",
      "              precision    recall  f1-score   support\n",
      "\n",
      "   No Injury       0.76      0.03      0.06     14302\n",
      "      Injury       0.89      1.00      0.94    107423\n",
      "\n",
      "    accuracy                           0.89    121725\n",
      "   macro avg       0.82      0.51      0.50    121725\n",
      "weighted avg       0.87      0.89      0.84    121725\n",
      "\n",
      "<sklearn.metrics._plot.confusion_matrix.ConfusionMatrixDisplay object at 0x0000021000CABE20>\n",
      "              precision    recall  f1-score   support\n",
      "\n",
      "   No Injury       0.80      0.03      0.06      4702\n",
      "      Injury       0.89      1.00      0.94     35874\n",
      "\n",
      "    accuracy                           0.89     40576\n",
      "   macro avg       0.84      0.51      0.50     40576\n",
      "weighted avg       0.88      0.89      0.84     40576\n",
      "\n",
      "Training Accuracy Score: 0.8850030807147258\n",
      "Testing Accuracy Score: 0.8867557176656151\n"
     ]
    },
    {
     "data": {
      "text/plain": [
       "RandomForestClassifier(max_depth=5, n_estimators=20)"
      ]
     },
     "execution_count": 29,
     "metadata": {},
     "output_type": "execute_result"
    },
    {
     "data": {
      "image/png": "[encoded data removed]",
      "text/plain": [
       "<Figure size 432x288 with 2 Axes>"
      ]
     },
     "metadata": {
      "needs_background": "light"
     },
     "output_type": "display_data"
    },
    {
     "data": {
      "image/png": "[encoded data removed]",
      "text/plain": [
       "<Figure size 432x288 with 2 Axes>"
      ]
     },
     "metadata": {
      "needs_background": "light"
     },
     "output_type": "display_data"
    }
   ],
   "source": [
    "#random forest\n",
    "run_model(X_train_df, X_test_df, y_train, y_test, forest, target_names)"
   ]
  },
  {
   "cell_type": "code",
   "execution_count": 30,
   "metadata": {},
   "outputs": [
    {
     "name": "stdout",
     "output_type": "stream",
     "text": [
      "<sklearn.metrics._plot.confusion_matrix.ConfusionMatrixDisplay object at 0x0000020FB449CD30>\n",
      "              precision    recall  f1-score   support\n",
      "\n",
      "   No Injury       0.71      0.05      0.09     14302\n",
      "      Injury       0.89      1.00      0.94    107423\n",
      "\n",
      "    accuracy                           0.89    121725\n",
      "   macro avg       0.80      0.52      0.52    121725\n",
      "weighted avg       0.87      0.89      0.84    121725\n",
      "\n",
      "<sklearn.metrics._plot.confusion_matrix.ConfusionMatrixDisplay object at 0x0000021000E3BDC0>\n",
      "              precision    recall  f1-score   support\n",
      "\n",
      "   No Injury       0.76      0.05      0.09      4702\n",
      "      Injury       0.89      1.00      0.94     35874\n",
      "\n",
      "    accuracy                           0.89     40576\n",
      "   macro avg       0.82      0.52      0.52     40576\n",
      "weighted avg       0.87      0.89      0.84     40576\n",
      "\n",
      "Training Accuracy Score: 0.8858738960772232\n",
      "Testing Accuracy Score: 0.8881358438485805\n"
     ]
    },
    {
     "data": {
      "text/plain": [
       "AdaBoostClassifier(random_state=42)"
      ]
     },
     "execution_count": 30,
     "metadata": {},
     "output_type": "execute_result"
    },
    {
     "data": {
      "image/png": "[encoded data removed]",
      "text/plain": [
       "<Figure size 432x288 with 2 Axes>"
      ]
     },
     "metadata": {
      "needs_background": "light"
     },
     "output_type": "display_data"
    },
    {
     "data": {
      "image/png": "[encoded data removed]",
      "text/plain": [
       "<Figure size 432x288 with 2 Axes>"
      ]
     },
     "metadata": {
      "needs_background": "light"
     },
     "output_type": "display_data"
    }
   ],
   "source": [
    "#ada boost\n",
    "run_model(X_train_df, X_test_df, y_train, y_test, ada, target_names)"
   ]
  },
  {
   "cell_type": "code",
   "execution_count": 31,
   "metadata": {},
   "outputs": [
    {
     "name": "stdout",
     "output_type": "stream",
     "text": [
      "<sklearn.metrics._plot.confusion_matrix.ConfusionMatrixDisplay object at 0x0000021000F09E20>\n",
      "              precision    recall  f1-score   support\n",
      "\n",
      "   No Injury       0.74      0.05      0.09     14302\n",
      "      Injury       0.89      1.00      0.94    107423\n",
      "\n",
      "    accuracy                           0.89    121725\n",
      "   macro avg       0.82      0.52      0.52    121725\n",
      "weighted avg       0.87      0.89      0.84    121725\n",
      "\n",
      "<sklearn.metrics._plot.confusion_matrix.ConfusionMatrixDisplay object at 0x0000021000F09E20>\n",
      "              precision    recall  f1-score   support\n",
      "\n",
      "   No Injury       0.78      0.05      0.09      4702\n",
      "      Injury       0.89      1.00      0.94     35874\n",
      "\n",
      "    accuracy                           0.89     40576\n",
      "   macro avg       0.84      0.52      0.52     40576\n",
      "weighted avg       0.88      0.89      0.84     40576\n",
      "\n",
      "Training Accuracy Score: 0.8863175189977408\n",
      "Testing Accuracy Score: 0.8883330047318612\n"
     ]
    },
    {
     "data": {
      "text/plain": [
       "GradientBoostingClassifier(random_state=42)"
      ]
     },
     "execution_count": 31,
     "metadata": {},
     "output_type": "execute_result"
    },
    {
     "data": {
      "image/png": "[encoded data removed]",
      "text/plain": [
       "<Figure size 432x288 with 2 Axes>"
      ]
     },
     "metadata": {
      "needs_background": "light"
     },
     "output_type": "display_data"
    },
    {
     "data": {
      "image/png": "[encoded data removed]",
      "text/plain": [
       "<Figure size 432x288 with 2 Axes>"
      ]
     },
     "metadata": {
      "needs_background": "light"
     },
     "output_type": "display_data"
    }
   ],
   "source": [
    "#gradient boost\n",
    "run_model(X_train_df, X_test_df, y_train, y_test, gb, target_names)"
   ]
  },
  {
   "cell_type": "code",
   "execution_count": 32,
   "metadata": {},
   "outputs": [
    {
     "name": "stderr",
     "output_type": "stream",
     "text": [
      "C:\\Users\\Daniel\\anaconda3\\lib\\site-packages\\xgboost\\sklearn.py:888: UserWarning: The use of label encoder in XGBClassifier is deprecated and will be removed in a future release. To remove this warning, do the following: 1) Pass option use_label_encoder=False when constructing XGBClassifier object; and 2) Encode your labels (y) as integers starting with 0, i.e. 0, 1, 2, ..., [num_class - 1].\n",
      "  warnings.warn(label_encoder_deprecation_msg, UserWarning)\n"
     ]
    },
    {
     "name": "stdout",
     "output_type": "stream",
     "text": [
      "[21:52:03] WARNING: ..\\src\\learner.cc:1061: Starting in XGBoost 1.3.0, the default evaluation metric used with the objective 'binary:logistic' was changed from 'error' to 'logloss'. Explicitly set eval_metric if you'd like to restore the old behavior.\n",
      "<sklearn.metrics._plot.confusion_matrix.ConfusionMatrixDisplay object at 0x0000021000EBE640>\n",
      "              precision    recall  f1-score   support\n",
      "\n",
      "   No Injury       0.84      0.07      0.12     14302\n",
      "      Injury       0.89      1.00      0.94    107423\n",
      "\n",
      "    accuracy                           0.89    121725\n",
      "   macro avg       0.86      0.53      0.53    121725\n",
      "weighted avg       0.88      0.89      0.84    121725\n",
      "\n",
      "<sklearn.metrics._plot.confusion_matrix.ConfusionMatrixDisplay object at 0x0000021003096250>\n",
      "              precision    recall  f1-score   support\n",
      "\n",
      "   No Injury       0.73      0.05      0.10      4702\n",
      "      Injury       0.89      1.00      0.94     35874\n",
      "\n",
      "    accuracy                           0.89     40576\n",
      "   macro avg       0.81      0.52      0.52     40576\n",
      "weighted avg       0.87      0.89      0.84     40576\n",
      "\n",
      "Training Accuracy Score: 0.8888478126925446\n",
      "Testing Accuracy Score: 0.8879633280757098\n"
     ]
    },
    {
     "data": {
      "text/plain": [
       "XGBClassifier(base_score=0.5, booster='gbtree', colsample_bylevel=1,\n",
       "              colsample_bynode=1, colsample_bytree=1, gamma=0, gpu_id=-1,\n",
       "              importance_type='gain', interaction_constraints='',\n",
       "              learning_rate=0.300000012, max_delta_step=0, max_depth=6,\n",
       "              min_child_weight=1, missing=nan, monotone_constraints='()',\n",
       "              n_estimators=100, n_jobs=8, num_parallel_tree=1, random_state=0,\n",
       "              reg_alpha=0, reg_lambda=1, scale_pos_weight=1, subsample=1,\n",
       "              tree_method='exact', validate_parameters=1, verbosity=None)"
      ]
     },
     "execution_count": 32,
     "metadata": {},
     "output_type": "execute_result"
    },
    {
     "data": {
      "image/png": "[encoded data removed]",
      "text/plain": [
       "<Figure size 432x288 with 2 Axes>"
      ]
     },
     "metadata": {
      "needs_background": "light"
     },
     "output_type": "display_data"
    },
    {
     "data": {
      "image/png": "[encoded data removed]",
      "text/plain": [
       "<Figure size 432x288 with 2 Axes>"
      ]
     },
     "metadata": {
      "needs_background": "light"
     },
     "output_type": "display_data"
    }
   ],
   "source": [
    "#xgb classifier\n",
    "run_model(X_train_df, X_test_df, y_train, y_test, xgb, target_names)"
   ]
  },
  {
   "cell_type": "code",
   "execution_count": null,
   "metadata": {},
   "outputs": [],
   "source": []
  }
 ],
 "metadata": {
  "kernelspec": {
   "display_name": "Python 3",
   "language": "python",
   "name": "python3"
  },
  "language_info": {
   "codemirror_mode": {
    "name": "ipython",
    "version": 3
   },
   "file_extension": ".py",
   "mimetype": "text/x-python",
   "name": "python",
   "nbconvert_exporter": "python",
   "pygments_lexer": "ipython3",
   "version": "3.8.3"
  }
 },
 "nbformat": 4,
 "nbformat_minor": 4
}
