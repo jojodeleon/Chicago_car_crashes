{
 "cells": [
  {
   "cell_type": "code",
   "execution_count": 2,
   "metadata": {},
   "outputs": [
    {
     "data": {
      "text/html": [
       "<div>\n",
       "<style scoped>\n",
       "    .dataframe tbody tr th:only-of-type {\n",
       "        vertical-align: middle;\n",
       "    }\n",
       "\n",
       "    .dataframe tbody tr th {\n",
       "        vertical-align: top;\n",
       "    }\n",
       "\n",
       "    .dataframe thead th {\n",
       "        text-align: right;\n",
       "    }\n",
       "</style>\n",
       "<table border=\"1\" class=\"dataframe\">\n",
       "  <thead>\n",
       "    <tr style=\"text-align: right;\">\n",
       "      <th></th>\n",
       "      <th>CRASH_RECORD_ID</th>\n",
       "      <th>RD_NO_x</th>\n",
       "      <th>CRASH_DATE_EST_I</th>\n",
       "      <th>CRASH_DATE_x</th>\n",
       "      <th>POSTED_SPEED_LIMIT</th>\n",
       "      <th>TRAFFIC_CONTROL_DEVICE</th>\n",
       "      <th>DEVICE_CONDITION</th>\n",
       "      <th>WEATHER_CONDITION</th>\n",
       "      <th>LIGHTING_CONDITION</th>\n",
       "      <th>FIRST_CRASH_TYPE</th>\n",
       "      <th>...</th>\n",
       "      <th>EMS_RUN_NO</th>\n",
       "      <th>DRIVER_ACTION</th>\n",
       "      <th>DRIVER_VISION</th>\n",
       "      <th>PHYSICAL_CONDITION</th>\n",
       "      <th>PEDPEDAL_ACTION</th>\n",
       "      <th>PEDPEDAL_VISIBILITY</th>\n",
       "      <th>PEDPEDAL_LOCATION</th>\n",
       "      <th>BAC_RESULT</th>\n",
       "      <th>BAC_RESULT VALUE</th>\n",
       "      <th>CELL_PHONE_USE</th>\n",
       "    </tr>\n",
       "  </thead>\n",
       "  <tbody>\n",
       "    <tr>\n",
       "      <th>0</th>\n",
       "      <td>4fd0a3e0897b3335b94cd8d5b2d2b350eb691add56c62d...</td>\n",
       "      <td>JC343143</td>\n",
       "      <td>NaN</td>\n",
       "      <td>07/10/2019 05:56:00 PM</td>\n",
       "      <td>35</td>\n",
       "      <td>NO CONTROLS</td>\n",
       "      <td>NO CONTROLS</td>\n",
       "      <td>CLEAR</td>\n",
       "      <td>DAYLIGHT</td>\n",
       "      <td>TURNING</td>\n",
       "      <td>...</td>\n",
       "      <td>NaN</td>\n",
       "      <td>IMPROPER BACKING</td>\n",
       "      <td>UNKNOWN</td>\n",
       "      <td>NORMAL</td>\n",
       "      <td>NaN</td>\n",
       "      <td>NaN</td>\n",
       "      <td>NaN</td>\n",
       "      <td>TEST NOT OFFERED</td>\n",
       "      <td>NaN</td>\n",
       "      <td>NaN</td>\n",
       "    </tr>\n",
       "    <tr>\n",
       "      <th>1</th>\n",
       "      <td>4fd0a3e0897b3335b94cd8d5b2d2b350eb691add56c62d...</td>\n",
       "      <td>JC343143</td>\n",
       "      <td>NaN</td>\n",
       "      <td>07/10/2019 05:56:00 PM</td>\n",
       "      <td>35</td>\n",
       "      <td>NO CONTROLS</td>\n",
       "      <td>NO CONTROLS</td>\n",
       "      <td>CLEAR</td>\n",
       "      <td>DAYLIGHT</td>\n",
       "      <td>TURNING</td>\n",
       "      <td>...</td>\n",
       "      <td>NaN</td>\n",
       "      <td>NONE</td>\n",
       "      <td>NOT OBSCURED</td>\n",
       "      <td>NORMAL</td>\n",
       "      <td>NaN</td>\n",
       "      <td>NaN</td>\n",
       "      <td>NaN</td>\n",
       "      <td>TEST NOT OFFERED</td>\n",
       "      <td>NaN</td>\n",
       "      <td>NaN</td>\n",
       "    </tr>\n",
       "    <tr>\n",
       "      <th>2</th>\n",
       "      <td>4fd0a3e0897b3335b94cd8d5b2d2b350eb691add56c62d...</td>\n",
       "      <td>JC343143</td>\n",
       "      <td>NaN</td>\n",
       "      <td>07/10/2019 05:56:00 PM</td>\n",
       "      <td>35</td>\n",
       "      <td>NO CONTROLS</td>\n",
       "      <td>NO CONTROLS</td>\n",
       "      <td>CLEAR</td>\n",
       "      <td>DAYLIGHT</td>\n",
       "      <td>TURNING</td>\n",
       "      <td>...</td>\n",
       "      <td>NaN</td>\n",
       "      <td>NaN</td>\n",
       "      <td>NaN</td>\n",
       "      <td>NaN</td>\n",
       "      <td>NaN</td>\n",
       "      <td>NaN</td>\n",
       "      <td>NaN</td>\n",
       "      <td>NaN</td>\n",
       "      <td>NaN</td>\n",
       "      <td>NaN</td>\n",
       "    </tr>\n",
       "    <tr>\n",
       "      <th>3</th>\n",
       "      <td>009e9e67203442370272e1a13d6ee51a4155dac65e583d...</td>\n",
       "      <td>JA329216</td>\n",
       "      <td>NaN</td>\n",
       "      <td>06/30/2017 04:00:00 PM</td>\n",
       "      <td>35</td>\n",
       "      <td>STOP SIGN/FLASHER</td>\n",
       "      <td>FUNCTIONING PROPERLY</td>\n",
       "      <td>CLEAR</td>\n",
       "      <td>DAYLIGHT</td>\n",
       "      <td>TURNING</td>\n",
       "      <td>...</td>\n",
       "      <td>NaN</td>\n",
       "      <td>FAILED TO YIELD</td>\n",
       "      <td>UNKNOWN</td>\n",
       "      <td>UNKNOWN</td>\n",
       "      <td>NaN</td>\n",
       "      <td>NaN</td>\n",
       "      <td>NaN</td>\n",
       "      <td>TEST NOT OFFERED</td>\n",
       "      <td>NaN</td>\n",
       "      <td>NaN</td>\n",
       "    </tr>\n",
       "    <tr>\n",
       "      <th>4</th>\n",
       "      <td>009e9e67203442370272e1a13d6ee51a4155dac65e583d...</td>\n",
       "      <td>JA329216</td>\n",
       "      <td>NaN</td>\n",
       "      <td>06/30/2017 04:00:00 PM</td>\n",
       "      <td>35</td>\n",
       "      <td>STOP SIGN/FLASHER</td>\n",
       "      <td>FUNCTIONING PROPERLY</td>\n",
       "      <td>CLEAR</td>\n",
       "      <td>DAYLIGHT</td>\n",
       "      <td>TURNING</td>\n",
       "      <td>...</td>\n",
       "      <td>NaN</td>\n",
       "      <td>NONE</td>\n",
       "      <td>NOT OBSCURED</td>\n",
       "      <td>NORMAL</td>\n",
       "      <td>NaN</td>\n",
       "      <td>NaN</td>\n",
       "      <td>NaN</td>\n",
       "      <td>TEST NOT OFFERED</td>\n",
       "      <td>NaN</td>\n",
       "      <td>NaN</td>\n",
       "    </tr>\n",
       "  </tbody>\n",
       "</table>\n",
       "<p>5 rows × 78 columns</p>\n",
       "</div>"
      ],
      "text/plain": [
       "                                     CRASH_RECORD_ID   RD_NO_x  \\\n",
       "0  4fd0a3e0897b3335b94cd8d5b2d2b350eb691add56c62d...  JC343143   \n",
       "1  4fd0a3e0897b3335b94cd8d5b2d2b350eb691add56c62d...  JC343143   \n",
       "2  4fd0a3e0897b3335b94cd8d5b2d2b350eb691add56c62d...  JC343143   \n",
       "3  009e9e67203442370272e1a13d6ee51a4155dac65e583d...  JA329216   \n",
       "4  009e9e67203442370272e1a13d6ee51a4155dac65e583d...  JA329216   \n",
       "\n",
       "  CRASH_DATE_EST_I            CRASH_DATE_x  POSTED_SPEED_LIMIT  \\\n",
       "0              NaN  07/10/2019 05:56:00 PM                  35   \n",
       "1              NaN  07/10/2019 05:56:00 PM                  35   \n",
       "2              NaN  07/10/2019 05:56:00 PM                  35   \n",
       "3              NaN  06/30/2017 04:00:00 PM                  35   \n",
       "4              NaN  06/30/2017 04:00:00 PM                  35   \n",
       "\n",
       "  TRAFFIC_CONTROL_DEVICE      DEVICE_CONDITION WEATHER_CONDITION  \\\n",
       "0            NO CONTROLS           NO CONTROLS             CLEAR   \n",
       "1            NO CONTROLS           NO CONTROLS             CLEAR   \n",
       "2            NO CONTROLS           NO CONTROLS             CLEAR   \n",
       "3      STOP SIGN/FLASHER  FUNCTIONING PROPERLY             CLEAR   \n",
       "4      STOP SIGN/FLASHER  FUNCTIONING PROPERLY             CLEAR   \n",
       "\n",
       "  LIGHTING_CONDITION FIRST_CRASH_TYPE  ... EMS_RUN_NO     DRIVER_ACTION  \\\n",
       "0           DAYLIGHT          TURNING  ...        NaN  IMPROPER BACKING   \n",
       "1           DAYLIGHT          TURNING  ...        NaN              NONE   \n",
       "2           DAYLIGHT          TURNING  ...        NaN               NaN   \n",
       "3           DAYLIGHT          TURNING  ...        NaN   FAILED TO YIELD   \n",
       "4           DAYLIGHT          TURNING  ...        NaN              NONE   \n",
       "\n",
       "  DRIVER_VISION PHYSICAL_CONDITION PEDPEDAL_ACTION PEDPEDAL_VISIBILITY  \\\n",
       "0       UNKNOWN             NORMAL             NaN                 NaN   \n",
       "1  NOT OBSCURED             NORMAL             NaN                 NaN   \n",
       "2           NaN                NaN             NaN                 NaN   \n",
       "3       UNKNOWN            UNKNOWN             NaN                 NaN   \n",
       "4  NOT OBSCURED             NORMAL             NaN                 NaN   \n",
       "\n",
       "  PEDPEDAL_LOCATION        BAC_RESULT BAC_RESULT VALUE CELL_PHONE_USE  \n",
       "0               NaN  TEST NOT OFFERED              NaN            NaN  \n",
       "1               NaN  TEST NOT OFFERED              NaN            NaN  \n",
       "2               NaN               NaN              NaN            NaN  \n",
       "3               NaN  TEST NOT OFFERED              NaN            NaN  \n",
       "4               NaN  TEST NOT OFFERED              NaN            NaN  \n",
       "\n",
       "[5 rows x 78 columns]"
      ]
     },
     "execution_count": 2,
     "metadata": {},
     "output_type": "execute_result"
    }
   ],
   "source": [
    "import pandas as pd\n",
    "\n",
    "data = pd.read_csv('ChiTrafCrash', low_memory=False)\n",
    "people = pd.read_csv('ChiPeopCrash', low_memory=False)\n",
    "\n",
    "#merge two datasets on the column CRASH_RECORD_ID\n",
    "all_df = pd.merge(data, people, on='CRASH_RECORD_ID')\n",
    "all_df.head()"
   ]
  },
  {
   "cell_type": "code",
   "execution_count": 3,
   "metadata": {},
   "outputs": [],
   "source": [
    "#drop irrelevant columns\n",
    "drop_cols = ['CRASH_RECORD_ID','RD_NO_x', 'CRASH_DATE_EST_I', 'BEAT_OF_OCCURRENCE', 'DATE_POLICE_NOTIFIED', \n",
    "             'REPORT_TYPE', 'DAMAGE', 'PHOTOS_TAKEN_I', 'STATEMENTS_TAKEN_I', 'MOST_SEVERE_INJURY', \n",
    "             'INJURIES_TOTAL', 'INJURIES_FATAL', 'INJURIES_INCAPACITATING', 'INJURIES_NON_INCAPACITATING', \n",
    "             'INJURIES_REPORTED_NOT_EVIDENT', 'INJURIES_NO_INDICATION', 'INJURIES_UNKNOWN', 'ALIGNMENT', \n",
    "             'DEVICE_CONDITION', 'STREET_NO', 'STREET_DIRECTION', 'WORK_ZONE_TYPE', 'WORKERS_PRESENT_I', \n",
    "             'LANE_CNT', 'PERSON_ID', 'VEHICLE_ID', 'CRASH_DATE_y', 'CITY', 'STATE', 'ZIPCODE', 'LATITUDE', \n",
    "             'LONGITUDE', 'RD_NO_y', 'DRIVERS_LICENSE_STATE', 'AIRBAG_DEPLOYED', 'EJECTION', 'HOSPITAL', \n",
    "             'EMS_AGENCY', 'EMS_RUN_NO', 'PEDPEDAL_ACTION', 'PEDPEDAL_VISIBILITY', 'PEDPEDAL_LOCATION', \n",
    "             'BAC_RESULT VALUE', 'CELL_PHONE_USE', 'CRASH_DATE_x', 'DOORING_I', 'NOT_RIGHT_OF_WAY_I', \n",
    "             'HIT_AND_RUN_I', 'SEC_CONTRIBUTORY_CAUSE', 'WORK_ZONE_I', 'SEAT_NO', 'FIRST_CRASH_TYPE', \n",
    "             'TRAFFICWAY_TYPE', 'CRASH_TYPE', 'NUM_UNITS', 'LOCATION', 'BAC_RESULT', 'DRIVER_ACTION', \n",
    "             'DRIVER_VISION', 'DRIVERS_LICENSE_CLASS']\n",
    "\n",
    "all_df.drop(drop_cols, axis=1, inplace=True)\n",
    "\n",
    "#drop rows where the accident is not from a car driver\n",
    "all_df.drop(all_df.loc[all_df['PERSON_TYPE'] != 'DRIVER'].index, inplace=True)\n",
    "#drop column PERSON_TYPE as only needed to determine all records were from car drivers\n",
    "all_df.drop('PERSON_TYPE', axis=1, inplace=True)"
   ]
  },
  {
   "cell_type": "code",
   "execution_count": 4,
   "metadata": {},
   "outputs": [],
   "source": [
    "#FUNCTIONS TO CHANGE INDIVIDUAL COLUMNS\n",
    "def speed_limit(rate):\n",
    "    speed = float(rate)\n",
    "    if speed < 10:\n",
    "        return '-10'\n",
    "    elif speed < 15:\n",
    "        return '10'\n",
    "    elif speed < 20:\n",
    "        return '15'\n",
    "    elif speed < 25:\n",
    "        return '20'\n",
    "    elif speed < 30:\n",
    "        return '25'\n",
    "    elif speed < 35:\n",
    "        return '30'\n",
    "    elif speed < 40:\n",
    "        return '35'\n",
    "    elif speed < 45:\n",
    "        return '40'\n",
    "    elif speed < 50:\n",
    "        return '45'\n",
    "    else:\n",
    "        return '+45'\n",
    "    \n",
    "    \n",
    "def traffic_device(device):\n",
    "    keep = ['NO CONTROLS', 'TRAFFIC SIGNAL', 'STOP SIGN/FLASHER', 'UNKNOWN', 'OTHER']\n",
    "    if device in keep:\n",
    "        return device\n",
    "    else:\n",
    "        return 'OTHER'\n",
    "\n",
    "    \n",
    "def weather(condition):\n",
    "    keep = ['CLEAR', 'RAIN', 'SNOW', 'UNKNOWN', 'OTHER']\n",
    "    if condition in keep:\n",
    "        return condition\n",
    "    else:\n",
    "        return 'OTHER'\n",
    "\n",
    "\n",
    "def defects(defect):\n",
    "    keep = ['NO DEFECTS', 'UNKNOWN', 'OTHER']\n",
    "    if defect in keep:\n",
    "        return defect\n",
    "    else:\n",
    "        return 'OTHER'\n",
    "\n",
    "    \n",
    "def time(hour):\n",
    "    peak = [6,7,8,9,10,14,15,16,17,18,19]\n",
    "    if hour in peak:\n",
    "        return 'RUSH HRS'\n",
    "    else:\n",
    "        return 'NON RUSH HRS'\n",
    "\n",
    "    \n",
    "def age_range(age):\n",
    "    if age <= 15:\n",
    "        return 'TOO YOUNG'\n",
    "    if age < 20:\n",
    "        return 'TEENAGER'\n",
    "    elif age < 30:\n",
    "        return 'TWENTIES'\n",
    "    elif age < 40:\n",
    "        return 'THIRTIES'\n",
    "    elif age < 50:\n",
    "        return 'FORTIES'\n",
    "    elif age < 60:\n",
    "        return 'FIFTIES'\n",
    "    elif age < 70:\n",
    "        return 'SIXTIES'\n",
    "    elif age < 80:\n",
    "        return 'SEVENTIES'\n",
    "    else:\n",
    "        return 'EIGHTY OR OLDER'\n",
    "\n",
    "    \n",
    "def safety(equipment):\n",
    "    keep = ['USAGE UNKNOWN', 'NONE PRESENT']\n",
    "    used = ['SAFETY BELT USED', 'CHILD RESTRAINT USED', 'CHILD RESTRAINT - FORWARD FACING', \n",
    "            'BICYCLE HELMET (PEDACYCLIST INVOLVED ONLY)', 'HELMET USED', 'DOT COMPLIANT MOTORCYCLE HELMET', \n",
    "            'CHILD RESTRAINT - TYPE UNKNOWN', 'CHILD RESTRAINT - REAR FACING', 'BOOSTER SEAT']\n",
    "    if equipment in keep:\n",
    "        return equipment\n",
    "    elif equipment in used:\n",
    "        return 'SAFETY USED'\n",
    "    elif 'IMPROPERLY' in equipment:\n",
    "        return 'USED IMPROPERLY'\n",
    "    elif 'NOT USED' in equipment:\n",
    "        return 'NOT USED'\n",
    "    elif 'NOT DOT' in equipment:\n",
    "        return 'USED IMPROPERLY'\n",
    "    else:\n",
    "        return 'OTHER' \n",
    "\n",
    "    \n",
    "def road_surface(condition):\n",
    "    keep = ['WET', 'DRY', 'OTHER', 'UNKNOWN']\n",
    "    wet = ['SNOW OR SLUSH', 'ICE']\n",
    "    if condition in keep:\n",
    "        return condition\n",
    "    elif condition in wet:\n",
    "        return 'WET'\n",
    "    else:\n",
    "        return 'OTHER'\n",
    "\n",
    "    \n",
    "names = list(all_df.STREET_NAME.value_counts().sort_values()[1518:].index)\n",
    "def street_acc(name):\n",
    "    if name in names:\n",
    "        return 'HIGH ACCIDENT RATE'\n",
    "    else:\n",
    "        return 'LOW ACCIDENT RATE'\n",
    "\n",
    "\n",
    "def phys_cond(condition):\n",
    "    keep = ['NORMAL', 'UNKNOWN', 'OTHER']\n",
    "    substance = ['HAD BEEN DRINKING', 'MEDICATED']\n",
    "    physical = ['FATIGUED/ASLEEP', 'EMOTIONAL', 'ILLNESS/FAINTED']\n",
    "    if condition in keep:\n",
    "        return condition\n",
    "    elif 'IMPAIRED' in condition:\n",
    "        return 'IMPAIRED'\n",
    "    elif condition in substance:\n",
    "        return 'IMPAIRED'\n",
    "    elif condition in physical:\n",
    "        return 'FATIGUE/ILL/EMOTION'\n",
    "    else:\n",
    "        return 'OTHER'\n",
    "\n",
    "def primary(cause):\n",
    "    keep = ['UNABLE TO DETERMINE', 'NOT APPLICABLE', 'WEATHER']\n",
    "    construction = ['ROAD CONSTRUCTION/MAINTENANCE', 'ROAD ENGINEERING/SURFACE/MARKING DEFECTS']\n",
    "    not_driver = ['VISION OBSCURED (SIGNS, TREE LIMBS, BUILDINGS, ETC.)', \n",
    "                  'EVASIVE ACTION DUE TO ANIMAL, OBJECT, NONMOTORIST', 'ANIMAL', 'OBSTRUCTED CROSSWALKS']\n",
    "    if cause in keep:\n",
    "        return cause\n",
    "    elif cause in construction:\n",
    "        return 'CONSTRUCTION'\n",
    "    elif cause in not_driver:\n",
    "        return 'NOT DRIVER FAULT'\n",
    "    else:\n",
    "        return 'DRIVER FAULT'"
   ]
  },
  {
   "cell_type": "code",
   "execution_count": 5,
   "metadata": {},
   "outputs": [],
   "source": [
    "#apply functions to appropriate columns\n",
    "all_df.POSTED_SPEED_LIMIT = all_df.POSTED_SPEED_LIMIT.apply(speed_limit)\n",
    "all_df.TRAFFIC_CONTROL_DEVICE = all_df.TRAFFIC_CONTROL_DEVICE.apply(traffic_device)\n",
    "all_df.WEATHER_CONDITION = all_df.WEATHER_CONDITION.apply(weather)\n",
    "all_df.ROAD_DEFECT = all_df.ROAD_DEFECT.apply(defects)\n",
    "all_df.CRASH_HOUR = all_df.CRASH_HOUR.apply(time)\n",
    "all_df.AGE = all_df.AGE.apply(age_range)\n",
    "all_df.SAFETY_EQUIPMENT = all_df.SAFETY_EQUIPMENT.apply(safety)\n",
    "all_df.ROADWAY_SURFACE_COND = all_df.ROADWAY_SURFACE_COND.apply(road_surface)\n",
    "all_df.PHYSICAL_CONDITION = all_df.PHYSICAL_CONDITION.apply(phys_cond)\n",
    "all_df.PRIM_CONTRIBUTORY_CAUSE = all_df.PRIM_CONTRIBUTORY_CAUSE.apply(primary)\n",
    "\n",
    "\n",
    "names = list(all_df.STREET_NAME.value_counts().sort_values()[1518:].index)\n",
    "all_df.STREET_NAME = all_df.STREET_NAME.apply(street_acc)"
   ]
  },
  {
   "cell_type": "code",
   "execution_count": 6,
   "metadata": {},
   "outputs": [
    {
     "data": {
      "text/plain": [
       "(233916, 17)"
      ]
     },
     "execution_count": 6,
     "metadata": {},
     "output_type": "execute_result"
    }
   ],
   "source": [
    "#drop rows with NaN in the INTERSECTION_RELATED_I column\n",
    "all_df = all_df[all_df.INTERSECTION_RELATED_I.notna()]\n",
    "all_df.shape"
   ]
  },
  {
   "cell_type": "code",
   "execution_count": 7,
   "metadata": {},
   "outputs": [
    {
     "data": {
      "text/plain": [
       "(161886, 17)"
      ]
     },
     "execution_count": 7,
     "metadata": {},
     "output_type": "execute_result"
    }
   ],
   "source": [
    "#Convert all cell values with entry 'UNKNOWN' to NaN\n",
    "import numpy as np\n",
    "all_df = all_df.replace('UNKNOWN', np.nan)\n",
    "\n",
    "#Drop rows with NaN values\n",
    "all_df = all_df.dropna()\n",
    "all_df.shape"
   ]
  },
  {
   "cell_type": "code",
   "execution_count": 8,
   "metadata": {},
   "outputs": [],
   "source": [
    "#change INJURY_CLASSIFICATION column values to indicate whether accident yielded an injury or not\n",
    "all_df.INJURY_CLASSIFICATION = np.where((all_df.INJURY_CLASSIFICATION == 'NO INDICATION OF INJURY'), 'NO INJURY', 'INJURY')\n",
    "#rename STREET_NAME column to ACCIDENT_RATE as column now indicates whether street has a high or low accident rate\n",
    "all_df.rename(columns={'STREET_NAME':'ACCIDENT_RATE'}, inplace=True)"
   ]
  },
  {
   "cell_type": "code",
   "execution_count": 9,
   "metadata": {},
   "outputs": [],
   "source": [
    "#ensure all values of dataframe are strings for One Hot Encoder\n",
    "all_df = all_df.astype('str')\n",
    "\n",
    "from sklearn.preprocessing import OneHotEncoder\n",
    "from sklearn.model_selection import train_test_split\n",
    "\n",
    "#split data into features and target\n",
    "X = all_df.drop('INJURY_CLASSIFICATION', axis=1)\n",
    "y = all_df.INJURY_CLASSIFICATION\n",
    "\n",
    "#train test split X (the features of the dataset) using random state of 42\n",
    "X_train, X_test, y_train, y_test = train_test_split(X, y, test_size=0.25, random_state=42)\n",
    "\n",
    "#One Hot Encode X on both training (fit and transform) and testing data (transofrm only)\n",
    "ohe = OneHotEncoder()\n",
    "X_train_ohe = ohe.fit_transform(X_train).toarray()\n",
    "X_test_ohe = ohe.transform(X_test)\n"
   ]
  },
  {
   "cell_type": "code",
   "execution_count": 10,
   "metadata": {},
   "outputs": [
    {
     "data": {
      "text/html": [
       "<div>\n",
       "<style scoped>\n",
       "    .dataframe tbody tr th:only-of-type {\n",
       "        vertical-align: middle;\n",
       "    }\n",
       "\n",
       "    .dataframe tbody tr th {\n",
       "        vertical-align: top;\n",
       "    }\n",
       "\n",
       "    .dataframe thead th {\n",
       "        text-align: right;\n",
       "    }\n",
       "</style>\n",
       "<table border=\"1\" class=\"dataframe\">\n",
       "  <thead>\n",
       "    <tr style=\"text-align: right;\">\n",
       "      <th></th>\n",
       "      <th>POSTED_SPEED_LIMIT_+45</th>\n",
       "      <th>POSTED_SPEED_LIMIT_-10</th>\n",
       "      <th>POSTED_SPEED_LIMIT_10</th>\n",
       "      <th>POSTED_SPEED_LIMIT_15</th>\n",
       "      <th>POSTED_SPEED_LIMIT_20</th>\n",
       "      <th>POSTED_SPEED_LIMIT_25</th>\n",
       "      <th>POSTED_SPEED_LIMIT_30</th>\n",
       "      <th>POSTED_SPEED_LIMIT_35</th>\n",
       "      <th>POSTED_SPEED_LIMIT_40</th>\n",
       "      <th>POSTED_SPEED_LIMIT_45</th>\n",
       "      <th>...</th>\n",
       "      <th>AGE_TWENTIES</th>\n",
       "      <th>SAFETY_EQUIPMENT_NONE PRESENT</th>\n",
       "      <th>SAFETY_EQUIPMENT_NOT USED</th>\n",
       "      <th>SAFETY_EQUIPMENT_SAFETY USED</th>\n",
       "      <th>SAFETY_EQUIPMENT_USAGE UNKNOWN</th>\n",
       "      <th>SAFETY_EQUIPMENT_USED IMPROPERLY</th>\n",
       "      <th>PHYSICAL_CONDITION_FATIGUE/ILL/EMOTION</th>\n",
       "      <th>PHYSICAL_CONDITION_IMPAIRED</th>\n",
       "      <th>PHYSICAL_CONDITION_NORMAL</th>\n",
       "      <th>PHYSICAL_CONDITION_OTHER</th>\n",
       "    </tr>\n",
       "  </thead>\n",
       "  <tbody>\n",
       "    <tr>\n",
       "      <th>0</th>\n",
       "      <td>0.0</td>\n",
       "      <td>0.0</td>\n",
       "      <td>0.0</td>\n",
       "      <td>0.0</td>\n",
       "      <td>0.0</td>\n",
       "      <td>0.0</td>\n",
       "      <td>1.0</td>\n",
       "      <td>0.0</td>\n",
       "      <td>0.0</td>\n",
       "      <td>0.0</td>\n",
       "      <td>...</td>\n",
       "      <td>0.0</td>\n",
       "      <td>0.0</td>\n",
       "      <td>0.0</td>\n",
       "      <td>1.0</td>\n",
       "      <td>0.0</td>\n",
       "      <td>0.0</td>\n",
       "      <td>0.0</td>\n",
       "      <td>0.0</td>\n",
       "      <td>1.0</td>\n",
       "      <td>0.0</td>\n",
       "    </tr>\n",
       "    <tr>\n",
       "      <th>1</th>\n",
       "      <td>0.0</td>\n",
       "      <td>0.0</td>\n",
       "      <td>0.0</td>\n",
       "      <td>0.0</td>\n",
       "      <td>0.0</td>\n",
       "      <td>0.0</td>\n",
       "      <td>0.0</td>\n",
       "      <td>1.0</td>\n",
       "      <td>0.0</td>\n",
       "      <td>0.0</td>\n",
       "      <td>...</td>\n",
       "      <td>0.0</td>\n",
       "      <td>0.0</td>\n",
       "      <td>0.0</td>\n",
       "      <td>1.0</td>\n",
       "      <td>0.0</td>\n",
       "      <td>0.0</td>\n",
       "      <td>0.0</td>\n",
       "      <td>0.0</td>\n",
       "      <td>1.0</td>\n",
       "      <td>0.0</td>\n",
       "    </tr>\n",
       "    <tr>\n",
       "      <th>2</th>\n",
       "      <td>0.0</td>\n",
       "      <td>0.0</td>\n",
       "      <td>0.0</td>\n",
       "      <td>0.0</td>\n",
       "      <td>0.0</td>\n",
       "      <td>0.0</td>\n",
       "      <td>1.0</td>\n",
       "      <td>0.0</td>\n",
       "      <td>0.0</td>\n",
       "      <td>0.0</td>\n",
       "      <td>...</td>\n",
       "      <td>1.0</td>\n",
       "      <td>0.0</td>\n",
       "      <td>0.0</td>\n",
       "      <td>0.0</td>\n",
       "      <td>1.0</td>\n",
       "      <td>0.0</td>\n",
       "      <td>0.0</td>\n",
       "      <td>0.0</td>\n",
       "      <td>1.0</td>\n",
       "      <td>0.0</td>\n",
       "    </tr>\n",
       "    <tr>\n",
       "      <th>3</th>\n",
       "      <td>0.0</td>\n",
       "      <td>0.0</td>\n",
       "      <td>0.0</td>\n",
       "      <td>0.0</td>\n",
       "      <td>0.0</td>\n",
       "      <td>0.0</td>\n",
       "      <td>1.0</td>\n",
       "      <td>0.0</td>\n",
       "      <td>0.0</td>\n",
       "      <td>0.0</td>\n",
       "      <td>...</td>\n",
       "      <td>0.0</td>\n",
       "      <td>0.0</td>\n",
       "      <td>0.0</td>\n",
       "      <td>1.0</td>\n",
       "      <td>0.0</td>\n",
       "      <td>0.0</td>\n",
       "      <td>0.0</td>\n",
       "      <td>0.0</td>\n",
       "      <td>1.0</td>\n",
       "      <td>0.0</td>\n",
       "    </tr>\n",
       "    <tr>\n",
       "      <th>4</th>\n",
       "      <td>0.0</td>\n",
       "      <td>0.0</td>\n",
       "      <td>0.0</td>\n",
       "      <td>0.0</td>\n",
       "      <td>0.0</td>\n",
       "      <td>0.0</td>\n",
       "      <td>1.0</td>\n",
       "      <td>0.0</td>\n",
       "      <td>0.0</td>\n",
       "      <td>0.0</td>\n",
       "      <td>...</td>\n",
       "      <td>1.0</td>\n",
       "      <td>0.0</td>\n",
       "      <td>0.0</td>\n",
       "      <td>1.0</td>\n",
       "      <td>0.0</td>\n",
       "      <td>0.0</td>\n",
       "      <td>0.0</td>\n",
       "      <td>0.0</td>\n",
       "      <td>1.0</td>\n",
       "      <td>0.0</td>\n",
       "    </tr>\n",
       "    <tr>\n",
       "      <th>...</th>\n",
       "      <td>...</td>\n",
       "      <td>...</td>\n",
       "      <td>...</td>\n",
       "      <td>...</td>\n",
       "      <td>...</td>\n",
       "      <td>...</td>\n",
       "      <td>...</td>\n",
       "      <td>...</td>\n",
       "      <td>...</td>\n",
       "      <td>...</td>\n",
       "      <td>...</td>\n",
       "      <td>...</td>\n",
       "      <td>...</td>\n",
       "      <td>...</td>\n",
       "      <td>...</td>\n",
       "      <td>...</td>\n",
       "      <td>...</td>\n",
       "      <td>...</td>\n",
       "      <td>...</td>\n",
       "      <td>...</td>\n",
       "      <td>...</td>\n",
       "    </tr>\n",
       "    <tr>\n",
       "      <th>121409</th>\n",
       "      <td>0.0</td>\n",
       "      <td>0.0</td>\n",
       "      <td>0.0</td>\n",
       "      <td>0.0</td>\n",
       "      <td>0.0</td>\n",
       "      <td>0.0</td>\n",
       "      <td>1.0</td>\n",
       "      <td>0.0</td>\n",
       "      <td>0.0</td>\n",
       "      <td>0.0</td>\n",
       "      <td>...</td>\n",
       "      <td>1.0</td>\n",
       "      <td>0.0</td>\n",
       "      <td>0.0</td>\n",
       "      <td>0.0</td>\n",
       "      <td>1.0</td>\n",
       "      <td>0.0</td>\n",
       "      <td>0.0</td>\n",
       "      <td>0.0</td>\n",
       "      <td>1.0</td>\n",
       "      <td>0.0</td>\n",
       "    </tr>\n",
       "    <tr>\n",
       "      <th>121410</th>\n",
       "      <td>0.0</td>\n",
       "      <td>0.0</td>\n",
       "      <td>0.0</td>\n",
       "      <td>0.0</td>\n",
       "      <td>0.0</td>\n",
       "      <td>0.0</td>\n",
       "      <td>1.0</td>\n",
       "      <td>0.0</td>\n",
       "      <td>0.0</td>\n",
       "      <td>0.0</td>\n",
       "      <td>...</td>\n",
       "      <td>0.0</td>\n",
       "      <td>0.0</td>\n",
       "      <td>0.0</td>\n",
       "      <td>0.0</td>\n",
       "      <td>1.0</td>\n",
       "      <td>0.0</td>\n",
       "      <td>0.0</td>\n",
       "      <td>0.0</td>\n",
       "      <td>1.0</td>\n",
       "      <td>0.0</td>\n",
       "    </tr>\n",
       "    <tr>\n",
       "      <th>121411</th>\n",
       "      <td>0.0</td>\n",
       "      <td>0.0</td>\n",
       "      <td>0.0</td>\n",
       "      <td>0.0</td>\n",
       "      <td>0.0</td>\n",
       "      <td>0.0</td>\n",
       "      <td>1.0</td>\n",
       "      <td>0.0</td>\n",
       "      <td>0.0</td>\n",
       "      <td>0.0</td>\n",
       "      <td>...</td>\n",
       "      <td>1.0</td>\n",
       "      <td>0.0</td>\n",
       "      <td>0.0</td>\n",
       "      <td>0.0</td>\n",
       "      <td>1.0</td>\n",
       "      <td>0.0</td>\n",
       "      <td>0.0</td>\n",
       "      <td>0.0</td>\n",
       "      <td>1.0</td>\n",
       "      <td>0.0</td>\n",
       "    </tr>\n",
       "    <tr>\n",
       "      <th>121412</th>\n",
       "      <td>0.0</td>\n",
       "      <td>0.0</td>\n",
       "      <td>0.0</td>\n",
       "      <td>0.0</td>\n",
       "      <td>0.0</td>\n",
       "      <td>0.0</td>\n",
       "      <td>1.0</td>\n",
       "      <td>0.0</td>\n",
       "      <td>0.0</td>\n",
       "      <td>0.0</td>\n",
       "      <td>...</td>\n",
       "      <td>0.0</td>\n",
       "      <td>0.0</td>\n",
       "      <td>0.0</td>\n",
       "      <td>1.0</td>\n",
       "      <td>0.0</td>\n",
       "      <td>0.0</td>\n",
       "      <td>0.0</td>\n",
       "      <td>0.0</td>\n",
       "      <td>1.0</td>\n",
       "      <td>0.0</td>\n",
       "    </tr>\n",
       "    <tr>\n",
       "      <th>121413</th>\n",
       "      <td>0.0</td>\n",
       "      <td>0.0</td>\n",
       "      <td>0.0</td>\n",
       "      <td>0.0</td>\n",
       "      <td>0.0</td>\n",
       "      <td>0.0</td>\n",
       "      <td>1.0</td>\n",
       "      <td>0.0</td>\n",
       "      <td>0.0</td>\n",
       "      <td>0.0</td>\n",
       "      <td>...</td>\n",
       "      <td>0.0</td>\n",
       "      <td>0.0</td>\n",
       "      <td>0.0</td>\n",
       "      <td>1.0</td>\n",
       "      <td>0.0</td>\n",
       "      <td>0.0</td>\n",
       "      <td>0.0</td>\n",
       "      <td>0.0</td>\n",
       "      <td>1.0</td>\n",
       "      <td>0.0</td>\n",
       "    </tr>\n",
       "  </tbody>\n",
       "</table>\n",
       "<p>121414 rows × 80 columns</p>\n",
       "</div>"
      ],
      "text/plain": [
       "        POSTED_SPEED_LIMIT_+45  POSTED_SPEED_LIMIT_-10  POSTED_SPEED_LIMIT_10  \\\n",
       "0                          0.0                     0.0                    0.0   \n",
       "1                          0.0                     0.0                    0.0   \n",
       "2                          0.0                     0.0                    0.0   \n",
       "3                          0.0                     0.0                    0.0   \n",
       "4                          0.0                     0.0                    0.0   \n",
       "...                        ...                     ...                    ...   \n",
       "121409                     0.0                     0.0                    0.0   \n",
       "121410                     0.0                     0.0                    0.0   \n",
       "121411                     0.0                     0.0                    0.0   \n",
       "121412                     0.0                     0.0                    0.0   \n",
       "121413                     0.0                     0.0                    0.0   \n",
       "\n",
       "        POSTED_SPEED_LIMIT_15  POSTED_SPEED_LIMIT_20  POSTED_SPEED_LIMIT_25  \\\n",
       "0                         0.0                    0.0                    0.0   \n",
       "1                         0.0                    0.0                    0.0   \n",
       "2                         0.0                    0.0                    0.0   \n",
       "3                         0.0                    0.0                    0.0   \n",
       "4                         0.0                    0.0                    0.0   \n",
       "...                       ...                    ...                    ...   \n",
       "121409                    0.0                    0.0                    0.0   \n",
       "121410                    0.0                    0.0                    0.0   \n",
       "121411                    0.0                    0.0                    0.0   \n",
       "121412                    0.0                    0.0                    0.0   \n",
       "121413                    0.0                    0.0                    0.0   \n",
       "\n",
       "        POSTED_SPEED_LIMIT_30  POSTED_SPEED_LIMIT_35  POSTED_SPEED_LIMIT_40  \\\n",
       "0                         1.0                    0.0                    0.0   \n",
       "1                         0.0                    1.0                    0.0   \n",
       "2                         1.0                    0.0                    0.0   \n",
       "3                         1.0                    0.0                    0.0   \n",
       "4                         1.0                    0.0                    0.0   \n",
       "...                       ...                    ...                    ...   \n",
       "121409                    1.0                    0.0                    0.0   \n",
       "121410                    1.0                    0.0                    0.0   \n",
       "121411                    1.0                    0.0                    0.0   \n",
       "121412                    1.0                    0.0                    0.0   \n",
       "121413                    1.0                    0.0                    0.0   \n",
       "\n",
       "        POSTED_SPEED_LIMIT_45  ...  AGE_TWENTIES  \\\n",
       "0                         0.0  ...           0.0   \n",
       "1                         0.0  ...           0.0   \n",
       "2                         0.0  ...           1.0   \n",
       "3                         0.0  ...           0.0   \n",
       "4                         0.0  ...           1.0   \n",
       "...                       ...  ...           ...   \n",
       "121409                    0.0  ...           1.0   \n",
       "121410                    0.0  ...           0.0   \n",
       "121411                    0.0  ...           1.0   \n",
       "121412                    0.0  ...           0.0   \n",
       "121413                    0.0  ...           0.0   \n",
       "\n",
       "        SAFETY_EQUIPMENT_NONE PRESENT  SAFETY_EQUIPMENT_NOT USED  \\\n",
       "0                                 0.0                        0.0   \n",
       "1                                 0.0                        0.0   \n",
       "2                                 0.0                        0.0   \n",
       "3                                 0.0                        0.0   \n",
       "4                                 0.0                        0.0   \n",
       "...                               ...                        ...   \n",
       "121409                            0.0                        0.0   \n",
       "121410                            0.0                        0.0   \n",
       "121411                            0.0                        0.0   \n",
       "121412                            0.0                        0.0   \n",
       "121413                            0.0                        0.0   \n",
       "\n",
       "        SAFETY_EQUIPMENT_SAFETY USED  SAFETY_EQUIPMENT_USAGE UNKNOWN  \\\n",
       "0                                1.0                             0.0   \n",
       "1                                1.0                             0.0   \n",
       "2                                0.0                             1.0   \n",
       "3                                1.0                             0.0   \n",
       "4                                1.0                             0.0   \n",
       "...                              ...                             ...   \n",
       "121409                           0.0                             1.0   \n",
       "121410                           0.0                             1.0   \n",
       "121411                           0.0                             1.0   \n",
       "121412                           1.0                             0.0   \n",
       "121413                           1.0                             0.0   \n",
       "\n",
       "        SAFETY_EQUIPMENT_USED IMPROPERLY  \\\n",
       "0                                    0.0   \n",
       "1                                    0.0   \n",
       "2                                    0.0   \n",
       "3                                    0.0   \n",
       "4                                    0.0   \n",
       "...                                  ...   \n",
       "121409                               0.0   \n",
       "121410                               0.0   \n",
       "121411                               0.0   \n",
       "121412                               0.0   \n",
       "121413                               0.0   \n",
       "\n",
       "        PHYSICAL_CONDITION_FATIGUE/ILL/EMOTION  PHYSICAL_CONDITION_IMPAIRED  \\\n",
       "0                                          0.0                          0.0   \n",
       "1                                          0.0                          0.0   \n",
       "2                                          0.0                          0.0   \n",
       "3                                          0.0                          0.0   \n",
       "4                                          0.0                          0.0   \n",
       "...                                        ...                          ...   \n",
       "121409                                     0.0                          0.0   \n",
       "121410                                     0.0                          0.0   \n",
       "121411                                     0.0                          0.0   \n",
       "121412                                     0.0                          0.0   \n",
       "121413                                     0.0                          0.0   \n",
       "\n",
       "        PHYSICAL_CONDITION_NORMAL  PHYSICAL_CONDITION_OTHER  \n",
       "0                             1.0                       0.0  \n",
       "1                             1.0                       0.0  \n",
       "2                             1.0                       0.0  \n",
       "3                             1.0                       0.0  \n",
       "4                             1.0                       0.0  \n",
       "...                           ...                       ...  \n",
       "121409                        1.0                       0.0  \n",
       "121410                        1.0                       0.0  \n",
       "121411                        1.0                       0.0  \n",
       "121412                        1.0                       0.0  \n",
       "121413                        1.0                       0.0  \n",
       "\n",
       "[121414 rows x 80 columns]"
      ]
     },
     "execution_count": 10,
     "metadata": {},
     "output_type": "execute_result"
    }
   ],
   "source": [
    "ohe_df = pd.DataFrame(X_train_ohe, columns=ohe.get_feature_names(X_train.columns))\n",
    "ohe_df"
   ]
  },
  {
   "cell_type": "code",
   "execution_count": 12,
   "metadata": {},
   "outputs": [
    {
     "data": {
      "text/html": [
       "<div>\n",
       "<style scoped>\n",
       "    .dataframe tbody tr th:only-of-type {\n",
       "        vertical-align: middle;\n",
       "    }\n",
       "\n",
       "    .dataframe tbody tr th {\n",
       "        vertical-align: top;\n",
       "    }\n",
       "\n",
       "    .dataframe thead th {\n",
       "        text-align: right;\n",
       "    }\n",
       "</style>\n",
       "<table border=\"1\" class=\"dataframe\">\n",
       "  <thead>\n",
       "    <tr style=\"text-align: right;\">\n",
       "      <th></th>\n",
       "      <th>cc</th>\n",
       "    </tr>\n",
       "    <tr>\n",
       "      <th>pairs</th>\n",
       "      <th></th>\n",
       "    </tr>\n",
       "  </thead>\n",
       "  <tbody>\n",
       "    <tr>\n",
       "      <th>(SEX_F, SEX_M)</th>\n",
       "      <td>0.997693</td>\n",
       "    </tr>\n",
       "    <tr>\n",
       "      <th>(ROADWAY_SURFACE_COND_WET, ROADWAY_SURFACE_COND_DRY)</th>\n",
       "      <td>0.993172</td>\n",
       "    </tr>\n",
       "    <tr>\n",
       "      <th>(SAFETY_EQUIPMENT_SAFETY USED, SAFETY_EQUIPMENT_USAGE UNKNOWN)</th>\n",
       "      <td>0.937695</td>\n",
       "    </tr>\n",
       "    <tr>\n",
       "      <th>(PRIM_CONTRIBUTORY_CAUSE_DRIVER FAULT, PRIM_CONTRIBUTORY_CAUSE_UNABLE TO DETERMINE)</th>\n",
       "      <td>0.867761</td>\n",
       "    </tr>\n",
       "    <tr>\n",
       "      <th>(LIGHTING_CONDITION_DARKNESS, LIGHTED ROAD, LIGHTING_CONDITION_DAYLIGHT)</th>\n",
       "      <td>0.823662</td>\n",
       "    </tr>\n",
       "    <tr>\n",
       "      <th>(WEATHER_CONDITION_CLEAR, ROADWAY_SURFACE_COND_WET)</th>\n",
       "      <td>0.754888</td>\n",
       "    </tr>\n",
       "    <tr>\n",
       "      <th>(ROADWAY_SURFACE_COND_DRY, WEATHER_CONDITION_CLEAR)</th>\n",
       "      <td>0.752179</td>\n",
       "    </tr>\n",
       "  </tbody>\n",
       "</table>\n",
       "</div>"
      ],
      "text/plain": [
       "                                                          cc\n",
       "pairs                                                       \n",
       "(SEX_F, SEX_M)                                      0.997693\n",
       "(ROADWAY_SURFACE_COND_WET, ROADWAY_SURFACE_COND...  0.993172\n",
       "(SAFETY_EQUIPMENT_SAFETY USED, SAFETY_EQUIPMENT...  0.937695\n",
       "(PRIM_CONTRIBUTORY_CAUSE_DRIVER FAULT, PRIM_CON...  0.867761\n",
       "(LIGHTING_CONDITION_DARKNESS, LIGHTED ROAD, LIG...  0.823662\n",
       "(WEATHER_CONDITION_CLEAR, ROADWAY_SURFACE_COND_...  0.754888\n",
       "(ROADWAY_SURFACE_COND_DRY, WEATHER_CONDITION_CL...  0.752179"
      ]
     },
     "execution_count": 12,
     "metadata": {},
     "output_type": "execute_result"
    }
   ],
   "source": [
    "#check collinearity of features\n",
    "#df to look for collinearity in predictors via correlation matrix pairing\n",
    "#features = ohe_df.drop('INJURY_CLASSIFICATION', axis=1)\n",
    "data_pred = ohe_df.copy()\n",
    "data_pred.corr()\n",
    "df=data_pred.corr().abs().stack().reset_index().sort_values(0, ascending=False)\n",
    "# zip the variable name columns (Which were only named level_0 and level_1 by default) in a new \n",
    "#column named \"pairs\"\n",
    "df['pairs'] = list(zip(df.level_0, df.level_1))\n",
    "# set index to pairs\n",
    "df.set_index(['pairs'], inplace = True)\n",
    "#drop level columns\n",
    "df.drop(columns=['level_1', 'level_0'], inplace = True)\n",
    "# rename correlation column as cc rather than 0\n",
    "df.columns = ['cc']\n",
    "# drop duplicates\n",
    "df.drop_duplicates(inplace=True)\n",
    "#list the pairs with a high correlation, indicating collinearity\n",
    "df[(df.cc > 0.75) & (df.cc < 1)]"
   ]
  },
  {
   "cell_type": "code",
   "execution_count": 13,
   "metadata": {},
   "outputs": [
    {
     "data": {
      "text/plain": [
       "NO INJURY    142934\n",
       "INJURY        18952\n",
       "Name: INJURY_CLASSIFICATION, dtype: int64"
      ]
     },
     "execution_count": 13,
     "metadata": {},
     "output_type": "execute_result"
    }
   ],
   "source": [
    "import matplotlib.pyplot as plt\n",
    "import seaborn as sns\n",
    "%matplotlib inline\n",
    " \n",
    "\n",
    "all_df.INJURY_CLASSIFICATION.value_counts()"
   ]
  },
  {
   "cell_type": "code",
   "execution_count": 14,
   "metadata": {},
   "outputs": [
    {
     "data": {
      "text/plain": [
       "CLEAR    131610\n",
       "RAIN      16763\n",
       "OTHER      7658\n",
       "SNOW       5855\n",
       "Name: WEATHER_CONDITION, dtype: int64"
      ]
     },
     "execution_count": 14,
     "metadata": {},
     "output_type": "execute_result"
    }
   ],
   "source": [
    "all_df.WEATHER_CONDITION.value_counts()"
   ]
  },
  {
   "cell_type": "code",
   "execution_count": 52,
   "metadata": {},
   "outputs": [
    {
     "data": {
      "image/png": "[encoded data removed]",
      "text/plain": [
       "<Figure size 432x288 with 1 Axes>"
      ]
     },
     "metadata": {
      "needs_background": "light"
     },
     "output_type": "display_data"
    }
   ],
   "source": [
    "sns.countplot(x='INJURY_CLASSIFICATION', data=all_df)\n",
    "plt.show()"
   ]
  },
  {
   "cell_type": "code",
   "execution_count": 100,
   "metadata": {},
   "outputs": [
    {
     "data": {
      "image/png": "[encoded data removed]",
      "text/plain": [
       "<Figure size 432x288 with 1 Axes>"
      ]
     },
     "metadata": {
      "needs_background": "light"
     },
     "output_type": "display_data"
    }
   ],
   "source": [
    "sns.countplot(x='INJURY_CLASSIFICATION', hue='ROAD_DEFECT', data=all_df);"
   ]
  },
  {
   "cell_type": "code",
   "execution_count": 99,
   "metadata": {},
   "outputs": [
    {
     "data": {
      "image/png": "[encoded data removed]",
      "text/plain": [
       "<Figure size 432x288 with 1 Axes>"
      ]
     },
     "metadata": {
      "needs_background": "light"
     },
     "output_type": "display_data"
    }
   ],
   "source": [
    "sns.countplot(x='INJURY_CLASSIFICATION', hue='ROADWAY_SURFACE_COND', data=all_df);"
   ]
  },
  {
   "cell_type": "code",
   "execution_count": 97,
   "metadata": {},
   "outputs": [
    {
     "data": {
      "image/png": "[encoded data removed]",
      "text/plain": [
       "<Figure size 432x288 with 1 Axes>"
      ]
     },
     "metadata": {
      "needs_background": "light"
     },
     "output_type": "display_data"
    }
   ],
   "source": [
    "sns.countplot(x='INJURY_CLASSIFICATION', hue='TRAFFIC_CONTROL_DEVICE', data=all_df);"
   ]
  },
  {
   "cell_type": "code",
   "execution_count": 16,
   "metadata": {},
   "outputs": [
    {
     "data": {
      "image/png": "[encoded data removed]",
      "text/plain": [
       "<Figure size 432x288 with 1 Axes>"
      ]
     },
     "metadata": {
      "needs_background": "light"
     },
     "output_type": "display_data"
    }
   ],
   "source": [
    "sns.countplot(x='INJURY_CLASSIFICATION', hue='ACCIDENT_RATE', data=all_df).set(title='Injuries on High vs. Low Traffic Streets');"
   ]
  },
  {
   "cell_type": "code",
   "execution_count": 21,
   "metadata": {},
   "outputs": [
    {
     "data": {
      "image/png": "[encoded data removed]",
      "text/plain": [
       "<Figure size 432x288 with 1 Axes>"
      ]
     },
     "metadata": {
      "needs_background": "light"
     },
     "output_type": "display_data"
    }
   ],
   "source": [
    "sns.countplot(x='INJURY_CLASSIFICATION', hue='INTERSECTION_RELATED_I', data=all_df).set(title='Injuries and Relation to Street Intersection');"
   ]
  },
  {
   "cell_type": "code",
   "execution_count": 19,
   "metadata": {},
   "outputs": [
    {
     "data": {
      "image/png": "[encoded data removed]",
      "text/plain": [
       "<Figure size 432x288 with 1 Axes>"
      ]
     },
     "metadata": {
      "needs_background": "light"
     },
     "output_type": "display_data"
    }
   ],
   "source": [
    "sns.countplot(x='INJURY_CLASSIFICATION', hue='SEX', data=all_df).set(title='Injuries Sustained and Sex of Driver');"
   ]
  },
  {
   "cell_type": "code",
   "execution_count": 17,
   "metadata": {},
   "outputs": [
    {
     "data": {
      "image/png": "[encoded data removed]",
      "text/plain": [
       "<Figure size 432x288 with 1 Axes>"
      ]
     },
     "metadata": {
      "needs_background": "light"
     },
     "output_type": "display_data"
    }
   ],
   "source": [
    "sns.countplot(x='INJURY_CLASSIFICATION', hue='CRASH_HOUR', data=all_df).set(title='Injuries during Rush Hours vs Off-Peak Hours');"
   ]
  },
  {
   "cell_type": "code",
   "execution_count": 105,
   "metadata": {},
   "outputs": [
    {
     "data": {
      "image/png": "[encoded data removed]",
      "text/plain": [
       "<Figure size 432x288 with 1 Axes>"
      ]
     },
     "metadata": {
      "needs_background": "light"
     },
     "output_type": "display_data"
    }
   ],
   "source": [
    "#SUNDAY=1\n",
    "sns.countplot(x='INJURY_CLASSIFICATION', hue='CRASH_DAY_OF_WEEK', data=all_df);"
   ]
  },
  {
   "cell_type": "code",
   "execution_count": 106,
   "metadata": {},
   "outputs": [
    {
     "data": {
      "image/png": "[encoded data removed]",
      "text/plain": [
       "<Figure size 432x288 with 1 Axes>"
      ]
     },
     "metadata": {
      "needs_background": "light"
     },
     "output_type": "display_data"
    }
   ],
   "source": [
    "sns.countplot(x='INJURY_CLASSIFICATION', hue='PHYSICAL_CONDITION', data=all_df);"
   ]
  },
  {
   "cell_type": "code",
   "execution_count": 107,
   "metadata": {},
   "outputs": [
    {
     "data": {
      "image/png": "[encoded data removed]",
      "text/plain": [
       "<Figure size 432x288 with 1 Axes>"
      ]
     },
     "metadata": {
      "needs_background": "light"
     },
     "output_type": "display_data"
    }
   ],
   "source": [
    "sns.countplot(x='INJURY_CLASSIFICATION', hue='SAFETY_EQUIPMENT', data=all_df);"
   ]
  },
  {
   "cell_type": "code",
   "execution_count": 111,
   "metadata": {},
   "outputs": [
    {
     "data": {
      "image/png": "[encoded data removed]",
      "text/plain": [
       "<Figure size 432x288 with 1 Axes>"
      ]
     },
     "metadata": {
      "needs_background": "light"
     },
     "output_type": "display_data"
    }
   ],
   "source": [
    "sns.countplot(x='INJURY_CLASSIFICATION', hue='PRIM_CONTRIBUTORY_CAUSE', data=all_df);"
   ]
  },
  {
   "cell_type": "code",
   "execution_count": 114,
   "metadata": {},
   "outputs": [
    {
     "data": {
      "image/png": "[encoded data removed]",
      "text/plain": [
       "<Figure size 432x288 with 1 Axes>"
      ]
     },
     "metadata": {
      "needs_background": "light"
     },
     "output_type": "display_data"
    }
   ],
   "source": [
    "sns.countplot(x='INJURY_CLASSIFICATION', hue='PHYSICAL_CONDITION', data=all_df);"
   ]
  },
  {
   "cell_type": "code",
   "execution_count": 23,
   "metadata": {},
   "outputs": [
    {
     "data": {
      "image/png": "[encoded data removed]",
      "text/plain": [
       "<Figure size 432x288 with 1 Axes>"
      ]
     },
     "metadata": {
      "needs_background": "light"
     },
     "output_type": "display_data"
    }
   ],
   "source": [
    "sns.countplot(x='INJURY_CLASSIFICATION', hue='AGE', data=all_df);"
   ]
  },
  {
   "cell_type": "code",
   "execution_count": 78,
   "metadata": {},
   "outputs": [
    {
     "data": {
      "text/html": [
       "<div>\n",
       "<style scoped>\n",
       "    .dataframe tbody tr th:only-of-type {\n",
       "        vertical-align: middle;\n",
       "    }\n",
       "\n",
       "    .dataframe tbody tr th {\n",
       "        vertical-align: top;\n",
       "    }\n",
       "\n",
       "    .dataframe thead th {\n",
       "        text-align: right;\n",
       "    }\n",
       "</style>\n",
       "<table border=\"1\" class=\"dataframe\">\n",
       "  <thead>\n",
       "    <tr style=\"text-align: right;\">\n",
       "      <th></th>\n",
       "      <th>POSTED_SPEED_LIMIT</th>\n",
       "      <th>TRAFFIC_CONTROL_DEVICE</th>\n",
       "      <th>WEATHER_CONDITION</th>\n",
       "      <th>LIGHTING_CONDITION</th>\n",
       "      <th>ROADWAY_SURFACE_COND</th>\n",
       "      <th>ROAD_DEFECT</th>\n",
       "      <th>INTERSECTION_RELATED_I</th>\n",
       "      <th>PRIM_CONTRIBUTORY_CAUSE</th>\n",
       "      <th>ACCIDENT_RATE</th>\n",
       "      <th>CRASH_HOUR</th>\n",
       "      <th>CRASH_DAY_OF_WEEK</th>\n",
       "      <th>CRASH_MONTH</th>\n",
       "      <th>SEX</th>\n",
       "      <th>AGE</th>\n",
       "      <th>SAFETY_EQUIPMENT</th>\n",
       "      <th>INJURY_CLASSIFICATION</th>\n",
       "      <th>PHYSICAL_CONDITION</th>\n",
       "    </tr>\n",
       "  </thead>\n",
       "  <tbody>\n",
       "    <tr>\n",
       "      <th>4</th>\n",
       "      <td>35</td>\n",
       "      <td>STOP SIGN/FLASHER</td>\n",
       "      <td>CLEAR</td>\n",
       "      <td>DAYLIGHT</td>\n",
       "      <td>DRY</td>\n",
       "      <td>NO DEFECTS</td>\n",
       "      <td>Y</td>\n",
       "      <td>DRIVER FAULT</td>\n",
       "      <td>HIGH ACCIDENT RATE</td>\n",
       "      <td>RUSH HRS</td>\n",
       "      <td>6</td>\n",
       "      <td>6</td>\n",
       "      <td>F</td>\n",
       "      <td>TWENTIES</td>\n",
       "      <td>SAFETY USED</td>\n",
       "      <td>NO INJURY</td>\n",
       "      <td>NORMAL</td>\n",
       "    </tr>\n",
       "    <tr>\n",
       "      <th>13</th>\n",
       "      <td>30</td>\n",
       "      <td>TRAFFIC SIGNAL</td>\n",
       "      <td>CLEAR</td>\n",
       "      <td>DARKNESS, LIGHTED ROAD</td>\n",
       "      <td>DRY</td>\n",
       "      <td>NO DEFECTS</td>\n",
       "      <td>Y</td>\n",
       "      <td>UNABLE TO DETERMINE</td>\n",
       "      <td>HIGH ACCIDENT RATE</td>\n",
       "      <td>NON RUSH HRS</td>\n",
       "      <td>5</td>\n",
       "      <td>3</td>\n",
       "      <td>M</td>\n",
       "      <td>FORTIES</td>\n",
       "      <td>USAGE UNKNOWN</td>\n",
       "      <td>NO INJURY</td>\n",
       "      <td>NORMAL</td>\n",
       "    </tr>\n",
       "    <tr>\n",
       "      <th>14</th>\n",
       "      <td>30</td>\n",
       "      <td>TRAFFIC SIGNAL</td>\n",
       "      <td>CLEAR</td>\n",
       "      <td>DARKNESS, LIGHTED ROAD</td>\n",
       "      <td>DRY</td>\n",
       "      <td>NO DEFECTS</td>\n",
       "      <td>Y</td>\n",
       "      <td>UNABLE TO DETERMINE</td>\n",
       "      <td>HIGH ACCIDENT RATE</td>\n",
       "      <td>NON RUSH HRS</td>\n",
       "      <td>5</td>\n",
       "      <td>3</td>\n",
       "      <td>F</td>\n",
       "      <td>TEENAGER</td>\n",
       "      <td>USAGE UNKNOWN</td>\n",
       "      <td>NO INJURY</td>\n",
       "      <td>NORMAL</td>\n",
       "    </tr>\n",
       "    <tr>\n",
       "      <th>23</th>\n",
       "      <td>30</td>\n",
       "      <td>TRAFFIC SIGNAL</td>\n",
       "      <td>CLEAR</td>\n",
       "      <td>DAYLIGHT</td>\n",
       "      <td>DRY</td>\n",
       "      <td>NO DEFECTS</td>\n",
       "      <td>Y</td>\n",
       "      <td>UNABLE TO DETERMINE</td>\n",
       "      <td>LOW ACCIDENT RATE</td>\n",
       "      <td>RUSH HRS</td>\n",
       "      <td>3</td>\n",
       "      <td>6</td>\n",
       "      <td>F</td>\n",
       "      <td>FIFTIES</td>\n",
       "      <td>USAGE UNKNOWN</td>\n",
       "      <td>NO INJURY</td>\n",
       "      <td>NORMAL</td>\n",
       "    </tr>\n",
       "    <tr>\n",
       "      <th>24</th>\n",
       "      <td>30</td>\n",
       "      <td>TRAFFIC SIGNAL</td>\n",
       "      <td>CLEAR</td>\n",
       "      <td>DAYLIGHT</td>\n",
       "      <td>DRY</td>\n",
       "      <td>NO DEFECTS</td>\n",
       "      <td>Y</td>\n",
       "      <td>UNABLE TO DETERMINE</td>\n",
       "      <td>LOW ACCIDENT RATE</td>\n",
       "      <td>RUSH HRS</td>\n",
       "      <td>3</td>\n",
       "      <td>6</td>\n",
       "      <td>M</td>\n",
       "      <td>FIFTIES</td>\n",
       "      <td>SAFETY USED</td>\n",
       "      <td>NO INJURY</td>\n",
       "      <td>NORMAL</td>\n",
       "    </tr>\n",
       "    <tr>\n",
       "      <th>...</th>\n",
       "      <td>...</td>\n",
       "      <td>...</td>\n",
       "      <td>...</td>\n",
       "      <td>...</td>\n",
       "      <td>...</td>\n",
       "      <td>...</td>\n",
       "      <td>...</td>\n",
       "      <td>...</td>\n",
       "      <td>...</td>\n",
       "      <td>...</td>\n",
       "      <td>...</td>\n",
       "      <td>...</td>\n",
       "      <td>...</td>\n",
       "      <td>...</td>\n",
       "      <td>...</td>\n",
       "      <td>...</td>\n",
       "      <td>...</td>\n",
       "    </tr>\n",
       "    <tr>\n",
       "      <th>1168831</th>\n",
       "      <td>30</td>\n",
       "      <td>NO CONTROLS</td>\n",
       "      <td>CLEAR</td>\n",
       "      <td>DARKNESS, LIGHTED ROAD</td>\n",
       "      <td>DRY</td>\n",
       "      <td>NO DEFECTS</td>\n",
       "      <td>Y</td>\n",
       "      <td>UNABLE TO DETERMINE</td>\n",
       "      <td>HIGH ACCIDENT RATE</td>\n",
       "      <td>NON RUSH HRS</td>\n",
       "      <td>4</td>\n",
       "      <td>7</td>\n",
       "      <td>M</td>\n",
       "      <td>EIGHTY OR OLDER</td>\n",
       "      <td>USAGE UNKNOWN</td>\n",
       "      <td>NO INJURY</td>\n",
       "      <td>NORMAL</td>\n",
       "    </tr>\n",
       "    <tr>\n",
       "      <th>1168832</th>\n",
       "      <td>30</td>\n",
       "      <td>NO CONTROLS</td>\n",
       "      <td>CLEAR</td>\n",
       "      <td>DARKNESS, LIGHTED ROAD</td>\n",
       "      <td>DRY</td>\n",
       "      <td>NO DEFECTS</td>\n",
       "      <td>Y</td>\n",
       "      <td>UNABLE TO DETERMINE</td>\n",
       "      <td>HIGH ACCIDENT RATE</td>\n",
       "      <td>NON RUSH HRS</td>\n",
       "      <td>4</td>\n",
       "      <td>7</td>\n",
       "      <td>M</td>\n",
       "      <td>TWENTIES</td>\n",
       "      <td>USAGE UNKNOWN</td>\n",
       "      <td>INJURY</td>\n",
       "      <td>NORMAL</td>\n",
       "    </tr>\n",
       "    <tr>\n",
       "      <th>1168844</th>\n",
       "      <td>30</td>\n",
       "      <td>STOP SIGN/FLASHER</td>\n",
       "      <td>CLEAR</td>\n",
       "      <td>DAYLIGHT</td>\n",
       "      <td>DRY</td>\n",
       "      <td>NO DEFECTS</td>\n",
       "      <td>Y</td>\n",
       "      <td>DRIVER FAULT</td>\n",
       "      <td>LOW ACCIDENT RATE</td>\n",
       "      <td>RUSH HRS</td>\n",
       "      <td>3</td>\n",
       "      <td>7</td>\n",
       "      <td>M</td>\n",
       "      <td>THIRTIES</td>\n",
       "      <td>USAGE UNKNOWN</td>\n",
       "      <td>NO INJURY</td>\n",
       "      <td>NORMAL</td>\n",
       "    </tr>\n",
       "    <tr>\n",
       "      <th>1168845</th>\n",
       "      <td>30</td>\n",
       "      <td>STOP SIGN/FLASHER</td>\n",
       "      <td>CLEAR</td>\n",
       "      <td>DAYLIGHT</td>\n",
       "      <td>DRY</td>\n",
       "      <td>NO DEFECTS</td>\n",
       "      <td>Y</td>\n",
       "      <td>DRIVER FAULT</td>\n",
       "      <td>LOW ACCIDENT RATE</td>\n",
       "      <td>RUSH HRS</td>\n",
       "      <td>3</td>\n",
       "      <td>7</td>\n",
       "      <td>M</td>\n",
       "      <td>FORTIES</td>\n",
       "      <td>USAGE UNKNOWN</td>\n",
       "      <td>NO INJURY</td>\n",
       "      <td>NORMAL</td>\n",
       "    </tr>\n",
       "    <tr>\n",
       "      <th>1168858</th>\n",
       "      <td>30</td>\n",
       "      <td>NO CONTROLS</td>\n",
       "      <td>CLEAR</td>\n",
       "      <td>DAYLIGHT</td>\n",
       "      <td>DRY</td>\n",
       "      <td>NO DEFECTS</td>\n",
       "      <td>Y</td>\n",
       "      <td>UNABLE TO DETERMINE</td>\n",
       "      <td>HIGH ACCIDENT RATE</td>\n",
       "      <td>RUSH HRS</td>\n",
       "      <td>2</td>\n",
       "      <td>7</td>\n",
       "      <td>F</td>\n",
       "      <td>TWENTIES</td>\n",
       "      <td>SAFETY USED</td>\n",
       "      <td>INJURY</td>\n",
       "      <td>NORMAL</td>\n",
       "    </tr>\n",
       "  </tbody>\n",
       "</table>\n",
       "<p>161886 rows × 17 columns</p>\n",
       "</div>"
      ],
      "text/plain": [
       "        POSTED_SPEED_LIMIT TRAFFIC_CONTROL_DEVICE WEATHER_CONDITION  \\\n",
       "4                       35      STOP SIGN/FLASHER             CLEAR   \n",
       "13                      30         TRAFFIC SIGNAL             CLEAR   \n",
       "14                      30         TRAFFIC SIGNAL             CLEAR   \n",
       "23                      30         TRAFFIC SIGNAL             CLEAR   \n",
       "24                      30         TRAFFIC SIGNAL             CLEAR   \n",
       "...                    ...                    ...               ...   \n",
       "1168831                 30            NO CONTROLS             CLEAR   \n",
       "1168832                 30            NO CONTROLS             CLEAR   \n",
       "1168844                 30      STOP SIGN/FLASHER             CLEAR   \n",
       "1168845                 30      STOP SIGN/FLASHER             CLEAR   \n",
       "1168858                 30            NO CONTROLS             CLEAR   \n",
       "\n",
       "             LIGHTING_CONDITION ROADWAY_SURFACE_COND ROAD_DEFECT  \\\n",
       "4                      DAYLIGHT                  DRY  NO DEFECTS   \n",
       "13       DARKNESS, LIGHTED ROAD                  DRY  NO DEFECTS   \n",
       "14       DARKNESS, LIGHTED ROAD                  DRY  NO DEFECTS   \n",
       "23                     DAYLIGHT                  DRY  NO DEFECTS   \n",
       "24                     DAYLIGHT                  DRY  NO DEFECTS   \n",
       "...                         ...                  ...         ...   \n",
       "1168831  DARKNESS, LIGHTED ROAD                  DRY  NO DEFECTS   \n",
       "1168832  DARKNESS, LIGHTED ROAD                  DRY  NO DEFECTS   \n",
       "1168844                DAYLIGHT                  DRY  NO DEFECTS   \n",
       "1168845                DAYLIGHT                  DRY  NO DEFECTS   \n",
       "1168858                DAYLIGHT                  DRY  NO DEFECTS   \n",
       "\n",
       "        INTERSECTION_RELATED_I PRIM_CONTRIBUTORY_CAUSE       ACCIDENT_RATE  \\\n",
       "4                            Y            DRIVER FAULT  HIGH ACCIDENT RATE   \n",
       "13                           Y     UNABLE TO DETERMINE  HIGH ACCIDENT RATE   \n",
       "14                           Y     UNABLE TO DETERMINE  HIGH ACCIDENT RATE   \n",
       "23                           Y     UNABLE TO DETERMINE   LOW ACCIDENT RATE   \n",
       "24                           Y     UNABLE TO DETERMINE   LOW ACCIDENT RATE   \n",
       "...                        ...                     ...                 ...   \n",
       "1168831                      Y     UNABLE TO DETERMINE  HIGH ACCIDENT RATE   \n",
       "1168832                      Y     UNABLE TO DETERMINE  HIGH ACCIDENT RATE   \n",
       "1168844                      Y            DRIVER FAULT   LOW ACCIDENT RATE   \n",
       "1168845                      Y            DRIVER FAULT   LOW ACCIDENT RATE   \n",
       "1168858                      Y     UNABLE TO DETERMINE  HIGH ACCIDENT RATE   \n",
       "\n",
       "           CRASH_HOUR CRASH_DAY_OF_WEEK CRASH_MONTH SEX              AGE  \\\n",
       "4            RUSH HRS                 6           6   F         TWENTIES   \n",
       "13       NON RUSH HRS                 5           3   M          FORTIES   \n",
       "14       NON RUSH HRS                 5           3   F         TEENAGER   \n",
       "23           RUSH HRS                 3           6   F          FIFTIES   \n",
       "24           RUSH HRS                 3           6   M          FIFTIES   \n",
       "...               ...               ...         ...  ..              ...   \n",
       "1168831  NON RUSH HRS                 4           7   M  EIGHTY OR OLDER   \n",
       "1168832  NON RUSH HRS                 4           7   M         TWENTIES   \n",
       "1168844      RUSH HRS                 3           7   M         THIRTIES   \n",
       "1168845      RUSH HRS                 3           7   M          FORTIES   \n",
       "1168858      RUSH HRS                 2           7   F         TWENTIES   \n",
       "\n",
       "        SAFETY_EQUIPMENT INJURY_CLASSIFICATION PHYSICAL_CONDITION  \n",
       "4            SAFETY USED             NO INJURY             NORMAL  \n",
       "13         USAGE UNKNOWN             NO INJURY             NORMAL  \n",
       "14         USAGE UNKNOWN             NO INJURY             NORMAL  \n",
       "23         USAGE UNKNOWN             NO INJURY             NORMAL  \n",
       "24           SAFETY USED             NO INJURY             NORMAL  \n",
       "...                  ...                   ...                ...  \n",
       "1168831    USAGE UNKNOWN             NO INJURY             NORMAL  \n",
       "1168832    USAGE UNKNOWN                INJURY             NORMAL  \n",
       "1168844    USAGE UNKNOWN             NO INJURY             NORMAL  \n",
       "1168845    USAGE UNKNOWN             NO INJURY             NORMAL  \n",
       "1168858      SAFETY USED                INJURY             NORMAL  \n",
       "\n",
       "[161886 rows x 17 columns]"
      ]
     },
     "execution_count": 78,
     "metadata": {},
     "output_type": "execute_result"
    }
   ],
   "source": [
    "all_df"
   ]
  },
  {
   "cell_type": "code",
   "execution_count": 80,
   "metadata": {},
   "outputs": [
    {
     "data": {
      "text/plain": [
       "17"
      ]
     },
     "execution_count": 80,
     "metadata": {},
     "output_type": "execute_result"
    }
   ],
   "source": [
    "len(all_df.columns)"
   ]
  },
  {
   "cell_type": "code",
   "execution_count": 82,
   "metadata": {},
   "outputs": [
    {
     "data": {
      "text/html": [
       "<div>\n",
       "<style scoped>\n",
       "    .dataframe tbody tr th:only-of-type {\n",
       "        vertical-align: middle;\n",
       "    }\n",
       "\n",
       "    .dataframe tbody tr th {\n",
       "        vertical-align: top;\n",
       "    }\n",
       "\n",
       "    .dataframe thead th {\n",
       "        text-align: right;\n",
       "    }\n",
       "</style>\n",
       "<table border=\"1\" class=\"dataframe\">\n",
       "  <thead>\n",
       "    <tr style=\"text-align: right;\">\n",
       "      <th></th>\n",
       "      <th>POSTED_SPEED_LIMIT</th>\n",
       "      <th>TRAFFIC_CONTROL_DEVICE</th>\n",
       "      <th>WEATHER_CONDITION</th>\n",
       "      <th>LIGHTING_CONDITION</th>\n",
       "      <th>ROADWAY_SURFACE_COND</th>\n",
       "      <th>ROAD_DEFECT</th>\n",
       "      <th>INTERSECTION_RELATED_I</th>\n",
       "      <th>PRIM_CONTRIBUTORY_CAUSE</th>\n",
       "      <th>ACCIDENT_RATE</th>\n",
       "      <th>CRASH_HOUR</th>\n",
       "      <th>CRASH_DAY_OF_WEEK</th>\n",
       "      <th>CRASH_MONTH</th>\n",
       "      <th>SEX</th>\n",
       "      <th>AGE</th>\n",
       "      <th>SAFETY_EQUIPMENT</th>\n",
       "      <th>INJURY_CLASSIFICATION</th>\n",
       "      <th>PHYSICAL_CONDITION</th>\n",
       "    </tr>\n",
       "  </thead>\n",
       "  <tbody>\n",
       "    <tr>\n",
       "      <th>4</th>\n",
       "      <td>35</td>\n",
       "      <td>STOP SIGN/FLASHER</td>\n",
       "      <td>CLEAR</td>\n",
       "      <td>DAYLIGHT</td>\n",
       "      <td>DRY</td>\n",
       "      <td>NO DEFECTS</td>\n",
       "      <td>Y</td>\n",
       "      <td>DRIVER FAULT</td>\n",
       "      <td>HIGH ACCIDENT RATE</td>\n",
       "      <td>RUSH HRS</td>\n",
       "      <td>6</td>\n",
       "      <td>6</td>\n",
       "      <td>F</td>\n",
       "      <td>TWENTIES</td>\n",
       "      <td>SAFETY USED</td>\n",
       "      <td>NO INJURY</td>\n",
       "      <td>NORMAL</td>\n",
       "    </tr>\n",
       "    <tr>\n",
       "      <th>13</th>\n",
       "      <td>30</td>\n",
       "      <td>TRAFFIC SIGNAL</td>\n",
       "      <td>CLEAR</td>\n",
       "      <td>DARKNESS, LIGHTED ROAD</td>\n",
       "      <td>DRY</td>\n",
       "      <td>NO DEFECTS</td>\n",
       "      <td>Y</td>\n",
       "      <td>UNABLE TO DETERMINE</td>\n",
       "      <td>HIGH ACCIDENT RATE</td>\n",
       "      <td>NON RUSH HRS</td>\n",
       "      <td>5</td>\n",
       "      <td>3</td>\n",
       "      <td>M</td>\n",
       "      <td>FORTIES</td>\n",
       "      <td>USAGE UNKNOWN</td>\n",
       "      <td>NO INJURY</td>\n",
       "      <td>NORMAL</td>\n",
       "    </tr>\n",
       "    <tr>\n",
       "      <th>14</th>\n",
       "      <td>30</td>\n",
       "      <td>TRAFFIC SIGNAL</td>\n",
       "      <td>CLEAR</td>\n",
       "      <td>DARKNESS, LIGHTED ROAD</td>\n",
       "      <td>DRY</td>\n",
       "      <td>NO DEFECTS</td>\n",
       "      <td>Y</td>\n",
       "      <td>UNABLE TO DETERMINE</td>\n",
       "      <td>HIGH ACCIDENT RATE</td>\n",
       "      <td>NON RUSH HRS</td>\n",
       "      <td>5</td>\n",
       "      <td>3</td>\n",
       "      <td>F</td>\n",
       "      <td>TEENAGER</td>\n",
       "      <td>USAGE UNKNOWN</td>\n",
       "      <td>NO INJURY</td>\n",
       "      <td>NORMAL</td>\n",
       "    </tr>\n",
       "    <tr>\n",
       "      <th>23</th>\n",
       "      <td>30</td>\n",
       "      <td>TRAFFIC SIGNAL</td>\n",
       "      <td>CLEAR</td>\n",
       "      <td>DAYLIGHT</td>\n",
       "      <td>DRY</td>\n",
       "      <td>NO DEFECTS</td>\n",
       "      <td>Y</td>\n",
       "      <td>UNABLE TO DETERMINE</td>\n",
       "      <td>LOW ACCIDENT RATE</td>\n",
       "      <td>RUSH HRS</td>\n",
       "      <td>3</td>\n",
       "      <td>6</td>\n",
       "      <td>F</td>\n",
       "      <td>FIFTIES</td>\n",
       "      <td>USAGE UNKNOWN</td>\n",
       "      <td>NO INJURY</td>\n",
       "      <td>NORMAL</td>\n",
       "    </tr>\n",
       "    <tr>\n",
       "      <th>24</th>\n",
       "      <td>30</td>\n",
       "      <td>TRAFFIC SIGNAL</td>\n",
       "      <td>CLEAR</td>\n",
       "      <td>DAYLIGHT</td>\n",
       "      <td>DRY</td>\n",
       "      <td>NO DEFECTS</td>\n",
       "      <td>Y</td>\n",
       "      <td>UNABLE TO DETERMINE</td>\n",
       "      <td>LOW ACCIDENT RATE</td>\n",
       "      <td>RUSH HRS</td>\n",
       "      <td>3</td>\n",
       "      <td>6</td>\n",
       "      <td>M</td>\n",
       "      <td>FIFTIES</td>\n",
       "      <td>SAFETY USED</td>\n",
       "      <td>NO INJURY</td>\n",
       "      <td>NORMAL</td>\n",
       "    </tr>\n",
       "    <tr>\n",
       "      <th>...</th>\n",
       "      <td>...</td>\n",
       "      <td>...</td>\n",
       "      <td>...</td>\n",
       "      <td>...</td>\n",
       "      <td>...</td>\n",
       "      <td>...</td>\n",
       "      <td>...</td>\n",
       "      <td>...</td>\n",
       "      <td>...</td>\n",
       "      <td>...</td>\n",
       "      <td>...</td>\n",
       "      <td>...</td>\n",
       "      <td>...</td>\n",
       "      <td>...</td>\n",
       "      <td>...</td>\n",
       "      <td>...</td>\n",
       "      <td>...</td>\n",
       "    </tr>\n",
       "    <tr>\n",
       "      <th>1168831</th>\n",
       "      <td>30</td>\n",
       "      <td>NO CONTROLS</td>\n",
       "      <td>CLEAR</td>\n",
       "      <td>DARKNESS, LIGHTED ROAD</td>\n",
       "      <td>DRY</td>\n",
       "      <td>NO DEFECTS</td>\n",
       "      <td>Y</td>\n",
       "      <td>UNABLE TO DETERMINE</td>\n",
       "      <td>HIGH ACCIDENT RATE</td>\n",
       "      <td>NON RUSH HRS</td>\n",
       "      <td>4</td>\n",
       "      <td>7</td>\n",
       "      <td>M</td>\n",
       "      <td>EIGHTY OR OLDER</td>\n",
       "      <td>USAGE UNKNOWN</td>\n",
       "      <td>NO INJURY</td>\n",
       "      <td>NORMAL</td>\n",
       "    </tr>\n",
       "    <tr>\n",
       "      <th>1168832</th>\n",
       "      <td>30</td>\n",
       "      <td>NO CONTROLS</td>\n",
       "      <td>CLEAR</td>\n",
       "      <td>DARKNESS, LIGHTED ROAD</td>\n",
       "      <td>DRY</td>\n",
       "      <td>NO DEFECTS</td>\n",
       "      <td>Y</td>\n",
       "      <td>UNABLE TO DETERMINE</td>\n",
       "      <td>HIGH ACCIDENT RATE</td>\n",
       "      <td>NON RUSH HRS</td>\n",
       "      <td>4</td>\n",
       "      <td>7</td>\n",
       "      <td>M</td>\n",
       "      <td>TWENTIES</td>\n",
       "      <td>USAGE UNKNOWN</td>\n",
       "      <td>INJURY</td>\n",
       "      <td>NORMAL</td>\n",
       "    </tr>\n",
       "    <tr>\n",
       "      <th>1168844</th>\n",
       "      <td>30</td>\n",
       "      <td>STOP SIGN/FLASHER</td>\n",
       "      <td>CLEAR</td>\n",
       "      <td>DAYLIGHT</td>\n",
       "      <td>DRY</td>\n",
       "      <td>NO DEFECTS</td>\n",
       "      <td>Y</td>\n",
       "      <td>DRIVER FAULT</td>\n",
       "      <td>LOW ACCIDENT RATE</td>\n",
       "      <td>RUSH HRS</td>\n",
       "      <td>3</td>\n",
       "      <td>7</td>\n",
       "      <td>M</td>\n",
       "      <td>THIRTIES</td>\n",
       "      <td>USAGE UNKNOWN</td>\n",
       "      <td>NO INJURY</td>\n",
       "      <td>NORMAL</td>\n",
       "    </tr>\n",
       "    <tr>\n",
       "      <th>1168845</th>\n",
       "      <td>30</td>\n",
       "      <td>STOP SIGN/FLASHER</td>\n",
       "      <td>CLEAR</td>\n",
       "      <td>DAYLIGHT</td>\n",
       "      <td>DRY</td>\n",
       "      <td>NO DEFECTS</td>\n",
       "      <td>Y</td>\n",
       "      <td>DRIVER FAULT</td>\n",
       "      <td>LOW ACCIDENT RATE</td>\n",
       "      <td>RUSH HRS</td>\n",
       "      <td>3</td>\n",
       "      <td>7</td>\n",
       "      <td>M</td>\n",
       "      <td>FORTIES</td>\n",
       "      <td>USAGE UNKNOWN</td>\n",
       "      <td>NO INJURY</td>\n",
       "      <td>NORMAL</td>\n",
       "    </tr>\n",
       "    <tr>\n",
       "      <th>1168858</th>\n",
       "      <td>30</td>\n",
       "      <td>NO CONTROLS</td>\n",
       "      <td>CLEAR</td>\n",
       "      <td>DAYLIGHT</td>\n",
       "      <td>DRY</td>\n",
       "      <td>NO DEFECTS</td>\n",
       "      <td>Y</td>\n",
       "      <td>UNABLE TO DETERMINE</td>\n",
       "      <td>HIGH ACCIDENT RATE</td>\n",
       "      <td>RUSH HRS</td>\n",
       "      <td>2</td>\n",
       "      <td>7</td>\n",
       "      <td>F</td>\n",
       "      <td>TWENTIES</td>\n",
       "      <td>SAFETY USED</td>\n",
       "      <td>INJURY</td>\n",
       "      <td>NORMAL</td>\n",
       "    </tr>\n",
       "  </tbody>\n",
       "</table>\n",
       "<p>161886 rows × 17 columns</p>\n",
       "</div>"
      ],
      "text/plain": [
       "        POSTED_SPEED_LIMIT TRAFFIC_CONTROL_DEVICE WEATHER_CONDITION  \\\n",
       "4                       35      STOP SIGN/FLASHER             CLEAR   \n",
       "13                      30         TRAFFIC SIGNAL             CLEAR   \n",
       "14                      30         TRAFFIC SIGNAL             CLEAR   \n",
       "23                      30         TRAFFIC SIGNAL             CLEAR   \n",
       "24                      30         TRAFFIC SIGNAL             CLEAR   \n",
       "...                    ...                    ...               ...   \n",
       "1168831                 30            NO CONTROLS             CLEAR   \n",
       "1168832                 30            NO CONTROLS             CLEAR   \n",
       "1168844                 30      STOP SIGN/FLASHER             CLEAR   \n",
       "1168845                 30      STOP SIGN/FLASHER             CLEAR   \n",
       "1168858                 30            NO CONTROLS             CLEAR   \n",
       "\n",
       "             LIGHTING_CONDITION ROADWAY_SURFACE_COND ROAD_DEFECT  \\\n",
       "4                      DAYLIGHT                  DRY  NO DEFECTS   \n",
       "13       DARKNESS, LIGHTED ROAD                  DRY  NO DEFECTS   \n",
       "14       DARKNESS, LIGHTED ROAD                  DRY  NO DEFECTS   \n",
       "23                     DAYLIGHT                  DRY  NO DEFECTS   \n",
       "24                     DAYLIGHT                  DRY  NO DEFECTS   \n",
       "...                         ...                  ...         ...   \n",
       "1168831  DARKNESS, LIGHTED ROAD                  DRY  NO DEFECTS   \n",
       "1168832  DARKNESS, LIGHTED ROAD                  DRY  NO DEFECTS   \n",
       "1168844                DAYLIGHT                  DRY  NO DEFECTS   \n",
       "1168845                DAYLIGHT                  DRY  NO DEFECTS   \n",
       "1168858                DAYLIGHT                  DRY  NO DEFECTS   \n",
       "\n",
       "        INTERSECTION_RELATED_I PRIM_CONTRIBUTORY_CAUSE       ACCIDENT_RATE  \\\n",
       "4                            Y            DRIVER FAULT  HIGH ACCIDENT RATE   \n",
       "13                           Y     UNABLE TO DETERMINE  HIGH ACCIDENT RATE   \n",
       "14                           Y     UNABLE TO DETERMINE  HIGH ACCIDENT RATE   \n",
       "23                           Y     UNABLE TO DETERMINE   LOW ACCIDENT RATE   \n",
       "24                           Y     UNABLE TO DETERMINE   LOW ACCIDENT RATE   \n",
       "...                        ...                     ...                 ...   \n",
       "1168831                      Y     UNABLE TO DETERMINE  HIGH ACCIDENT RATE   \n",
       "1168832                      Y     UNABLE TO DETERMINE  HIGH ACCIDENT RATE   \n",
       "1168844                      Y            DRIVER FAULT   LOW ACCIDENT RATE   \n",
       "1168845                      Y            DRIVER FAULT   LOW ACCIDENT RATE   \n",
       "1168858                      Y     UNABLE TO DETERMINE  HIGH ACCIDENT RATE   \n",
       "\n",
       "           CRASH_HOUR CRASH_DAY_OF_WEEK CRASH_MONTH SEX              AGE  \\\n",
       "4            RUSH HRS                 6           6   F         TWENTIES   \n",
       "13       NON RUSH HRS                 5           3   M          FORTIES   \n",
       "14       NON RUSH HRS                 5           3   F         TEENAGER   \n",
       "23           RUSH HRS                 3           6   F          FIFTIES   \n",
       "24           RUSH HRS                 3           6   M          FIFTIES   \n",
       "...               ...               ...         ...  ..              ...   \n",
       "1168831  NON RUSH HRS                 4           7   M  EIGHTY OR OLDER   \n",
       "1168832  NON RUSH HRS                 4           7   M         TWENTIES   \n",
       "1168844      RUSH HRS                 3           7   M         THIRTIES   \n",
       "1168845      RUSH HRS                 3           7   M          FORTIES   \n",
       "1168858      RUSH HRS                 2           7   F         TWENTIES   \n",
       "\n",
       "        SAFETY_EQUIPMENT INJURY_CLASSIFICATION PHYSICAL_CONDITION  \n",
       "4            SAFETY USED             NO INJURY             NORMAL  \n",
       "13         USAGE UNKNOWN             NO INJURY             NORMAL  \n",
       "14         USAGE UNKNOWN             NO INJURY             NORMAL  \n",
       "23         USAGE UNKNOWN             NO INJURY             NORMAL  \n",
       "24           SAFETY USED             NO INJURY             NORMAL  \n",
       "...                  ...                   ...                ...  \n",
       "1168831    USAGE UNKNOWN             NO INJURY             NORMAL  \n",
       "1168832    USAGE UNKNOWN                INJURY             NORMAL  \n",
       "1168844    USAGE UNKNOWN             NO INJURY             NORMAL  \n",
       "1168845    USAGE UNKNOWN             NO INJURY             NORMAL  \n",
       "1168858      SAFETY USED                INJURY             NORMAL  \n",
       "\n",
       "[161886 rows x 17 columns]"
      ]
     },
     "execution_count": 82,
     "metadata": {},
     "output_type": "execute_result"
    }
   ],
   "source": [
    "all_df"
   ]
  },
  {
   "cell_type": "code",
   "execution_count": 85,
   "metadata": {},
   "outputs": [
    {
     "data": {
      "text/html": [
       "<div>\n",
       "<style scoped>\n",
       "    .dataframe tbody tr th:only-of-type {\n",
       "        vertical-align: middle;\n",
       "    }\n",
       "\n",
       "    .dataframe tbody tr th {\n",
       "        vertical-align: top;\n",
       "    }\n",
       "\n",
       "    .dataframe thead th {\n",
       "        text-align: right;\n",
       "    }\n",
       "</style>\n",
       "<table border=\"1\" class=\"dataframe\">\n",
       "  <thead>\n",
       "    <tr style=\"text-align: right;\">\n",
       "      <th></th>\n",
       "      <th>POSTED_SPEED_LIMIT</th>\n",
       "      <th>TRAFFIC_CONTROL_DEVICE</th>\n",
       "      <th>WEATHER_CONDITION</th>\n",
       "      <th>LIGHTING_CONDITION</th>\n",
       "      <th>ROADWAY_SURFACE_COND</th>\n",
       "      <th>ROAD_DEFECT</th>\n",
       "      <th>INTERSECTION_RELATED_I</th>\n",
       "      <th>PRIM_CONTRIBUTORY_CAUSE</th>\n",
       "      <th>ACCIDENT_RATE</th>\n",
       "      <th>CRASH_HOUR</th>\n",
       "      <th>CRASH_DAY_OF_WEEK</th>\n",
       "      <th>CRASH_MONTH</th>\n",
       "      <th>SEX</th>\n",
       "      <th>AGE</th>\n",
       "      <th>SAFETY_EQUIPMENT</th>\n",
       "      <th>INJURY_CLASSIFICATION</th>\n",
       "      <th>PHYSICAL_CONDITION</th>\n",
       "    </tr>\n",
       "  </thead>\n",
       "  <tbody>\n",
       "    <tr>\n",
       "      <th>count</th>\n",
       "      <td>161886</td>\n",
       "      <td>161886</td>\n",
       "      <td>161886</td>\n",
       "      <td>161886</td>\n",
       "      <td>161886</td>\n",
       "      <td>161886</td>\n",
       "      <td>161886</td>\n",
       "      <td>161886</td>\n",
       "      <td>161886</td>\n",
       "      <td>161886</td>\n",
       "      <td>161886</td>\n",
       "      <td>161886</td>\n",
       "      <td>161886</td>\n",
       "      <td>161886</td>\n",
       "      <td>161886</td>\n",
       "      <td>161886</td>\n",
       "      <td>161886</td>\n",
       "    </tr>\n",
       "    <tr>\n",
       "      <th>unique</th>\n",
       "      <td>10</td>\n",
       "      <td>4</td>\n",
       "      <td>4</td>\n",
       "      <td>5</td>\n",
       "      <td>3</td>\n",
       "      <td>2</td>\n",
       "      <td>2</td>\n",
       "      <td>6</td>\n",
       "      <td>2</td>\n",
       "      <td>2</td>\n",
       "      <td>7</td>\n",
       "      <td>12</td>\n",
       "      <td>3</td>\n",
       "      <td>9</td>\n",
       "      <td>5</td>\n",
       "      <td>2</td>\n",
       "      <td>4</td>\n",
       "    </tr>\n",
       "    <tr>\n",
       "      <th>top</th>\n",
       "      <td>30</td>\n",
       "      <td>TRAFFIC SIGNAL</td>\n",
       "      <td>CLEAR</td>\n",
       "      <td>DAYLIGHT</td>\n",
       "      <td>DRY</td>\n",
       "      <td>NO DEFECTS</td>\n",
       "      <td>Y</td>\n",
       "      <td>DRIVER FAULT</td>\n",
       "      <td>HIGH ACCIDENT RATE</td>\n",
       "      <td>RUSH HRS</td>\n",
       "      <td>6</td>\n",
       "      <td>7</td>\n",
       "      <td>M</td>\n",
       "      <td>TWENTIES</td>\n",
       "      <td>SAFETY USED</td>\n",
       "      <td>NO INJURY</td>\n",
       "      <td>NORMAL</td>\n",
       "    </tr>\n",
       "    <tr>\n",
       "      <th>freq</th>\n",
       "      <td>134479</td>\n",
       "      <td>98646</td>\n",
       "      <td>131610</td>\n",
       "      <td>110513</td>\n",
       "      <td>128590</td>\n",
       "      <td>158916</td>\n",
       "      <td>155253</td>\n",
       "      <td>118643</td>\n",
       "      <td>93238</td>\n",
       "      <td>101606</td>\n",
       "      <td>27006</td>\n",
       "      <td>15059</td>\n",
       "      <td>96417</td>\n",
       "      <td>42142</td>\n",
       "      <td>114692</td>\n",
       "      <td>142934</td>\n",
       "      <td>158398</td>\n",
       "    </tr>\n",
       "  </tbody>\n",
       "</table>\n",
       "</div>"
      ],
      "text/plain": [
       "       POSTED_SPEED_LIMIT TRAFFIC_CONTROL_DEVICE WEATHER_CONDITION  \\\n",
       "count              161886                 161886            161886   \n",
       "unique                 10                      4                 4   \n",
       "top                    30         TRAFFIC SIGNAL             CLEAR   \n",
       "freq               134479                  98646            131610   \n",
       "\n",
       "       LIGHTING_CONDITION ROADWAY_SURFACE_COND ROAD_DEFECT  \\\n",
       "count              161886               161886      161886   \n",
       "unique                  5                    3           2   \n",
       "top              DAYLIGHT                  DRY  NO DEFECTS   \n",
       "freq               110513               128590      158916   \n",
       "\n",
       "       INTERSECTION_RELATED_I PRIM_CONTRIBUTORY_CAUSE       ACCIDENT_RATE  \\\n",
       "count                  161886                  161886              161886   \n",
       "unique                      2                       6                   2   \n",
       "top                         Y            DRIVER FAULT  HIGH ACCIDENT RATE   \n",
       "freq                   155253                  118643               93238   \n",
       "\n",
       "       CRASH_HOUR CRASH_DAY_OF_WEEK CRASH_MONTH     SEX       AGE  \\\n",
       "count      161886            161886      161886  161886    161886   \n",
       "unique          2                 7          12       3         9   \n",
       "top      RUSH HRS                 6           7       M  TWENTIES   \n",
       "freq       101606             27006       15059   96417     42142   \n",
       "\n",
       "       SAFETY_EQUIPMENT INJURY_CLASSIFICATION PHYSICAL_CONDITION  \n",
       "count            161886                161886             161886  \n",
       "unique                5                     2                  4  \n",
       "top         SAFETY USED             NO INJURY             NORMAL  \n",
       "freq             114692                142934             158398  "
      ]
     },
     "execution_count": 85,
     "metadata": {},
     "output_type": "execute_result"
    }
   ],
   "source": [
    "all_df.describe()"
   ]
  },
  {
   "cell_type": "code",
   "execution_count": 92,
   "metadata": {},
   "outputs": [
    {
     "data": {
      "image/png": "[encoded data removed]",
      "text/plain": [
       "<Figure size 432x288 with 1 Axes>"
      ]
     },
     "metadata": {
      "needs_background": "light"
     },
     "output_type": "display_data"
    }
   ],
   "source": [
    "all_df['POSTED_SPEED_LIMIT'].value_counts().plot(kind='bar', xlabel='Speed Limits', ylabel='Count', \n",
    "                                                     title='Posted Speed Limit at Scene of Accident', \n",
    "                                                     rot=45);\n"
   ]
  },
  {
   "cell_type": "code",
   "execution_count": 57,
   "metadata": {},
   "outputs": [
    {
     "data": {
      "text/plain": [
       "['POSTED_SPEED_LIMIT',\n",
       " 'TRAFFIC_CONTROL_DEVICE',\n",
       " 'WEATHER_CONDITION',\n",
       " 'LIGHTING_CONDITION',\n",
       " 'ROADWAY_SURFACE_COND',\n",
       " 'ROAD_DEFECT',\n",
       " 'INTERSECTION_RELATED_I',\n",
       " 'PRIM_CONTRIBUTORY_CAUSE',\n",
       " 'ACCIDENT_RATE',\n",
       " 'CRASH_HOUR',\n",
       " 'CRASH_DAY_OF_WEEK',\n",
       " 'CRASH_MONTH',\n",
       " 'SEX',\n",
       " 'AGE',\n",
       " 'SAFETY_EQUIPMENT',\n",
       " 'INJURY_CLASSIFICATION',\n",
       " 'PHYSICAL_CONDITION']"
      ]
     },
     "execution_count": 57,
     "metadata": {},
     "output_type": "execute_result"
    }
   ],
   "source": [
    "columns"
   ]
  },
  {
   "cell_type": "code",
   "execution_count": 89,
   "metadata": {},
   "outputs": [
    {
     "data": {
      "image/png": "[encoded data removed]",
      "text/plain": [
       "<Figure size 432x288 with 1 Axes>"
      ]
     },
     "metadata": {
      "needs_background": "light"
     },
     "output_type": "display_data"
    }
   ],
   "source": [
    "all_df['TRAFFIC_CONTROL_DEVICE'].value_counts().plot(kind='bar', xlabel='Devices', ylabel='Count', \n",
    "                                                     title='Traffic Control Devices at Scene of Accident', \n",
    "                                                     rot=45);"
   ]
  },
  {
   "cell_type": "code",
   "execution_count": 90,
   "metadata": {},
   "outputs": [
    {
     "data": {
      "image/png": "[encoded data removed]",
      "text/plain": [
       "<Figure size 432x288 with 1 Axes>"
      ]
     },
     "metadata": {
      "needs_background": "light"
     },
     "output_type": "display_data"
    }
   ],
   "source": [
    "all_df['WEATHER_CONDITION'].value_counts().plot(kind='bar', xlabel='Weather', ylabel='Count', \n",
    "                                                     title='Weather at the Time of Accident', \n",
    "                                                     rot=45);"
   ]
  },
  {
   "cell_type": "code",
   "execution_count": 93,
   "metadata": {},
   "outputs": [
    {
     "data": {
      "image/png": "[encoded data removed]",
      "text/plain": [
       "<Figure size 432x288 with 1 Axes>"
      ]
     },
     "metadata": {
      "needs_background": "light"
     },
     "output_type": "display_data"
    }
   ],
   "source": [
    "all_df['ROADWAY_SURFACE_COND'].value_counts().plot(kind='bar', xlabel='Roadway Surface', ylabel='Count', \n",
    "                                                     title='Roadway Surface Condition at the Time of Accident', \n",
    "                                                     rot=45);"
   ]
  },
  {
   "cell_type": "code",
   "execution_count": 94,
   "metadata": {},
   "outputs": [
    {
     "data": {
      "image/png": "[encoded data removed]",
      "text/plain": [
       "<Figure size 432x288 with 1 Axes>"
      ]
     },
     "metadata": {
      "needs_background": "light"
     },
     "output_type": "display_data"
    }
   ],
   "source": [
    "all_df['LIGHTING_CONDITION'].value_counts().plot(kind='bar', xlabel='Lighting', ylabel='Count', \n",
    "                                                     title='Lighting Condition at the Time of Accident', \n",
    "                                                     rot=45);"
   ]
  },
  {
   "cell_type": "code",
   "execution_count": 22,
   "metadata": {},
   "outputs": [
    {
     "data": {
      "image/png": "[encoded data removed]",
      "text/plain": [
       "<Figure size 432x288 with 1 Axes>"
      ]
     },
     "metadata": {
      "needs_background": "light"
     },
     "output_type": "display_data"
    }
   ],
   "source": [
    "all_df['INTERSECTION_RELATED_I'].value_counts().plot(kind='bar', xlabel='Intersection', ylabel='Count', \n",
    "                                                     title='Accident Occurred at an Intersection', \n",
    "                                                     rot=45);"
   ]
  },
  {
   "cell_type": "code",
   "execution_count": 110,
   "metadata": {},
   "outputs": [
    {
     "data": {
      "image/png": "[encoded data removed]",
      "text/plain": [
       "<Figure size 432x288 with 1 Axes>"
      ]
     },
     "metadata": {
      "needs_background": "light"
     },
     "output_type": "display_data"
    }
   ],
   "source": [
    "all_df['PRIM_CONTRIBUTORY_CAUSE'].value_counts().plot(kind='bar', xlabel='Causes', ylabel='Count', \n",
    "                                                     title='Primary Contributory Causes', \n",
    "                                                     rot=45);"
   ]
  },
  {
   "cell_type": "code",
   "execution_count": 112,
   "metadata": {},
   "outputs": [
    {
     "data": {
      "image/png": "[encoded data removed]",
      "text/plain": [
       "<Figure size 432x288 with 1 Axes>"
      ]
     },
     "metadata": {
      "needs_background": "light"
     },
     "output_type": "display_data"
    }
   ],
   "source": [
    "all_df['CRASH_MONTH'].value_counts().plot(kind='bar', xlabel='Months', ylabel='Count', \n",
    "                                                     title='Months in which the Accident Occurred', \n",
    "                                                     rot=45);"
   ]
  },
  {
   "cell_type": "code",
   "execution_count": 113,
   "metadata": {},
   "outputs": [
    {
     "data": {
      "image/png": "[encoded data removed]",
      "text/plain": [
       "<Figure size 432x288 with 1 Axes>"
      ]
     },
     "metadata": {
      "needs_background": "light"
     },
     "output_type": "display_data"
    }
   ],
   "source": [
    "all_df['AGE'].value_counts().plot(kind='bar', xlabel='Ages', ylabel='Count', \n",
    "                                                     title='Ages of Drivers', \n",
    "                                                     rot=45);"
   ]
  },
  {
   "cell_type": "code",
   "execution_count": 115,
   "metadata": {},
   "outputs": [
    {
     "data": {
      "image/png": "[encoded data removed]",
      "text/plain": [
       "<Figure size 432x288 with 1 Axes>"
      ]
     },
     "metadata": {
      "needs_background": "light"
     },
     "output_type": "display_data"
    }
   ],
   "source": [
    "all_df['PHYSICAL_CONDITION'].value_counts().plot(kind='bar', xlabel='Physical Condition', ylabel='Count', \n",
    "                                                     title='Physical Condition of Drivers', \n",
    "                                                     rot=45);"
   ]
  },
  {
   "cell_type": "code",
   "execution_count": null,
   "metadata": {},
   "outputs": [],
   "source": []
  }
 ],
 "metadata": {
  "kernelspec": {
   "display_name": "Python 3",
   "language": "python",
   "name": "python3"
  },
  "language_info": {
   "codemirror_mode": {
    "name": "ipython",
    "version": 3
   },
   "file_extension": ".py",
   "mimetype": "text/x-python",
   "name": "python",
   "nbconvert_exporter": "python",
   "pygments_lexer": "ipython3",
   "version": "3.8.3"
  }
 },
 "nbformat": 4,
 "nbformat_minor": 4
}
