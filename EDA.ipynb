{
 "cells": [
  {
   "cell_type": "code",
   "execution_count": 2,
   "metadata": {
    "scrolled": true
   },
   "outputs": [
    {
     "data": {
      "text/html": [
       "<div>\n",
       "<style scoped>\n",
       "    .dataframe tbody tr th:only-of-type {\n",
       "        vertical-align: middle;\n",
       "    }\n",
       "\n",
       "    .dataframe tbody tr th {\n",
       "        vertical-align: top;\n",
       "    }\n",
       "\n",
       "    .dataframe thead th {\n",
       "        text-align: right;\n",
       "    }\n",
       "</style>\n",
       "<table border=\"1\" class=\"dataframe\">\n",
       "  <thead>\n",
       "    <tr style=\"text-align: right;\">\n",
       "      <th></th>\n",
       "      <th>CRASH_RECORD_ID</th>\n",
       "      <th>RD_NO</th>\n",
       "      <th>CRASH_DATE_EST_I</th>\n",
       "      <th>CRASH_DATE</th>\n",
       "      <th>POSTED_SPEED_LIMIT</th>\n",
       "      <th>TRAFFIC_CONTROL_DEVICE</th>\n",
       "      <th>DEVICE_CONDITION</th>\n",
       "      <th>WEATHER_CONDITION</th>\n",
       "      <th>LIGHTING_CONDITION</th>\n",
       "      <th>FIRST_CRASH_TYPE</th>\n",
       "      <th>...</th>\n",
       "      <th>INJURIES_NON_INCAPACITATING</th>\n",
       "      <th>INJURIES_REPORTED_NOT_EVIDENT</th>\n",
       "      <th>INJURIES_NO_INDICATION</th>\n",
       "      <th>INJURIES_UNKNOWN</th>\n",
       "      <th>CRASH_HOUR</th>\n",
       "      <th>CRASH_DAY_OF_WEEK</th>\n",
       "      <th>CRASH_MONTH</th>\n",
       "      <th>LATITUDE</th>\n",
       "      <th>LONGITUDE</th>\n",
       "      <th>LOCATION</th>\n",
       "    </tr>\n",
       "  </thead>\n",
       "  <tbody>\n",
       "    <tr>\n",
       "      <th>0</th>\n",
       "      <td>4fd0a3e0897b3335b94cd8d5b2d2b350eb691add56c62d...</td>\n",
       "      <td>JC343143</td>\n",
       "      <td>NaN</td>\n",
       "      <td>07/10/2019 05:56:00 PM</td>\n",
       "      <td>35</td>\n",
       "      <td>NO CONTROLS</td>\n",
       "      <td>NO CONTROLS</td>\n",
       "      <td>CLEAR</td>\n",
       "      <td>DAYLIGHT</td>\n",
       "      <td>TURNING</td>\n",
       "      <td>...</td>\n",
       "      <td>0.0</td>\n",
       "      <td>0.0</td>\n",
       "      <td>3.0</td>\n",
       "      <td>0.0</td>\n",
       "      <td>17</td>\n",
       "      <td>4</td>\n",
       "      <td>7</td>\n",
       "      <td>41.919664</td>\n",
       "      <td>-87.773288</td>\n",
       "      <td>POINT (-87.773287883007 41.919663832993)</td>\n",
       "    </tr>\n",
       "    <tr>\n",
       "      <th>1</th>\n",
       "      <td>009e9e67203442370272e1a13d6ee51a4155dac65e583d...</td>\n",
       "      <td>JA329216</td>\n",
       "      <td>NaN</td>\n",
       "      <td>06/30/2017 04:00:00 PM</td>\n",
       "      <td>35</td>\n",
       "      <td>STOP SIGN/FLASHER</td>\n",
       "      <td>FUNCTIONING PROPERLY</td>\n",
       "      <td>CLEAR</td>\n",
       "      <td>DAYLIGHT</td>\n",
       "      <td>TURNING</td>\n",
       "      <td>...</td>\n",
       "      <td>0.0</td>\n",
       "      <td>0.0</td>\n",
       "      <td>3.0</td>\n",
       "      <td>0.0</td>\n",
       "      <td>16</td>\n",
       "      <td>6</td>\n",
       "      <td>6</td>\n",
       "      <td>41.741804</td>\n",
       "      <td>-87.740954</td>\n",
       "      <td>POINT (-87.740953581987 41.741803598989)</td>\n",
       "    </tr>\n",
       "    <tr>\n",
       "      <th>2</th>\n",
       "      <td>ee9283eff3a55ac50ee58f3d9528ce1d689b1c4180b4c4...</td>\n",
       "      <td>JD292400</td>\n",
       "      <td>NaN</td>\n",
       "      <td>07/10/2020 10:25:00 AM</td>\n",
       "      <td>30</td>\n",
       "      <td>TRAFFIC SIGNAL</td>\n",
       "      <td>FUNCTIONING PROPERLY</td>\n",
       "      <td>CLEAR</td>\n",
       "      <td>DAYLIGHT</td>\n",
       "      <td>REAR END</td>\n",
       "      <td>...</td>\n",
       "      <td>0.0</td>\n",
       "      <td>0.0</td>\n",
       "      <td>3.0</td>\n",
       "      <td>0.0</td>\n",
       "      <td>10</td>\n",
       "      <td>6</td>\n",
       "      <td>7</td>\n",
       "      <td>41.773456</td>\n",
       "      <td>-87.585022</td>\n",
       "      <td>POINT (-87.585022352022 41.773455972008)</td>\n",
       "    </tr>\n",
       "    <tr>\n",
       "      <th>3</th>\n",
       "      <td>f8960f698e870ebdc60b521b2a141a5395556bc3704191...</td>\n",
       "      <td>JD293602</td>\n",
       "      <td>NaN</td>\n",
       "      <td>07/11/2020 01:00:00 AM</td>\n",
       "      <td>30</td>\n",
       "      <td>NO CONTROLS</td>\n",
       "      <td>NO CONTROLS</td>\n",
       "      <td>CLEAR</td>\n",
       "      <td>DARKNESS</td>\n",
       "      <td>PARKED MOTOR VEHICLE</td>\n",
       "      <td>...</td>\n",
       "      <td>0.0</td>\n",
       "      <td>0.0</td>\n",
       "      <td>3.0</td>\n",
       "      <td>0.0</td>\n",
       "      <td>1</td>\n",
       "      <td>7</td>\n",
       "      <td>7</td>\n",
       "      <td>41.802119</td>\n",
       "      <td>-87.622115</td>\n",
       "      <td>POINT (-87.622114914961 41.802118543011)</td>\n",
       "    </tr>\n",
       "    <tr>\n",
       "      <th>4</th>\n",
       "      <td>8eaa2678d1a127804ee9b8c35ddf7d63d913c14eda61d6...</td>\n",
       "      <td>JD290451</td>\n",
       "      <td>NaN</td>\n",
       "      <td>07/08/2020 02:00:00 PM</td>\n",
       "      <td>20</td>\n",
       "      <td>NO CONTROLS</td>\n",
       "      <td>NO CONTROLS</td>\n",
       "      <td>CLEAR</td>\n",
       "      <td>DAYLIGHT</td>\n",
       "      <td>PARKED MOTOR VEHICLE</td>\n",
       "      <td>...</td>\n",
       "      <td>0.0</td>\n",
       "      <td>0.0</td>\n",
       "      <td>1.0</td>\n",
       "      <td>0.0</td>\n",
       "      <td>14</td>\n",
       "      <td>4</td>\n",
       "      <td>7</td>\n",
       "      <td>NaN</td>\n",
       "      <td>NaN</td>\n",
       "      <td>NaN</td>\n",
       "    </tr>\n",
       "  </tbody>\n",
       "</table>\n",
       "<p>5 rows × 49 columns</p>\n",
       "</div>"
      ],
      "text/plain": [
       "                                     CRASH_RECORD_ID     RD_NO  \\\n",
       "0  4fd0a3e0897b3335b94cd8d5b2d2b350eb691add56c62d...  JC343143   \n",
       "1  009e9e67203442370272e1a13d6ee51a4155dac65e583d...  JA329216   \n",
       "2  ee9283eff3a55ac50ee58f3d9528ce1d689b1c4180b4c4...  JD292400   \n",
       "3  f8960f698e870ebdc60b521b2a141a5395556bc3704191...  JD293602   \n",
       "4  8eaa2678d1a127804ee9b8c35ddf7d63d913c14eda61d6...  JD290451   \n",
       "\n",
       "  CRASH_DATE_EST_I              CRASH_DATE  POSTED_SPEED_LIMIT  \\\n",
       "0              NaN  07/10/2019 05:56:00 PM                  35   \n",
       "1              NaN  06/30/2017 04:00:00 PM                  35   \n",
       "2              NaN  07/10/2020 10:25:00 AM                  30   \n",
       "3              NaN  07/11/2020 01:00:00 AM                  30   \n",
       "4              NaN  07/08/2020 02:00:00 PM                  20   \n",
       "\n",
       "  TRAFFIC_CONTROL_DEVICE      DEVICE_CONDITION WEATHER_CONDITION  \\\n",
       "0            NO CONTROLS           NO CONTROLS             CLEAR   \n",
       "1      STOP SIGN/FLASHER  FUNCTIONING PROPERLY             CLEAR   \n",
       "2         TRAFFIC SIGNAL  FUNCTIONING PROPERLY             CLEAR   \n",
       "3            NO CONTROLS           NO CONTROLS             CLEAR   \n",
       "4            NO CONTROLS           NO CONTROLS             CLEAR   \n",
       "\n",
       "  LIGHTING_CONDITION      FIRST_CRASH_TYPE  ... INJURIES_NON_INCAPACITATING  \\\n",
       "0           DAYLIGHT               TURNING  ...                         0.0   \n",
       "1           DAYLIGHT               TURNING  ...                         0.0   \n",
       "2           DAYLIGHT              REAR END  ...                         0.0   \n",
       "3           DARKNESS  PARKED MOTOR VEHICLE  ...                         0.0   \n",
       "4           DAYLIGHT  PARKED MOTOR VEHICLE  ...                         0.0   \n",
       "\n",
       "   INJURIES_REPORTED_NOT_EVIDENT INJURIES_NO_INDICATION INJURIES_UNKNOWN  \\\n",
       "0                            0.0                    3.0              0.0   \n",
       "1                            0.0                    3.0              0.0   \n",
       "2                            0.0                    3.0              0.0   \n",
       "3                            0.0                    3.0              0.0   \n",
       "4                            0.0                    1.0              0.0   \n",
       "\n",
       "  CRASH_HOUR CRASH_DAY_OF_WEEK CRASH_MONTH   LATITUDE  LONGITUDE  \\\n",
       "0         17                 4           7  41.919664 -87.773288   \n",
       "1         16                 6           6  41.741804 -87.740954   \n",
       "2         10                 6           7  41.773456 -87.585022   \n",
       "3          1                 7           7  41.802119 -87.622115   \n",
       "4         14                 4           7        NaN        NaN   \n",
       "\n",
       "                                   LOCATION  \n",
       "0  POINT (-87.773287883007 41.919663832993)  \n",
       "1  POINT (-87.740953581987 41.741803598989)  \n",
       "2  POINT (-87.585022352022 41.773455972008)  \n",
       "3  POINT (-87.622114914961 41.802118543011)  \n",
       "4                                       NaN  \n",
       "\n",
       "[5 rows x 49 columns]"
      ]
     },
     "execution_count": 2,
     "metadata": {},
     "output_type": "execute_result"
    }
   ],
   "source": [
    "import pandas as pd\n",
    "\n",
    "data = pd.read_csv('ChiTrafCrash')\n",
    "data.head()"
   ]
  },
  {
   "cell_type": "code",
   "execution_count": 2,
   "metadata": {},
   "outputs": [
    {
     "name": "stdout",
     "output_type": "stream",
     "text": [
      "<class 'pandas.core.frame.DataFrame'>\n",
      "RangeIndex: 528928 entries, 0 to 528927\n",
      "Data columns (total 49 columns):\n",
      " #   Column                         Non-Null Count   Dtype  \n",
      "---  ------                         --------------   -----  \n",
      " 0   CRASH_RECORD_ID                528928 non-null  object \n",
      " 1   RD_NO                          524270 non-null  object \n",
      " 2   CRASH_DATE_EST_I               40049 non-null   object \n",
      " 3   CRASH_DATE                     528928 non-null  object \n",
      " 4   POSTED_SPEED_LIMIT             528928 non-null  int64  \n",
      " 5   TRAFFIC_CONTROL_DEVICE         528928 non-null  object \n",
      " 6   DEVICE_CONDITION               528928 non-null  object \n",
      " 7   WEATHER_CONDITION              528928 non-null  object \n",
      " 8   LIGHTING_CONDITION             528928 non-null  object \n",
      " 9   FIRST_CRASH_TYPE               528928 non-null  object \n",
      " 10  TRAFFICWAY_TYPE                528928 non-null  object \n",
      " 11  LANE_CNT                       198967 non-null  float64\n",
      " 12  ALIGNMENT                      528928 non-null  object \n",
      " 13  ROADWAY_SURFACE_COND           528928 non-null  object \n",
      " 14  ROAD_DEFECT                    528928 non-null  object \n",
      " 15  REPORT_TYPE                    515751 non-null  object \n",
      " 16  CRASH_TYPE                     528928 non-null  object \n",
      " 17  INTERSECTION_RELATED_I         119846 non-null  object \n",
      " 18  NOT_RIGHT_OF_WAY_I             25021 non-null   object \n",
      " 19  HIT_AND_RUN_I                  158650 non-null  object \n",
      " 20  DAMAGE                         528928 non-null  object \n",
      " 21  DATE_POLICE_NOTIFIED           528928 non-null  object \n",
      " 22  PRIM_CONTRIBUTORY_CAUSE        528928 non-null  object \n",
      " 23  SEC_CONTRIBUTORY_CAUSE         528928 non-null  object \n",
      " 24  STREET_NO                      528928 non-null  int64  \n",
      " 25  STREET_DIRECTION               528925 non-null  object \n",
      " 26  STREET_NAME                    528927 non-null  object \n",
      " 27  BEAT_OF_OCCURRENCE             528923 non-null  float64\n",
      " 28  PHOTOS_TAKEN_I                 6609 non-null    object \n",
      " 29  STATEMENTS_TAKEN_I             10760 non-null   object \n",
      " 30  DOORING_I                      1700 non-null    object \n",
      " 31  WORK_ZONE_I                    3341 non-null    object \n",
      " 32  WORK_ZONE_TYPE                 2644 non-null    object \n",
      " 33  WORKERS_PRESENT_I              824 non-null     object \n",
      " 34  NUM_UNITS                      528928 non-null  int64  \n",
      " 35  MOST_SEVERE_INJURY             527851 non-null  object \n",
      " 36  INJURIES_TOTAL                 527862 non-null  float64\n",
      " 37  INJURIES_FATAL                 527862 non-null  float64\n",
      " 38  INJURIES_INCAPACITATING        527862 non-null  float64\n",
      " 39  INJURIES_NON_INCAPACITATING    527862 non-null  float64\n",
      " 40  INJURIES_REPORTED_NOT_EVIDENT  527862 non-null  float64\n",
      " 41  INJURIES_NO_INDICATION         527862 non-null  float64\n",
      " 42  INJURIES_UNKNOWN               527862 non-null  float64\n",
      " 43  CRASH_HOUR                     528928 non-null  int64  \n",
      " 44  CRASH_DAY_OF_WEEK              528928 non-null  int64  \n",
      " 45  CRASH_MONTH                    528928 non-null  int64  \n",
      " 46  LATITUDE                       525921 non-null  float64\n",
      " 47  LONGITUDE                      525921 non-null  float64\n",
      " 48  LOCATION                       525921 non-null  object \n",
      "dtypes: float64(11), int64(6), object(32)\n",
      "memory usage: 197.7+ MB\n"
     ]
    }
   ],
   "source": [
    "data.info()"
   ]
  },
  {
   "cell_type": "code",
   "execution_count": 3,
   "metadata": {},
   "outputs": [
    {
     "data": {
      "text/plain": [
       "Y    2644\n",
       "N     697\n",
       "Name: WORK_ZONE_I, dtype: int64"
      ]
     },
     "execution_count": 3,
     "metadata": {},
     "output_type": "execute_result"
    }
   ],
   "source": [
    "data.WORK_ZONE_I.value_counts()"
   ]
  },
  {
   "cell_type": "code",
   "execution_count": 3,
   "metadata": {
    "scrolled": true
   },
   "outputs": [
    {
     "name": "stderr",
     "output_type": "stream",
     "text": [
      "/home/jojo/anaconda3/lib/python3.8/site-packages/IPython/core/interactiveshell.py:3071: DtypeWarning: Columns (12,13,20,21,22,23,24,25,26,27,29) have mixed types.Specify dtype option on import or set low_memory=False.\n",
      "  has_raised = await self.run_ast_nodes(code_ast.body, cell_name,\n"
     ]
    }
   ],
   "source": [
    "people = pd.read_csv('ChiPeopCrash')"
   ]
  },
  {
   "cell_type": "code",
   "execution_count": 9,
   "metadata": {},
   "outputs": [
    {
     "data": {
      "text/html": [
       "<div>\n",
       "<style scoped>\n",
       "    .dataframe tbody tr th:only-of-type {\n",
       "        vertical-align: middle;\n",
       "    }\n",
       "\n",
       "    .dataframe tbody tr th {\n",
       "        vertical-align: top;\n",
       "    }\n",
       "\n",
       "    .dataframe thead th {\n",
       "        text-align: right;\n",
       "    }\n",
       "</style>\n",
       "<table border=\"1\" class=\"dataframe\">\n",
       "  <thead>\n",
       "    <tr style=\"text-align: right;\">\n",
       "      <th></th>\n",
       "      <th>PERSON_ID</th>\n",
       "      <th>PERSON_TYPE</th>\n",
       "      <th>CRASH_RECORD_ID</th>\n",
       "      <th>RD_NO</th>\n",
       "      <th>VEHICLE_ID</th>\n",
       "      <th>CRASH_DATE</th>\n",
       "      <th>SEAT_NO</th>\n",
       "      <th>CITY</th>\n",
       "      <th>STATE</th>\n",
       "      <th>ZIPCODE</th>\n",
       "      <th>...</th>\n",
       "      <th>EMS_RUN_NO</th>\n",
       "      <th>DRIVER_ACTION</th>\n",
       "      <th>DRIVER_VISION</th>\n",
       "      <th>PHYSICAL_CONDITION</th>\n",
       "      <th>PEDPEDAL_ACTION</th>\n",
       "      <th>PEDPEDAL_VISIBILITY</th>\n",
       "      <th>PEDPEDAL_LOCATION</th>\n",
       "      <th>BAC_RESULT</th>\n",
       "      <th>BAC_RESULT VALUE</th>\n",
       "      <th>CELL_PHONE_USE</th>\n",
       "    </tr>\n",
       "  </thead>\n",
       "  <tbody>\n",
       "    <tr>\n",
       "      <th>0</th>\n",
       "      <td>O749947</td>\n",
       "      <td>DRIVER</td>\n",
       "      <td>81dc0de2ed92aa62baccab641fa377be7feb1cc47e6554...</td>\n",
       "      <td>JC451435</td>\n",
       "      <td>834816.0</td>\n",
       "      <td>09/28/2019 03:30:00 AM</td>\n",
       "      <td>NaN</td>\n",
       "      <td>CHICAGO</td>\n",
       "      <td>IL</td>\n",
       "      <td>60651</td>\n",
       "      <td>...</td>\n",
       "      <td>NaN</td>\n",
       "      <td>UNKNOWN</td>\n",
       "      <td>UNKNOWN</td>\n",
       "      <td>UNKNOWN</td>\n",
       "      <td>NaN</td>\n",
       "      <td>NaN</td>\n",
       "      <td>NaN</td>\n",
       "      <td>TEST NOT OFFERED</td>\n",
       "      <td>NaN</td>\n",
       "      <td>NaN</td>\n",
       "    </tr>\n",
       "    <tr>\n",
       "      <th>1</th>\n",
       "      <td>O871921</td>\n",
       "      <td>DRIVER</td>\n",
       "      <td>af84fb5c8d996fcd3aefd36593c3a02e6e7509eeb27568...</td>\n",
       "      <td>JD208731</td>\n",
       "      <td>827212.0</td>\n",
       "      <td>04/13/2020 10:50:00 PM</td>\n",
       "      <td>NaN</td>\n",
       "      <td>CHICAGO</td>\n",
       "      <td>IL</td>\n",
       "      <td>60620</td>\n",
       "      <td>...</td>\n",
       "      <td>NaN</td>\n",
       "      <td>NONE</td>\n",
       "      <td>NOT OBSCURED</td>\n",
       "      <td>NORMAL</td>\n",
       "      <td>NaN</td>\n",
       "      <td>NaN</td>\n",
       "      <td>NaN</td>\n",
       "      <td>TEST NOT OFFERED</td>\n",
       "      <td>NaN</td>\n",
       "      <td>NaN</td>\n",
       "    </tr>\n",
       "    <tr>\n",
       "      <th>2</th>\n",
       "      <td>O10018</td>\n",
       "      <td>DRIVER</td>\n",
       "      <td>71162af7bf22799b776547132ebf134b5b438dcf3dac6b...</td>\n",
       "      <td>HY484534</td>\n",
       "      <td>9579.0</td>\n",
       "      <td>11/01/2015 05:00:00 AM</td>\n",
       "      <td>NaN</td>\n",
       "      <td>NaN</td>\n",
       "      <td>NaN</td>\n",
       "      <td>NaN</td>\n",
       "      <td>...</td>\n",
       "      <td>NaN</td>\n",
       "      <td>IMPROPER BACKING</td>\n",
       "      <td>UNKNOWN</td>\n",
       "      <td>UNKNOWN</td>\n",
       "      <td>NaN</td>\n",
       "      <td>NaN</td>\n",
       "      <td>NaN</td>\n",
       "      <td>TEST NOT OFFERED</td>\n",
       "      <td>NaN</td>\n",
       "      <td>NaN</td>\n",
       "    </tr>\n",
       "    <tr>\n",
       "      <th>3</th>\n",
       "      <td>O10038</td>\n",
       "      <td>DRIVER</td>\n",
       "      <td>c21c476e2ccc41af550b5d858d22aaac4ffc88745a1700...</td>\n",
       "      <td>HY484750</td>\n",
       "      <td>9598.0</td>\n",
       "      <td>11/01/2015 08:00:00 AM</td>\n",
       "      <td>NaN</td>\n",
       "      <td>NaN</td>\n",
       "      <td>NaN</td>\n",
       "      <td>NaN</td>\n",
       "      <td>...</td>\n",
       "      <td>NaN</td>\n",
       "      <td>UNKNOWN</td>\n",
       "      <td>UNKNOWN</td>\n",
       "      <td>UNKNOWN</td>\n",
       "      <td>NaN</td>\n",
       "      <td>NaN</td>\n",
       "      <td>NaN</td>\n",
       "      <td>TEST NOT OFFERED</td>\n",
       "      <td>NaN</td>\n",
       "      <td>NaN</td>\n",
       "    </tr>\n",
       "    <tr>\n",
       "      <th>4</th>\n",
       "      <td>O10039</td>\n",
       "      <td>DRIVER</td>\n",
       "      <td>eb390a4c8e114c69488f5fb8a097fe629f5a92fd528cf4...</td>\n",
       "      <td>HY484778</td>\n",
       "      <td>9600.0</td>\n",
       "      <td>11/01/2015 10:15:00 AM</td>\n",
       "      <td>NaN</td>\n",
       "      <td>NaN</td>\n",
       "      <td>NaN</td>\n",
       "      <td>NaN</td>\n",
       "      <td>...</td>\n",
       "      <td>NaN</td>\n",
       "      <td>UNKNOWN</td>\n",
       "      <td>UNKNOWN</td>\n",
       "      <td>UNKNOWN</td>\n",
       "      <td>NaN</td>\n",
       "      <td>NaN</td>\n",
       "      <td>NaN</td>\n",
       "      <td>TEST NOT OFFERED</td>\n",
       "      <td>NaN</td>\n",
       "      <td>NaN</td>\n",
       "    </tr>\n",
       "  </tbody>\n",
       "</table>\n",
       "<p>5 rows × 30 columns</p>\n",
       "</div>"
      ],
      "text/plain": [
       "  PERSON_ID PERSON_TYPE                                    CRASH_RECORD_ID  \\\n",
       "0   O749947      DRIVER  81dc0de2ed92aa62baccab641fa377be7feb1cc47e6554...   \n",
       "1   O871921      DRIVER  af84fb5c8d996fcd3aefd36593c3a02e6e7509eeb27568...   \n",
       "2    O10018      DRIVER  71162af7bf22799b776547132ebf134b5b438dcf3dac6b...   \n",
       "3    O10038      DRIVER  c21c476e2ccc41af550b5d858d22aaac4ffc88745a1700...   \n",
       "4    O10039      DRIVER  eb390a4c8e114c69488f5fb8a097fe629f5a92fd528cf4...   \n",
       "\n",
       "      RD_NO  VEHICLE_ID              CRASH_DATE  SEAT_NO     CITY STATE  \\\n",
       "0  JC451435    834816.0  09/28/2019 03:30:00 AM      NaN  CHICAGO    IL   \n",
       "1  JD208731    827212.0  04/13/2020 10:50:00 PM      NaN  CHICAGO    IL   \n",
       "2  HY484534      9579.0  11/01/2015 05:00:00 AM      NaN      NaN   NaN   \n",
       "3  HY484750      9598.0  11/01/2015 08:00:00 AM      NaN      NaN   NaN   \n",
       "4  HY484778      9600.0  11/01/2015 10:15:00 AM      NaN      NaN   NaN   \n",
       "\n",
       "  ZIPCODE  ... EMS_RUN_NO     DRIVER_ACTION DRIVER_VISION PHYSICAL_CONDITION  \\\n",
       "0   60651  ...        NaN           UNKNOWN       UNKNOWN            UNKNOWN   \n",
       "1   60620  ...        NaN              NONE  NOT OBSCURED             NORMAL   \n",
       "2     NaN  ...        NaN  IMPROPER BACKING       UNKNOWN            UNKNOWN   \n",
       "3     NaN  ...        NaN           UNKNOWN       UNKNOWN            UNKNOWN   \n",
       "4     NaN  ...        NaN           UNKNOWN       UNKNOWN            UNKNOWN   \n",
       "\n",
       "  PEDPEDAL_ACTION PEDPEDAL_VISIBILITY PEDPEDAL_LOCATION        BAC_RESULT  \\\n",
       "0             NaN                 NaN               NaN  TEST NOT OFFERED   \n",
       "1             NaN                 NaN               NaN  TEST NOT OFFERED   \n",
       "2             NaN                 NaN               NaN  TEST NOT OFFERED   \n",
       "3             NaN                 NaN               NaN  TEST NOT OFFERED   \n",
       "4             NaN                 NaN               NaN  TEST NOT OFFERED   \n",
       "\n",
       "  BAC_RESULT VALUE CELL_PHONE_USE  \n",
       "0              NaN            NaN  \n",
       "1              NaN            NaN  \n",
       "2              NaN            NaN  \n",
       "3              NaN            NaN  \n",
       "4              NaN            NaN  \n",
       "\n",
       "[5 rows x 30 columns]"
      ]
     },
     "execution_count": 9,
     "metadata": {},
     "output_type": "execute_result"
    }
   ],
   "source": [
    "people.head()"
   ]
  },
  {
   "cell_type": "code",
   "execution_count": 5,
   "metadata": {
    "scrolled": true
   },
   "outputs": [
    {
     "name": "stdout",
     "output_type": "stream",
     "text": [
      "<class 'pandas.core.frame.DataFrame'>\n",
      "RangeIndex: 1168862 entries, 0 to 1168861\n",
      "Data columns (total 30 columns):\n",
      " #   Column                 Non-Null Count    Dtype  \n",
      "---  ------                 --------------    -----  \n",
      " 0   PERSON_ID              1168862 non-null  object \n",
      " 1   PERSON_TYPE            1168862 non-null  object \n",
      " 2   CRASH_RECORD_ID        1168862 non-null  object \n",
      " 3   RD_NO                  1158566 non-null  object \n",
      " 4   VEHICLE_ID             1145848 non-null  float64\n",
      " 5   CRASH_DATE             1168862 non-null  object \n",
      " 6   SEAT_NO                239087 non-null   float64\n",
      " 7   CITY                   860719 non-null   object \n",
      " 8   STATE                  870821 non-null   object \n",
      " 9   ZIPCODE                785924 non-null   object \n",
      " 10  SEX                    1151267 non-null  object \n",
      " 11  AGE                    833902 non-null   float64\n",
      " 12  DRIVERS_LICENSE_STATE  690245 non-null   object \n",
      " 13  DRIVERS_LICENSE_CLASS  595860 non-null   object \n",
      " 14  SAFETY_EQUIPMENT       1165443 non-null  object \n",
      " 15  AIRBAG_DEPLOYED        1146828 non-null  object \n",
      " 16  EJECTION               1154626 non-null  object \n",
      " 17  INJURY_CLASSIFICATION  1168275 non-null  object \n",
      " 18  HOSPITAL               210897 non-null   object \n",
      " 19  EMS_AGENCY             133528 non-null   object \n",
      " 20  EMS_RUN_NO             21839 non-null    object \n",
      " 21  DRIVER_ACTION          927540 non-null   object \n",
      " 22  DRIVER_VISION          927222 non-null   object \n",
      " 23  PHYSICAL_CONDITION     928216 non-null   object \n",
      " 24  PEDPEDAL_ACTION        21653 non-null    object \n",
      " 25  PEDPEDAL_VISIBILITY    21605 non-null    object \n",
      " 26  PEDPEDAL_LOCATION      21652 non-null    object \n",
      " 27  BAC_RESULT             928650 non-null   object \n",
      " 28  BAC_RESULT VALUE       1483 non-null     float64\n",
      " 29  CELL_PHONE_USE         1157 non-null     object \n",
      "dtypes: float64(4), object(26)\n",
      "memory usage: 267.5+ MB\n"
     ]
    }
   ],
   "source": [
    "people.info()"
   ]
  },
  {
   "cell_type": "code",
   "execution_count": 4,
   "metadata": {},
   "outputs": [
    {
     "data": {
      "text/html": [
       "<div>\n",
       "<style scoped>\n",
       "    .dataframe tbody tr th:only-of-type {\n",
       "        vertical-align: middle;\n",
       "    }\n",
       "\n",
       "    .dataframe tbody tr th {\n",
       "        vertical-align: top;\n",
       "    }\n",
       "\n",
       "    .dataframe thead th {\n",
       "        text-align: right;\n",
       "    }\n",
       "</style>\n",
       "<table border=\"1\" class=\"dataframe\">\n",
       "  <thead>\n",
       "    <tr style=\"text-align: right;\">\n",
       "      <th></th>\n",
       "      <th>CRASH_RECORD_ID</th>\n",
       "      <th>RD_NO_x</th>\n",
       "      <th>CRASH_DATE_EST_I</th>\n",
       "      <th>CRASH_DATE_x</th>\n",
       "      <th>POSTED_SPEED_LIMIT</th>\n",
       "      <th>TRAFFIC_CONTROL_DEVICE</th>\n",
       "      <th>DEVICE_CONDITION</th>\n",
       "      <th>WEATHER_CONDITION</th>\n",
       "      <th>LIGHTING_CONDITION</th>\n",
       "      <th>FIRST_CRASH_TYPE</th>\n",
       "      <th>...</th>\n",
       "      <th>EMS_RUN_NO</th>\n",
       "      <th>DRIVER_ACTION</th>\n",
       "      <th>DRIVER_VISION</th>\n",
       "      <th>PHYSICAL_CONDITION</th>\n",
       "      <th>PEDPEDAL_ACTION</th>\n",
       "      <th>PEDPEDAL_VISIBILITY</th>\n",
       "      <th>PEDPEDAL_LOCATION</th>\n",
       "      <th>BAC_RESULT</th>\n",
       "      <th>BAC_RESULT VALUE</th>\n",
       "      <th>CELL_PHONE_USE</th>\n",
       "    </tr>\n",
       "  </thead>\n",
       "  <tbody>\n",
       "    <tr>\n",
       "      <th>0</th>\n",
       "      <td>4fd0a3e0897b3335b94cd8d5b2d2b350eb691add56c62d...</td>\n",
       "      <td>JC343143</td>\n",
       "      <td>NaN</td>\n",
       "      <td>07/10/2019 05:56:00 PM</td>\n",
       "      <td>35</td>\n",
       "      <td>NO CONTROLS</td>\n",
       "      <td>NO CONTROLS</td>\n",
       "      <td>CLEAR</td>\n",
       "      <td>DAYLIGHT</td>\n",
       "      <td>TURNING</td>\n",
       "      <td>...</td>\n",
       "      <td>NaN</td>\n",
       "      <td>IMPROPER BACKING</td>\n",
       "      <td>UNKNOWN</td>\n",
       "      <td>NORMAL</td>\n",
       "      <td>NaN</td>\n",
       "      <td>NaN</td>\n",
       "      <td>NaN</td>\n",
       "      <td>TEST NOT OFFERED</td>\n",
       "      <td>NaN</td>\n",
       "      <td>NaN</td>\n",
       "    </tr>\n",
       "    <tr>\n",
       "      <th>1</th>\n",
       "      <td>4fd0a3e0897b3335b94cd8d5b2d2b350eb691add56c62d...</td>\n",
       "      <td>JC343143</td>\n",
       "      <td>NaN</td>\n",
       "      <td>07/10/2019 05:56:00 PM</td>\n",
       "      <td>35</td>\n",
       "      <td>NO CONTROLS</td>\n",
       "      <td>NO CONTROLS</td>\n",
       "      <td>CLEAR</td>\n",
       "      <td>DAYLIGHT</td>\n",
       "      <td>TURNING</td>\n",
       "      <td>...</td>\n",
       "      <td>NaN</td>\n",
       "      <td>NONE</td>\n",
       "      <td>NOT OBSCURED</td>\n",
       "      <td>NORMAL</td>\n",
       "      <td>NaN</td>\n",
       "      <td>NaN</td>\n",
       "      <td>NaN</td>\n",
       "      <td>TEST NOT OFFERED</td>\n",
       "      <td>NaN</td>\n",
       "      <td>NaN</td>\n",
       "    </tr>\n",
       "    <tr>\n",
       "      <th>2</th>\n",
       "      <td>4fd0a3e0897b3335b94cd8d5b2d2b350eb691add56c62d...</td>\n",
       "      <td>JC343143</td>\n",
       "      <td>NaN</td>\n",
       "      <td>07/10/2019 05:56:00 PM</td>\n",
       "      <td>35</td>\n",
       "      <td>NO CONTROLS</td>\n",
       "      <td>NO CONTROLS</td>\n",
       "      <td>CLEAR</td>\n",
       "      <td>DAYLIGHT</td>\n",
       "      <td>TURNING</td>\n",
       "      <td>...</td>\n",
       "      <td>NaN</td>\n",
       "      <td>NaN</td>\n",
       "      <td>NaN</td>\n",
       "      <td>NaN</td>\n",
       "      <td>NaN</td>\n",
       "      <td>NaN</td>\n",
       "      <td>NaN</td>\n",
       "      <td>NaN</td>\n",
       "      <td>NaN</td>\n",
       "      <td>NaN</td>\n",
       "    </tr>\n",
       "    <tr>\n",
       "      <th>3</th>\n",
       "      <td>009e9e67203442370272e1a13d6ee51a4155dac65e583d...</td>\n",
       "      <td>JA329216</td>\n",
       "      <td>NaN</td>\n",
       "      <td>06/30/2017 04:00:00 PM</td>\n",
       "      <td>35</td>\n",
       "      <td>STOP SIGN/FLASHER</td>\n",
       "      <td>FUNCTIONING PROPERLY</td>\n",
       "      <td>CLEAR</td>\n",
       "      <td>DAYLIGHT</td>\n",
       "      <td>TURNING</td>\n",
       "      <td>...</td>\n",
       "      <td>NaN</td>\n",
       "      <td>FAILED TO YIELD</td>\n",
       "      <td>UNKNOWN</td>\n",
       "      <td>UNKNOWN</td>\n",
       "      <td>NaN</td>\n",
       "      <td>NaN</td>\n",
       "      <td>NaN</td>\n",
       "      <td>TEST NOT OFFERED</td>\n",
       "      <td>NaN</td>\n",
       "      <td>NaN</td>\n",
       "    </tr>\n",
       "    <tr>\n",
       "      <th>4</th>\n",
       "      <td>009e9e67203442370272e1a13d6ee51a4155dac65e583d...</td>\n",
       "      <td>JA329216</td>\n",
       "      <td>NaN</td>\n",
       "      <td>06/30/2017 04:00:00 PM</td>\n",
       "      <td>35</td>\n",
       "      <td>STOP SIGN/FLASHER</td>\n",
       "      <td>FUNCTIONING PROPERLY</td>\n",
       "      <td>CLEAR</td>\n",
       "      <td>DAYLIGHT</td>\n",
       "      <td>TURNING</td>\n",
       "      <td>...</td>\n",
       "      <td>NaN</td>\n",
       "      <td>NONE</td>\n",
       "      <td>NOT OBSCURED</td>\n",
       "      <td>NORMAL</td>\n",
       "      <td>NaN</td>\n",
       "      <td>NaN</td>\n",
       "      <td>NaN</td>\n",
       "      <td>TEST NOT OFFERED</td>\n",
       "      <td>NaN</td>\n",
       "      <td>NaN</td>\n",
       "    </tr>\n",
       "  </tbody>\n",
       "</table>\n",
       "<p>5 rows × 78 columns</p>\n",
       "</div>"
      ],
      "text/plain": [
       "                                     CRASH_RECORD_ID   RD_NO_x  \\\n",
       "0  4fd0a3e0897b3335b94cd8d5b2d2b350eb691add56c62d...  JC343143   \n",
       "1  4fd0a3e0897b3335b94cd8d5b2d2b350eb691add56c62d...  JC343143   \n",
       "2  4fd0a3e0897b3335b94cd8d5b2d2b350eb691add56c62d...  JC343143   \n",
       "3  009e9e67203442370272e1a13d6ee51a4155dac65e583d...  JA329216   \n",
       "4  009e9e67203442370272e1a13d6ee51a4155dac65e583d...  JA329216   \n",
       "\n",
       "  CRASH_DATE_EST_I            CRASH_DATE_x  POSTED_SPEED_LIMIT  \\\n",
       "0              NaN  07/10/2019 05:56:00 PM                  35   \n",
       "1              NaN  07/10/2019 05:56:00 PM                  35   \n",
       "2              NaN  07/10/2019 05:56:00 PM                  35   \n",
       "3              NaN  06/30/2017 04:00:00 PM                  35   \n",
       "4              NaN  06/30/2017 04:00:00 PM                  35   \n",
       "\n",
       "  TRAFFIC_CONTROL_DEVICE      DEVICE_CONDITION WEATHER_CONDITION  \\\n",
       "0            NO CONTROLS           NO CONTROLS             CLEAR   \n",
       "1            NO CONTROLS           NO CONTROLS             CLEAR   \n",
       "2            NO CONTROLS           NO CONTROLS             CLEAR   \n",
       "3      STOP SIGN/FLASHER  FUNCTIONING PROPERLY             CLEAR   \n",
       "4      STOP SIGN/FLASHER  FUNCTIONING PROPERLY             CLEAR   \n",
       "\n",
       "  LIGHTING_CONDITION FIRST_CRASH_TYPE  ... EMS_RUN_NO     DRIVER_ACTION  \\\n",
       "0           DAYLIGHT          TURNING  ...        NaN  IMPROPER BACKING   \n",
       "1           DAYLIGHT          TURNING  ...        NaN              NONE   \n",
       "2           DAYLIGHT          TURNING  ...        NaN               NaN   \n",
       "3           DAYLIGHT          TURNING  ...        NaN   FAILED TO YIELD   \n",
       "4           DAYLIGHT          TURNING  ...        NaN              NONE   \n",
       "\n",
       "  DRIVER_VISION PHYSICAL_CONDITION PEDPEDAL_ACTION PEDPEDAL_VISIBILITY  \\\n",
       "0       UNKNOWN             NORMAL             NaN                 NaN   \n",
       "1  NOT OBSCURED             NORMAL             NaN                 NaN   \n",
       "2           NaN                NaN             NaN                 NaN   \n",
       "3       UNKNOWN            UNKNOWN             NaN                 NaN   \n",
       "4  NOT OBSCURED             NORMAL             NaN                 NaN   \n",
       "\n",
       "  PEDPEDAL_LOCATION        BAC_RESULT BAC_RESULT VALUE CELL_PHONE_USE  \n",
       "0               NaN  TEST NOT OFFERED              NaN            NaN  \n",
       "1               NaN  TEST NOT OFFERED              NaN            NaN  \n",
       "2               NaN               NaN              NaN            NaN  \n",
       "3               NaN  TEST NOT OFFERED              NaN            NaN  \n",
       "4               NaN  TEST NOT OFFERED              NaN            NaN  \n",
       "\n",
       "[5 rows x 78 columns]"
      ]
     },
     "execution_count": 4,
     "metadata": {},
     "output_type": "execute_result"
    }
   ],
   "source": [
    "all_df = pd.merge(data, people, on='CRASH_RECORD_ID')\n",
    "all_df.head()"
   ]
  },
  {
   "cell_type": "code",
   "execution_count": 9,
   "metadata": {
    "scrolled": true
   },
   "outputs": [
    {
     "name": "stdout",
     "output_type": "stream",
     "text": [
      "<class 'pandas.core.frame.DataFrame'>\n",
      "Int64Index: 1168862 entries, 0 to 1168861\n",
      "Data columns (total 78 columns):\n",
      " #   Column                         Non-Null Count    Dtype  \n",
      "---  ------                         --------------    -----  \n",
      " 0   CRASH_RECORD_ID                1168862 non-null  object \n",
      " 1   RD_NO_x                        1158566 non-null  object \n",
      " 2   CRASH_DATE_EST_I               66762 non-null    object \n",
      " 3   CRASH_DATE_x                   1168862 non-null  object \n",
      " 4   POSTED_SPEED_LIMIT             1168862 non-null  int64  \n",
      " 5   TRAFFIC_CONTROL_DEVICE         1168862 non-null  object \n",
      " 6   DEVICE_CONDITION               1168862 non-null  object \n",
      " 7   WEATHER_CONDITION              1168862 non-null  object \n",
      " 8   LIGHTING_CONDITION             1168862 non-null  object \n",
      " 9   FIRST_CRASH_TYPE               1168862 non-null  object \n",
      " 10  TRAFFICWAY_TYPE                1168862 non-null  object \n",
      " 11  LANE_CNT                       446345 non-null   float64\n",
      " 12  ALIGNMENT                      1168862 non-null  object \n",
      " 13  ROADWAY_SURFACE_COND           1168862 non-null  object \n",
      " 14  ROAD_DEFECT                    1168862 non-null  object \n",
      " 15  REPORT_TYPE                    1129912 non-null  object \n",
      " 16  CRASH_TYPE                     1168862 non-null  object \n",
      " 17  INTERSECTION_RELATED_I         318673 non-null   object \n",
      " 18  NOT_RIGHT_OF_WAY_I             42842 non-null    object \n",
      " 19  HIT_AND_RUN_I                  302682 non-null   object \n",
      " 20  DAMAGE                         1168862 non-null  object \n",
      " 21  DATE_POLICE_NOTIFIED           1168862 non-null  object \n",
      " 22  PRIM_CONTRIBUTORY_CAUSE        1168862 non-null  object \n",
      " 23  SEC_CONTRIBUTORY_CAUSE         1168862 non-null  object \n",
      " 24  STREET_NO                      1168862 non-null  int64  \n",
      " 25  STREET_DIRECTION               1168857 non-null  object \n",
      " 26  STREET_NAME                    1168860 non-null  object \n",
      " 27  BEAT_OF_OCCURRENCE             1168850 non-null  float64\n",
      " 28  PHOTOS_TAKEN_I                 15171 non-null    object \n",
      " 29  STATEMENTS_TAKEN_I             27468 non-null    object \n",
      " 30  DOORING_I                      3651 non-null     object \n",
      " 31  WORK_ZONE_I                    7284 non-null     object \n",
      " 32  WORK_ZONE_TYPE                 5817 non-null     object \n",
      " 33  WORKERS_PRESENT_I              1753 non-null     object \n",
      " 34  NUM_UNITS                      1168862 non-null  int64  \n",
      " 35  MOST_SEVERE_INJURY             1168851 non-null  object \n",
      " 36  INJURIES_TOTAL                 1168862 non-null  float64\n",
      " 37  INJURIES_FATAL                 1168862 non-null  float64\n",
      " 38  INJURIES_INCAPACITATING        1168862 non-null  float64\n",
      " 39  INJURIES_NON_INCAPACITATING    1168862 non-null  float64\n",
      " 40  INJURIES_REPORTED_NOT_EVIDENT  1168862 non-null  float64\n",
      " 41  INJURIES_NO_INDICATION         1168862 non-null  float64\n",
      " 42  INJURIES_UNKNOWN               1168862 non-null  float64\n",
      " 43  CRASH_HOUR                     1168862 non-null  int64  \n",
      " 44  CRASH_DAY_OF_WEEK              1168862 non-null  int64  \n",
      " 45  CRASH_MONTH                    1168862 non-null  int64  \n",
      " 46  LATITUDE                       1162088 non-null  float64\n",
      " 47  LONGITUDE                      1162088 non-null  float64\n",
      " 48  LOCATION                       1162088 non-null  object \n",
      " 49  PERSON_ID                      1168862 non-null  object \n",
      " 50  PERSON_TYPE                    1168862 non-null  object \n",
      " 51  RD_NO_y                        1158566 non-null  object \n",
      " 52  VEHICLE_ID                     1145848 non-null  float64\n",
      " 53  CRASH_DATE_y                   1168862 non-null  object \n",
      " 54  SEAT_NO                        239087 non-null   float64\n",
      " 55  CITY                           860719 non-null   object \n",
      " 56  STATE                          870821 non-null   object \n",
      " 57  ZIPCODE                        785924 non-null   object \n",
      " 58  SEX                            1151267 non-null  object \n",
      " 59  AGE                            833902 non-null   float64\n",
      " 60  DRIVERS_LICENSE_STATE          690245 non-null   object \n",
      " 61  DRIVERS_LICENSE_CLASS          595860 non-null   object \n",
      " 62  SAFETY_EQUIPMENT               1165443 non-null  object \n",
      " 63  AIRBAG_DEPLOYED                1146828 non-null  object \n",
      " 64  EJECTION                       1154626 non-null  object \n",
      " 65  INJURY_CLASSIFICATION          1168275 non-null  object \n",
      " 66  HOSPITAL                       210897 non-null   object \n",
      " 67  EMS_AGENCY                     133528 non-null   object \n",
      " 68  EMS_RUN_NO                     21839 non-null    object \n",
      " 69  DRIVER_ACTION                  927540 non-null   object \n",
      " 70  DRIVER_VISION                  927222 non-null   object \n",
      " 71  PHYSICAL_CONDITION             928216 non-null   object \n",
      " 72  PEDPEDAL_ACTION                21653 non-null    object \n",
      " 73  PEDPEDAL_VISIBILITY            21605 non-null    object \n",
      " 74  PEDPEDAL_LOCATION              21652 non-null    object \n",
      " 75  BAC_RESULT                     928650 non-null   object \n",
      " 76  BAC_RESULT VALUE               1483 non-null     float64\n",
      " 77  CELL_PHONE_USE                 1157 non-null     object \n",
      "dtypes: float64(15), int64(6), object(57)\n",
      "memory usage: 704.5+ MB\n"
     ]
    }
   ],
   "source": [
    "all_df.info()"
   ]
  },
  {
   "cell_type": "code",
   "execution_count": 5,
   "metadata": {},
   "outputs": [],
   "source": [
    "drop_cols = ['CRASH_RECORD_ID','RD_NO_x', 'CRASH_DATE_EST_I', 'BEAT_OF_OCCURRENCE', 'DATE_POLICE_NOTIFIED', \n",
    "             'REPORT_TYPE', 'DAMAGE', 'PHOTOS_TAKEN_I', 'STATEMENTS_TAKEN_I', 'MOST_SEVERE_INJURY', \n",
    "             'INJURIES_TOTAL', 'INJURIES_FATAL', 'INJURIES_INCAPACITATING', 'INJURIES_NON_INCAPACITATING', \n",
    "             'INJURIES_REPORTED_NOT_EVIDENT', 'INJURIES_NO_INDICATION', 'INJURIES_UNKNOWN']"
   ]
  },
  {
   "cell_type": "code",
   "execution_count": 11,
   "metadata": {},
   "outputs": [
    {
     "data": {
      "text/plain": [
       "17"
      ]
     },
     "execution_count": 11,
     "metadata": {},
     "output_type": "execute_result"
    }
   ],
   "source": [
    "len(drop_cols)"
   ]
  },
  {
   "cell_type": "code",
   "execution_count": 10,
   "metadata": {},
   "outputs": [],
   "source": [
    "all_df.drop(drop_cols, axis=1, inplace=True)"
   ]
  },
  {
   "cell_type": "code",
   "execution_count": 11,
   "metadata": {},
   "outputs": [
    {
     "data": {
      "text/plain": [
       "(1168862, 61)"
      ]
     },
     "execution_count": 11,
     "metadata": {},
     "output_type": "execute_result"
    }
   ],
   "source": [
    "all_df.shape"
   ]
  },
  {
   "cell_type": "code",
   "execution_count": 12,
   "metadata": {},
   "outputs": [
    {
     "name": "stdout",
     "output_type": "stream",
     "text": [
      "<class 'pandas.core.frame.DataFrame'>\n",
      "Int64Index: 1168862 entries, 0 to 1168861\n",
      "Data columns (total 61 columns):\n",
      " #   Column                   Non-Null Count    Dtype  \n",
      "---  ------                   --------------    -----  \n",
      " 0   CRASH_DATE_x             1168862 non-null  object \n",
      " 1   POSTED_SPEED_LIMIT       1168862 non-null  int64  \n",
      " 2   TRAFFIC_CONTROL_DEVICE   1168862 non-null  object \n",
      " 3   DEVICE_CONDITION         1168862 non-null  object \n",
      " 4   WEATHER_CONDITION        1168862 non-null  object \n",
      " 5   LIGHTING_CONDITION       1168862 non-null  object \n",
      " 6   FIRST_CRASH_TYPE         1168862 non-null  object \n",
      " 7   TRAFFICWAY_TYPE          1168862 non-null  object \n",
      " 8   LANE_CNT                 446345 non-null   float64\n",
      " 9   ALIGNMENT                1168862 non-null  object \n",
      " 10  ROADWAY_SURFACE_COND     1168862 non-null  object \n",
      " 11  ROAD_DEFECT              1168862 non-null  object \n",
      " 12  CRASH_TYPE               1168862 non-null  object \n",
      " 13  INTERSECTION_RELATED_I   318673 non-null   object \n",
      " 14  NOT_RIGHT_OF_WAY_I       42842 non-null    object \n",
      " 15  HIT_AND_RUN_I            302682 non-null   object \n",
      " 16  PRIM_CONTRIBUTORY_CAUSE  1168862 non-null  object \n",
      " 17  SEC_CONTRIBUTORY_CAUSE   1168862 non-null  object \n",
      " 18  STREET_NO                1168862 non-null  int64  \n",
      " 19  STREET_DIRECTION         1168857 non-null  object \n",
      " 20  STREET_NAME              1168860 non-null  object \n",
      " 21  DOORING_I                3651 non-null     object \n",
      " 22  WORK_ZONE_I              7284 non-null     object \n",
      " 23  WORK_ZONE_TYPE           5817 non-null     object \n",
      " 24  WORKERS_PRESENT_I        1753 non-null     object \n",
      " 25  NUM_UNITS                1168862 non-null  int64  \n",
      " 26  CRASH_HOUR               1168862 non-null  int64  \n",
      " 27  CRASH_DAY_OF_WEEK        1168862 non-null  int64  \n",
      " 28  CRASH_MONTH              1168862 non-null  int64  \n",
      " 29  LATITUDE                 1162088 non-null  float64\n",
      " 30  LONGITUDE                1162088 non-null  float64\n",
      " 31  LOCATION                 1162088 non-null  object \n",
      " 32  PERSON_ID                1168862 non-null  object \n",
      " 33  PERSON_TYPE              1168862 non-null  object \n",
      " 34  RD_NO_y                  1158566 non-null  object \n",
      " 35  VEHICLE_ID               1145848 non-null  float64\n",
      " 36  CRASH_DATE_y             1168862 non-null  object \n",
      " 37  SEAT_NO                  239087 non-null   float64\n",
      " 38  CITY                     860719 non-null   object \n",
      " 39  STATE                    870821 non-null   object \n",
      " 40  ZIPCODE                  785924 non-null   object \n",
      " 41  SEX                      1151267 non-null  object \n",
      " 42  AGE                      833902 non-null   float64\n",
      " 43  DRIVERS_LICENSE_STATE    690245 non-null   object \n",
      " 44  DRIVERS_LICENSE_CLASS    595860 non-null   object \n",
      " 45  SAFETY_EQUIPMENT         1165443 non-null  object \n",
      " 46  AIRBAG_DEPLOYED          1146828 non-null  object \n",
      " 47  EJECTION                 1154626 non-null  object \n",
      " 48  INJURY_CLASSIFICATION    1168275 non-null  object \n",
      " 49  HOSPITAL                 210897 non-null   object \n",
      " 50  EMS_AGENCY               133528 non-null   object \n",
      " 51  EMS_RUN_NO               21839 non-null    object \n",
      " 52  DRIVER_ACTION            927540 non-null   object \n",
      " 53  DRIVER_VISION            927222 non-null   object \n",
      " 54  PHYSICAL_CONDITION       928216 non-null   object \n",
      " 55  PEDPEDAL_ACTION          21653 non-null    object \n",
      " 56  PEDPEDAL_VISIBILITY      21605 non-null    object \n",
      " 57  PEDPEDAL_LOCATION        21652 non-null    object \n",
      " 58  BAC_RESULT               928650 non-null   object \n",
      " 59  BAC_RESULT VALUE         1483 non-null     float64\n",
      " 60  CELL_PHONE_USE           1157 non-null     object \n",
      "dtypes: float64(7), int64(6), object(48)\n",
      "memory usage: 552.9+ MB\n"
     ]
    }
   ],
   "source": [
    "all_df.info()"
   ]
  },
  {
   "cell_type": "code",
   "execution_count": 46,
   "metadata": {},
   "outputs": [
    {
     "data": {
      "text/plain": [
       "Y    752\n",
       "N    405\n",
       "Name: CELL_PHONE_USE, dtype: int64"
      ]
     },
     "execution_count": 46,
     "metadata": {},
     "output_type": "execute_result"
    }
   ],
   "source": [
    "all_df.CELL_PHONE_USE.value_counts()"
   ]
  },
  {
   "cell_type": "code",
   "execution_count": 45,
   "metadata": {},
   "outputs": [
    {
     "data": {
      "text/plain": [
       "IN ROADWAY         9997\n",
       "IN CROSSWALK       7000\n",
       "UNKNOWN/NA         1782\n",
       "BIKEWAY            1014\n",
       "NOT IN ROADWAY      983\n",
       "BIKE LANE           460\n",
       "DRIVEWAY ACCESS     328\n",
       "SHOULDER             88\n",
       "Name: PEDPEDAL_LOCATION, dtype: int64"
      ]
     },
     "execution_count": 45,
     "metadata": {},
     "output_type": "execute_result"
    }
   ],
   "source": [
    "all_df.PEDPEDAL_LOCATION.value_counts()"
   ]
  },
  {
   "cell_type": "code",
   "execution_count": 44,
   "metadata": {},
   "outputs": [
    {
     "data": {
      "text/plain": [
       "NO CONTRASTING CLOTHING    17006\n",
       "CONTRASTING CLOTHING        2891\n",
       "OTHER LIGHT SOURCE USED     1169\n",
       "REFLECTIVE MATERIAL          539\n",
       "Name: PEDPEDAL_VISIBILITY, dtype: int64"
      ]
     },
     "execution_count": 44,
     "metadata": {},
     "output_type": "execute_result"
    }
   ],
   "source": [
    "all_df.PEDPEDAL_VISIBILITY.value_counts()"
   ]
  },
  {
   "cell_type": "code",
   "execution_count": 42,
   "metadata": {},
   "outputs": [
    {
     "data": {
      "text/plain": [
       "CROSSING - WITH SIGNAL                               4392\n",
       "WITH TRAFFIC                                         3481\n",
       "UNKNOWN/NA                                           2864\n",
       "OTHER ACTION                                         2806\n",
       "NO ACTION                                            1120\n",
       "CROSSING - AGAINST SIGNAL                            1073\n",
       "CROSSING - NO CONTROLS (NOT AT INTERSECTION)         1035\n",
       "NOT AT INTERSECTION                                   906\n",
       "CROSSING - NO CONTROLS (AT INTERSECTION)              866\n",
       "AGAINST TRAFFIC                                       728\n",
       "STANDING IN ROADWAY                                   525\n",
       "CROSSING - CONTROLS PRESENT (NOT AT INTERSECTION)     499\n",
       "TURNING LEFT                                          281\n",
       "PARKED VEHICLE                                        255\n",
       "ENTER FROM DRIVE/ALLEY                                224\n",
       "INTOXICATED PED/PEDAL                                 157\n",
       "WORKING IN ROADWAY                                    151\n",
       "TURNING RIGHT                                         145\n",
       "PLAYING IN ROADWAY                                     91\n",
       "TO/FROM DISABLED VEHICLE                               17\n",
       "PLAYING/WORKING ON VEHICLE                             15\n",
       "SCHOOL BUS (WITHIN 50 FT.)                             12\n",
       "WAITING FOR SCHOOL BUS                                 10\n",
       "Name: PEDPEDAL_ACTION, dtype: int64"
      ]
     },
     "execution_count": 42,
     "metadata": {},
     "output_type": "execute_result"
    }
   ],
   "source": [
    "all_df.PEDPEDAL_ACTION.value_counts()"
   ]
  },
  {
   "cell_type": "code",
   "execution_count": 41,
   "metadata": {},
   "outputs": [
    {
     "data": {
      "text/plain": [
       "NORMAL                          620283\n",
       "UNKNOWN                         290194\n",
       "IMPAIRED - ALCOHOL                4493\n",
       "REMOVED BY EMS                    3625\n",
       "OTHER                             2663\n",
       "FATIGUED/ASLEEP                   2473\n",
       "EMOTIONAL                         1999\n",
       "ILLNESS/FAINTED                    862\n",
       "HAD BEEN DRINKING                  736\n",
       "IMPAIRED - DRUGS                   547\n",
       "IMPAIRED - ALCOHOL AND DRUGS       224\n",
       "MEDICATED                          117\n",
       "Name: PHYSICAL_CONDITION, dtype: int64"
      ]
     },
     "execution_count": 41,
     "metadata": {},
     "output_type": "execute_result"
    }
   ],
   "source": [
    "all_df.PHYSICAL_CONDITION.value_counts()"
   ]
  },
  {
   "cell_type": "code",
   "execution_count": 40,
   "metadata": {},
   "outputs": [
    {
     "data": {
      "text/plain": [
       "NOT OBSCURED              501873\n",
       "UNKNOWN                   401318\n",
       "OTHER                       9768\n",
       "MOVING VEHICLES             5720\n",
       "PARKED VEHICLES             3477\n",
       "WINDSHIELD (WATER/ICE)      2858\n",
       "BLINDED - SUNLIGHT          1091\n",
       "TREES, PLANTS                439\n",
       "BUILDINGS                    364\n",
       "BLINDED - HEADLIGHTS          89\n",
       "BLOWING MATERIALS             73\n",
       "HILLCREST                     69\n",
       "EMBANKMENT                    59\n",
       "SIGNBOARD                     24\n",
       "Name: DRIVER_VISION, dtype: int64"
      ]
     },
     "execution_count": 40,
     "metadata": {},
     "output_type": "execute_result"
    }
   ],
   "source": [
    "all_df.DRIVER_VISION.value_counts()"
   ]
  },
  {
   "cell_type": "code",
   "execution_count": 39,
   "metadata": {},
   "outputs": [
    {
     "data": {
      "text/plain": [
       "NONE                                 337261\n",
       "UNKNOWN                              221697\n",
       "FAILED TO YIELD                       86004\n",
       "OTHER                                 80043\n",
       "FOLLOWED TOO CLOSELY                  59823\n",
       "IMPROPER BACKING                      29623\n",
       "IMPROPER TURN                         24606\n",
       "IMPROPER LANE CHANGE                  24545\n",
       "IMPROPER PASSING                      20562\n",
       "DISREGARDED CONTROL DEVICES           15423\n",
       "TOO FAST FOR CONDITIONS               15166\n",
       "IMPROPER PARKING                       3615\n",
       "WRONG WAY/SIDE                         3534\n",
       "CELL PHONE USE OTHER THAN TEXTING      1557\n",
       "EVADING POLICE VEHICLE                 1554\n",
       "OVERCORRECTED                          1071\n",
       "EMERGENCY VEHICLE ON CALL               899\n",
       "TEXTING                                 409\n",
       "STOPPED SCHOOL BUS                      105\n",
       "LICENSE RESTRICTIONS                     43\n",
       "Name: DRIVER_ACTION, dtype: int64"
      ]
     },
     "execution_count": 39,
     "metadata": {},
     "output_type": "execute_result"
    }
   ],
   "source": [
    "all_df.DRIVER_ACTION.value_counts()"
   ]
  },
  {
   "cell_type": "code",
   "execution_count": 38,
   "metadata": {},
   "outputs": [
    {
     "data": {
      "text/plain": [
       "NONE                  1085120\n",
       "UNKNOWN                 63514\n",
       "TOTALLY EJECTED          4207\n",
       "PARTIALLY EJECTED        1077\n",
       "TRAPPED/EXTRICATED        708\n",
       "Name: EJECTION, dtype: int64"
      ]
     },
     "execution_count": 38,
     "metadata": {},
     "output_type": "execute_result"
    }
   ],
   "source": [
    "all_df.EJECTION.value_counts()"
   ]
  },
  {
   "cell_type": "code",
   "execution_count": 37,
   "metadata": {},
   "outputs": [
    {
     "data": {
      "text/plain": [
       "DID NOT DEPLOY                            674254\n",
       "DEPLOYMENT UNKNOWN                        224122\n",
       "NOT APPLICABLE                            179261\n",
       "DEPLOYED, FRONT                            36025\n",
       "DEPLOYED, COMBINATION                      23287\n",
       "DEPLOYED, SIDE                              9397\n",
       "DEPLOYED OTHER (KNEE, AIR, BELT, ETC.)       482\n",
       "Name: AIRBAG_DEPLOYED, dtype: int64"
      ]
     },
     "execution_count": 37,
     "metadata": {},
     "output_type": "execute_result"
    }
   ],
   "source": [
    "all_df.AIRBAG_DEPLOYED.value_counts()"
   ]
  },
  {
   "cell_type": "code",
   "execution_count": 36,
   "metadata": {},
   "outputs": [
    {
     "data": {
      "text/plain": [
       "SAFETY BELT USED                              583297\n",
       "USAGE UNKNOWN                                 517204\n",
       "NONE PRESENT                                   36508\n",
       "CHILD RESTRAINT USED                            7814\n",
       "SAFETY BELT NOT USED                            6871\n",
       "HELMET NOT USED                                 4476\n",
       "CHILD RESTRAINT - FORWARD FACING                2104\n",
       "BICYCLE HELMET (PEDACYCLIST INVOLVED ONLY)      1557\n",
       "HELMET USED                                     1344\n",
       "CHILD RESTRAINT - TYPE UNKNOWN                  1069\n",
       "CHILD RESTRAINT - REAR FACING                   1033\n",
       "DOT COMPLIANT MOTORCYCLE HELMET                  598\n",
       "CHILD RESTRAINT NOT USED                         570\n",
       "BOOSTER SEAT                                     557\n",
       "NOT DOT COMPLIANT MOTORCYCLE HELMET              119\n",
       "SHOULD/LAP BELT USED IMPROPERLY                  111\n",
       "WHEELCHAIR                                       103\n",
       "CHILD RESTRAINT USED IMPROPERLY                   87\n",
       "STRETCHER                                         21\n",
       "Name: SAFETY_EQUIPMENT, dtype: int64"
      ]
     },
     "execution_count": 36,
     "metadata": {},
     "output_type": "execute_result"
    }
   ],
   "source": [
    "all_df.SAFETY_EQUIPMENT.value_counts()"
   ]
  },
  {
   "cell_type": "code",
   "execution_count": 30,
   "metadata": {},
   "outputs": [
    {
     "data": {
      "text/plain": [
       "D     519294\n",
       "A      20242\n",
       "C      16370\n",
       "B      15859\n",
       "DM      9573\n",
       "       ...  \n",
       "WD         1\n",
       "IS         1\n",
       "M1         1\n",
       "UP         1\n",
       "BV         1\n",
       "Name: DRIVERS_LICENSE_CLASS, Length: 240, dtype: int64"
      ]
     },
     "execution_count": 30,
     "metadata": {},
     "output_type": "execute_result"
    }
   ],
   "source": [
    "all_df.DRIVERS_LICENSE_CLASS.value_counts()"
   ]
  },
  {
   "cell_type": "code",
   "execution_count": 32,
   "metadata": {},
   "outputs": [],
   "source": [
    "class_list = list(all_df.DRIVERS_LICENSE_CLASS.value_counts().index)"
   ]
  },
  {
   "cell_type": "code",
   "execution_count": 35,
   "metadata": {},
   "outputs": [
    {
     "data": {
      "text/plain": [
       "['D',\n",
       " 'DM',\n",
       " 'CD',\n",
       " 'DL',\n",
       " 'D*',\n",
       " 'DD',\n",
       " 'DA',\n",
       " 'D`',\n",
       " 'DQ',\n",
       " 'ID',\n",
       " 'DE',\n",
       " '`D',\n",
       " 'AD',\n",
       " 'DV',\n",
       " 'D1',\n",
       " 'XD',\n",
       " 'DU',\n",
       " 'DC',\n",
       " 'ND',\n",
       " 'DF',\n",
       " 'DS',\n",
       " 'BD',\n",
       " 'DN',\n",
       " 'SD',\n",
       " 'MD',\n",
       " 'DB',\n",
       " 'D.',\n",
       " 'DR',\n",
       " 'ED',\n",
       " '4D',\n",
       " 'DZ',\n",
       " 'PD',\n",
       " '\\\\D',\n",
       " 'D,',\n",
       " '*D',\n",
       " 'LD',\n",
       " 'VD',\n",
       " 'DO',\n",
       " 'D7',\n",
       " 'DX',\n",
       " 'D6',\n",
       " ',D',\n",
       " 'D\"',\n",
       " 'FD',\n",
       " 'DP',\n",
       " 'TD',\n",
       " 'WD']"
      ]
     },
     "execution_count": 35,
     "metadata": {},
     "output_type": "execute_result"
    }
   ],
   "source": [
    "has_d = [x for x in class_list if 'D' in x]\n",
    "has_d"
   ]
  },
  {
   "cell_type": "code",
   "execution_count": 13,
   "metadata": {},
   "outputs": [
    {
     "data": {
      "text/plain": [
       "CLEAR                       935980\n",
       "RAIN                        106513\n",
       "SNOW                         42455\n",
       "UNKNOWN                      38349\n",
       "CLOUDY/OVERCAST              36500\n",
       "OTHER                         3566\n",
       "FOG/SMOKE/HAZE                1906\n",
       "SLEET/HAIL                    1605\n",
       "FREEZING RAIN/DRIZZLE         1453\n",
       "BLOWING SNOW                   334\n",
       "SEVERE CROSS WIND GATE         197\n",
       "BLOWING SAND, SOIL, DIRT         4\n",
       "Name: WEATHER_CONDITION, dtype: int64"
      ]
     },
     "execution_count": 13,
     "metadata": {},
     "output_type": "execute_result"
    }
   ],
   "source": [
    "all_df.WEATHER_CONDITION.value_counts()"
   ]
  },
  {
   "cell_type": "code",
   "execution_count": 22,
   "metadata": {},
   "outputs": [
    {
     "data": {
      "text/plain": [
       "16    95757\n",
       "15    94030\n",
       "17    93670\n",
       "14    81708\n",
       "18    77153\n",
       "13    73451\n",
       "12    68750\n",
       "8     59296\n",
       "11    58707\n",
       "19    55705\n",
       "9     50749\n",
       "10    50709\n",
       "7     48236\n",
       "20    42973\n",
       "21    38889\n",
       "22    35290\n",
       "23    28886\n",
       "6     22803\n",
       "0     22297\n",
       "1     18513\n",
       "2     15532\n",
       "5     13121\n",
       "3     11989\n",
       "4     10648\n",
       "Name: CRASH_HOUR, dtype: int64"
      ]
     },
     "execution_count": 22,
     "metadata": {},
     "output_type": "execute_result"
    }
   ],
   "source": [
    "all_df.CRASH_HOUR.value_counts()"
   ]
  },
  {
   "cell_type": "code",
   "execution_count": 21,
   "metadata": {},
   "outputs": [
    {
     "data": {
      "text/plain": [
       "NO INDICATION OF INJURY     1072025\n",
       "NONINCAPACITATING INJURY      53718\n",
       "REPORTED, NOT EVIDENT         31369\n",
       "INCAPACITATING INJURY         10534\n",
       "FATAL                           629\n",
       "Name: INJURY_CLASSIFICATION, dtype: int64"
      ]
     },
     "execution_count": 21,
     "metadata": {},
     "output_type": "execute_result"
    }
   ],
   "source": [
    "all_df.INJURY_CLASSIFICATION.value_counts()"
   ]
  },
  {
   "cell_type": "code",
   "execution_count": 23,
   "metadata": {},
   "outputs": [
    {
     "data": {
      "text/plain": [
       "REAR END                        329903\n",
       "SIDESWIPE SAME DIRECTION        204667\n",
       "TURNING                         195906\n",
       "PARKED MOTOR VEHICLE            151974\n",
       "ANGLE                           151064\n",
       "FIXED OBJECT                     32850\n",
       "PEDESTRIAN                       27250\n",
       "SIDESWIPE OPPOSITE DIRECTION     20189\n",
       "PEDALCYCLIST                     16980\n",
       "HEAD ON                          12658\n",
       "REAR TO FRONT                     8470\n",
       "OTHER OBJECT                      6641\n",
       "REAR TO SIDE                      5296\n",
       "OTHER NONCOLLISION                2209\n",
       "REAR TO REAR                      1792\n",
       "ANIMAL                             490\n",
       "OVERTURNED                         451\n",
       "TRAIN                               72\n",
       "Name: FIRST_CRASH_TYPE, dtype: int64"
      ]
     },
     "execution_count": 23,
     "metadata": {},
     "output_type": "execute_result"
    }
   ],
   "source": [
    "all_df.FIRST_CRASH_TYPE.value_counts()"
   ]
  },
  {
   "cell_type": "code",
   "execution_count": 24,
   "metadata": {},
   "outputs": [
    {
     "data": {
      "text/plain": [
       "NOT DIVIDED                        529906\n",
       "DIVIDED - W/MEDIAN (NOT RAISED)    221755\n",
       "ONE-WAY                            128304\n",
       "DIVIDED - W/MEDIAN BARRIER          76929\n",
       "PARKING LOT                         63923\n",
       "FOUR WAY                            52757\n",
       "OTHER                               31950\n",
       "ALLEY                               15039\n",
       "CENTER TURN LANE                    11673\n",
       "UNKNOWN                             11525\n",
       "T-INTERSECTION                      10744\n",
       "RAMP                                 3741\n",
       "DRIVEWAY                             3295\n",
       "UNKNOWN INTERSECTION TYPE            3010\n",
       "FIVE POINT, OR MORE                  1333\n",
       "Y-INTERSECTION                       1192\n",
       "TRAFFIC ROUTE                         907\n",
       "NOT REPORTED                          462\n",
       "ROUNDABOUT                            249\n",
       "L-INTERSECTION                        168\n",
       "Name: TRAFFICWAY_TYPE, dtype: int64"
      ]
     },
     "execution_count": 24,
     "metadata": {},
     "output_type": "execute_result"
    }
   ],
   "source": [
    "all_df.TRAFFICWAY_TYPE.value_counts()"
   ]
  },
  {
   "cell_type": "code",
   "execution_count": 25,
   "metadata": {},
   "outputs": [
    {
     "data": {
      "text/plain": [
       "2.0          205333\n",
       "4.0          122786\n",
       "1.0           56397\n",
       "3.0           21359\n",
       "0.0           16811\n",
       "6.0           11729\n",
       "5.0            5159\n",
       "8.0            5146\n",
       "7.0             481\n",
       "10.0            439\n",
       "9.0             195\n",
       "99.0            185\n",
       "12.0             79\n",
       "11.0             75\n",
       "22.0             31\n",
       "20.0             27\n",
       "16.0             19\n",
       "15.0             19\n",
       "14.0             12\n",
       "21.0              8\n",
       "30.0              8\n",
       "25.0              7\n",
       "40.0              6\n",
       "60.0              5\n",
       "41.0              3\n",
       "400.0             2\n",
       "19.0              2\n",
       "299679.0          2\n",
       "100.0             2\n",
       "433634.0          2\n",
       "902.0             2\n",
       "218474.0          2\n",
       "28.0              2\n",
       "44.0              2\n",
       "80.0              2\n",
       "35.0              1\n",
       "13.0              1\n",
       "45.0              1\n",
       "1191625.0         1\n",
       "17.0              1\n",
       "24.0              1\n",
       "Name: LANE_CNT, dtype: int64"
      ]
     },
     "execution_count": 25,
     "metadata": {},
     "output_type": "execute_result"
    }
   ],
   "source": [
    "all_df.LANE_CNT.value_counts()"
   ]
  },
  {
   "cell_type": "code",
   "execution_count": 26,
   "metadata": {},
   "outputs": [
    {
     "data": {
      "text/plain": [
       "STRAIGHT AND LEVEL       1138914\n",
       "STRAIGHT ON GRADE          15171\n",
       "CURVE, LEVEL                8787\n",
       "STRAIGHT ON HILLCREST       3742\n",
       "CURVE ON GRADE              1742\n",
       "CURVE ON HILLCREST           506\n",
       "Name: ALIGNMENT, dtype: int64"
      ]
     },
     "execution_count": 26,
     "metadata": {},
     "output_type": "execute_result"
    }
   ],
   "source": [
    "all_df.ALIGNMENT.value_counts()"
   ]
  },
  {
   "cell_type": "code",
   "execution_count": 27,
   "metadata": {},
   "outputs": [
    {
     "data": {
      "text/plain": [
       "NO INJURY / DRIVE AWAY              832638\n",
       "INJURY AND / OR TOW DUE TO CRASH    336224\n",
       "Name: CRASH_TYPE, dtype: int64"
      ]
     },
     "execution_count": 27,
     "metadata": {},
     "output_type": "execute_result"
    }
   ],
   "source": [
    "all_df.CRASH_TYPE.value_counts()"
   ]
  },
  {
   "cell_type": "code",
   "execution_count": 28,
   "metadata": {},
   "outputs": [
    {
     "data": {
      "text/plain": [
       "Y    304573\n",
       "N     14100\n",
       "Name: INTERSECTION_RELATED_I, dtype: int64"
      ]
     },
     "execution_count": 28,
     "metadata": {},
     "output_type": "execute_result"
    }
   ],
   "source": [
    "all_df.INTERSECTION_RELATED_I.value_counts()"
   ]
  },
  {
   "cell_type": "code",
   "execution_count": 29,
   "metadata": {},
   "outputs": [
    {
     "data": {
      "text/plain": [
       "JB187770    61\n",
       "JC317468    50\n",
       "JB253311    46\n",
       "JA283201    45\n",
       "HZ139917    44\n",
       "            ..\n",
       "JE188352     1\n",
       "JB489460     1\n",
       "JC525696     1\n",
       "JB188002     1\n",
       "JD318091     1\n",
       "Name: RD_NO_y, Length: 523216, dtype: int64"
      ]
     },
     "execution_count": 29,
     "metadata": {},
     "output_type": "execute_result"
    }
   ],
   "source": [
    "all_df.RD_NO_y.value_counts()"
   ]
  },
  {
   "cell_type": "code",
   "execution_count": 48,
   "metadata": {},
   "outputs": [
    {
     "data": {
      "text/html": [
       "<div>\n",
       "<style scoped>\n",
       "    .dataframe tbody tr th:only-of-type {\n",
       "        vertical-align: middle;\n",
       "    }\n",
       "\n",
       "    .dataframe tbody tr th {\n",
       "        vertical-align: top;\n",
       "    }\n",
       "\n",
       "    .dataframe thead th {\n",
       "        text-align: right;\n",
       "    }\n",
       "</style>\n",
       "<table border=\"1\" class=\"dataframe\">\n",
       "  <thead>\n",
       "    <tr style=\"text-align: right;\">\n",
       "      <th></th>\n",
       "      <th>CRASH_DATE_x</th>\n",
       "      <th>POSTED_SPEED_LIMIT</th>\n",
       "      <th>TRAFFIC_CONTROL_DEVICE</th>\n",
       "      <th>WEATHER_CONDITION</th>\n",
       "      <th>LIGHTING_CONDITION</th>\n",
       "      <th>FIRST_CRASH_TYPE</th>\n",
       "      <th>TRAFFICWAY_TYPE</th>\n",
       "      <th>ROADWAY_SURFACE_COND</th>\n",
       "      <th>ROAD_DEFECT</th>\n",
       "      <th>CRASH_TYPE</th>\n",
       "      <th>...</th>\n",
       "      <th>SEAT_NO</th>\n",
       "      <th>SEX</th>\n",
       "      <th>AGE</th>\n",
       "      <th>DRIVERS_LICENSE_CLASS</th>\n",
       "      <th>SAFETY_EQUIPMENT</th>\n",
       "      <th>INJURY_CLASSIFICATION</th>\n",
       "      <th>DRIVER_ACTION</th>\n",
       "      <th>DRIVER_VISION</th>\n",
       "      <th>PHYSICAL_CONDITION</th>\n",
       "      <th>BAC_RESULT</th>\n",
       "    </tr>\n",
       "  </thead>\n",
       "  <tbody>\n",
       "    <tr>\n",
       "      <th>0</th>\n",
       "      <td>07/10/2019 05:56:00 PM</td>\n",
       "      <td>35</td>\n",
       "      <td>NO CONTROLS</td>\n",
       "      <td>CLEAR</td>\n",
       "      <td>DAYLIGHT</td>\n",
       "      <td>TURNING</td>\n",
       "      <td>ONE-WAY</td>\n",
       "      <td>DRY</td>\n",
       "      <td>NO DEFECTS</td>\n",
       "      <td>NO INJURY / DRIVE AWAY</td>\n",
       "      <td>...</td>\n",
       "      <td>NaN</td>\n",
       "      <td>M</td>\n",
       "      <td>31.0</td>\n",
       "      <td>D</td>\n",
       "      <td>USAGE UNKNOWN</td>\n",
       "      <td>NO INDICATION OF INJURY</td>\n",
       "      <td>IMPROPER BACKING</td>\n",
       "      <td>UNKNOWN</td>\n",
       "      <td>NORMAL</td>\n",
       "      <td>TEST NOT OFFERED</td>\n",
       "    </tr>\n",
       "    <tr>\n",
       "      <th>1</th>\n",
       "      <td>07/10/2019 05:56:00 PM</td>\n",
       "      <td>35</td>\n",
       "      <td>NO CONTROLS</td>\n",
       "      <td>CLEAR</td>\n",
       "      <td>DAYLIGHT</td>\n",
       "      <td>TURNING</td>\n",
       "      <td>ONE-WAY</td>\n",
       "      <td>DRY</td>\n",
       "      <td>NO DEFECTS</td>\n",
       "      <td>NO INJURY / DRIVE AWAY</td>\n",
       "      <td>...</td>\n",
       "      <td>NaN</td>\n",
       "      <td>M</td>\n",
       "      <td>43.0</td>\n",
       "      <td>D</td>\n",
       "      <td>USAGE UNKNOWN</td>\n",
       "      <td>NO INDICATION OF INJURY</td>\n",
       "      <td>NONE</td>\n",
       "      <td>NOT OBSCURED</td>\n",
       "      <td>NORMAL</td>\n",
       "      <td>TEST NOT OFFERED</td>\n",
       "    </tr>\n",
       "    <tr>\n",
       "      <th>2</th>\n",
       "      <td>07/10/2019 05:56:00 PM</td>\n",
       "      <td>35</td>\n",
       "      <td>NO CONTROLS</td>\n",
       "      <td>CLEAR</td>\n",
       "      <td>DAYLIGHT</td>\n",
       "      <td>TURNING</td>\n",
       "      <td>ONE-WAY</td>\n",
       "      <td>DRY</td>\n",
       "      <td>NO DEFECTS</td>\n",
       "      <td>NO INJURY / DRIVE AWAY</td>\n",
       "      <td>...</td>\n",
       "      <td>3.0</td>\n",
       "      <td>M</td>\n",
       "      <td>28.0</td>\n",
       "      <td>NaN</td>\n",
       "      <td>USAGE UNKNOWN</td>\n",
       "      <td>NO INDICATION OF INJURY</td>\n",
       "      <td>NaN</td>\n",
       "      <td>NaN</td>\n",
       "      <td>NaN</td>\n",
       "      <td>NaN</td>\n",
       "    </tr>\n",
       "    <tr>\n",
       "      <th>3</th>\n",
       "      <td>06/30/2017 04:00:00 PM</td>\n",
       "      <td>35</td>\n",
       "      <td>STOP SIGN/FLASHER</td>\n",
       "      <td>CLEAR</td>\n",
       "      <td>DAYLIGHT</td>\n",
       "      <td>TURNING</td>\n",
       "      <td>NOT DIVIDED</td>\n",
       "      <td>DRY</td>\n",
       "      <td>NO DEFECTS</td>\n",
       "      <td>INJURY AND / OR TOW DUE TO CRASH</td>\n",
       "      <td>...</td>\n",
       "      <td>NaN</td>\n",
       "      <td>F</td>\n",
       "      <td>20.0</td>\n",
       "      <td>D</td>\n",
       "      <td>USAGE UNKNOWN</td>\n",
       "      <td>NO INDICATION OF INJURY</td>\n",
       "      <td>FAILED TO YIELD</td>\n",
       "      <td>UNKNOWN</td>\n",
       "      <td>UNKNOWN</td>\n",
       "      <td>TEST NOT OFFERED</td>\n",
       "    </tr>\n",
       "    <tr>\n",
       "      <th>4</th>\n",
       "      <td>06/30/2017 04:00:00 PM</td>\n",
       "      <td>35</td>\n",
       "      <td>STOP SIGN/FLASHER</td>\n",
       "      <td>CLEAR</td>\n",
       "      <td>DAYLIGHT</td>\n",
       "      <td>TURNING</td>\n",
       "      <td>NOT DIVIDED</td>\n",
       "      <td>DRY</td>\n",
       "      <td>NO DEFECTS</td>\n",
       "      <td>INJURY AND / OR TOW DUE TO CRASH</td>\n",
       "      <td>...</td>\n",
       "      <td>NaN</td>\n",
       "      <td>F</td>\n",
       "      <td>26.0</td>\n",
       "      <td>D</td>\n",
       "      <td>SAFETY BELT USED</td>\n",
       "      <td>NO INDICATION OF INJURY</td>\n",
       "      <td>NONE</td>\n",
       "      <td>NOT OBSCURED</td>\n",
       "      <td>NORMAL</td>\n",
       "      <td>TEST NOT OFFERED</td>\n",
       "    </tr>\n",
       "    <tr>\n",
       "      <th>...</th>\n",
       "      <td>...</td>\n",
       "      <td>...</td>\n",
       "      <td>...</td>\n",
       "      <td>...</td>\n",
       "      <td>...</td>\n",
       "      <td>...</td>\n",
       "      <td>...</td>\n",
       "      <td>...</td>\n",
       "      <td>...</td>\n",
       "      <td>...</td>\n",
       "      <td>...</td>\n",
       "      <td>...</td>\n",
       "      <td>...</td>\n",
       "      <td>...</td>\n",
       "      <td>...</td>\n",
       "      <td>...</td>\n",
       "      <td>...</td>\n",
       "      <td>...</td>\n",
       "      <td>...</td>\n",
       "      <td>...</td>\n",
       "      <td>...</td>\n",
       "    </tr>\n",
       "    <tr>\n",
       "      <th>1168857</th>\n",
       "      <td>07/12/2021 10:00:00 AM</td>\n",
       "      <td>30</td>\n",
       "      <td>NO CONTROLS</td>\n",
       "      <td>CLEAR</td>\n",
       "      <td>DAYLIGHT</td>\n",
       "      <td>REAR TO SIDE</td>\n",
       "      <td>ONE-WAY</td>\n",
       "      <td>DRY</td>\n",
       "      <td>NO DEFECTS</td>\n",
       "      <td>INJURY AND / OR TOW DUE TO CRASH</td>\n",
       "      <td>...</td>\n",
       "      <td>NaN</td>\n",
       "      <td>M</td>\n",
       "      <td>NaN</td>\n",
       "      <td>NaN</td>\n",
       "      <td>USAGE UNKNOWN</td>\n",
       "      <td>NO INDICATION OF INJURY</td>\n",
       "      <td>UNKNOWN</td>\n",
       "      <td>UNKNOWN</td>\n",
       "      <td>UNKNOWN</td>\n",
       "      <td>TEST NOT OFFERED</td>\n",
       "    </tr>\n",
       "    <tr>\n",
       "      <th>1168858</th>\n",
       "      <td>07/12/2021 10:00:00 AM</td>\n",
       "      <td>30</td>\n",
       "      <td>NO CONTROLS</td>\n",
       "      <td>CLEAR</td>\n",
       "      <td>DAYLIGHT</td>\n",
       "      <td>REAR TO SIDE</td>\n",
       "      <td>ONE-WAY</td>\n",
       "      <td>DRY</td>\n",
       "      <td>NO DEFECTS</td>\n",
       "      <td>INJURY AND / OR TOW DUE TO CRASH</td>\n",
       "      <td>...</td>\n",
       "      <td>NaN</td>\n",
       "      <td>F</td>\n",
       "      <td>25.0</td>\n",
       "      <td>D</td>\n",
       "      <td>SAFETY BELT USED</td>\n",
       "      <td>REPORTED, NOT EVIDENT</td>\n",
       "      <td>NONE</td>\n",
       "      <td>NOT OBSCURED</td>\n",
       "      <td>NORMAL</td>\n",
       "      <td>TEST NOT OFFERED</td>\n",
       "    </tr>\n",
       "    <tr>\n",
       "      <th>1168859</th>\n",
       "      <td>07/13/2021 04:15:00 PM</td>\n",
       "      <td>15</td>\n",
       "      <td>NO CONTROLS</td>\n",
       "      <td>CLEAR</td>\n",
       "      <td>DAYLIGHT</td>\n",
       "      <td>PARKED MOTOR VEHICLE</td>\n",
       "      <td>NOT DIVIDED</td>\n",
       "      <td>DRY</td>\n",
       "      <td>NO DEFECTS</td>\n",
       "      <td>NO INJURY / DRIVE AWAY</td>\n",
       "      <td>...</td>\n",
       "      <td>NaN</td>\n",
       "      <td>X</td>\n",
       "      <td>NaN</td>\n",
       "      <td>NaN</td>\n",
       "      <td>USAGE UNKNOWN</td>\n",
       "      <td>NO INDICATION OF INJURY</td>\n",
       "      <td>UNKNOWN</td>\n",
       "      <td>UNKNOWN</td>\n",
       "      <td>UNKNOWN</td>\n",
       "      <td>TEST NOT OFFERED</td>\n",
       "    </tr>\n",
       "    <tr>\n",
       "      <th>1168860</th>\n",
       "      <td>07/13/2021 11:30:00 AM</td>\n",
       "      <td>30</td>\n",
       "      <td>NO CONTROLS</td>\n",
       "      <td>CLEAR</td>\n",
       "      <td>DAYLIGHT</td>\n",
       "      <td>SIDESWIPE SAME DIRECTION</td>\n",
       "      <td>DIVIDED - W/MEDIAN (NOT RAISED)</td>\n",
       "      <td>DRY</td>\n",
       "      <td>NO DEFECTS</td>\n",
       "      <td>NO INJURY / DRIVE AWAY</td>\n",
       "      <td>...</td>\n",
       "      <td>NaN</td>\n",
       "      <td>X</td>\n",
       "      <td>NaN</td>\n",
       "      <td>NaN</td>\n",
       "      <td>USAGE UNKNOWN</td>\n",
       "      <td>NO INDICATION OF INJURY</td>\n",
       "      <td>UNKNOWN</td>\n",
       "      <td>UNKNOWN</td>\n",
       "      <td>UNKNOWN</td>\n",
       "      <td>TEST NOT OFFERED</td>\n",
       "    </tr>\n",
       "    <tr>\n",
       "      <th>1168861</th>\n",
       "      <td>07/13/2021 11:30:00 AM</td>\n",
       "      <td>30</td>\n",
       "      <td>NO CONTROLS</td>\n",
       "      <td>CLEAR</td>\n",
       "      <td>DAYLIGHT</td>\n",
       "      <td>SIDESWIPE SAME DIRECTION</td>\n",
       "      <td>DIVIDED - W/MEDIAN (NOT RAISED)</td>\n",
       "      <td>DRY</td>\n",
       "      <td>NO DEFECTS</td>\n",
       "      <td>NO INJURY / DRIVE AWAY</td>\n",
       "      <td>...</td>\n",
       "      <td>NaN</td>\n",
       "      <td>F</td>\n",
       "      <td>48.0</td>\n",
       "      <td>D</td>\n",
       "      <td>SAFETY BELT USED</td>\n",
       "      <td>NO INDICATION OF INJURY</td>\n",
       "      <td>NONE</td>\n",
       "      <td>NOT OBSCURED</td>\n",
       "      <td>NORMAL</td>\n",
       "      <td>TEST NOT OFFERED</td>\n",
       "    </tr>\n",
       "  </tbody>\n",
       "</table>\n",
       "<p>1168862 rows × 34 columns</p>\n",
       "</div>"
      ],
      "text/plain": [
       "                   CRASH_DATE_x  POSTED_SPEED_LIMIT TRAFFIC_CONTROL_DEVICE  \\\n",
       "0        07/10/2019 05:56:00 PM                  35            NO CONTROLS   \n",
       "1        07/10/2019 05:56:00 PM                  35            NO CONTROLS   \n",
       "2        07/10/2019 05:56:00 PM                  35            NO CONTROLS   \n",
       "3        06/30/2017 04:00:00 PM                  35      STOP SIGN/FLASHER   \n",
       "4        06/30/2017 04:00:00 PM                  35      STOP SIGN/FLASHER   \n",
       "...                         ...                 ...                    ...   \n",
       "1168857  07/12/2021 10:00:00 AM                  30            NO CONTROLS   \n",
       "1168858  07/12/2021 10:00:00 AM                  30            NO CONTROLS   \n",
       "1168859  07/13/2021 04:15:00 PM                  15            NO CONTROLS   \n",
       "1168860  07/13/2021 11:30:00 AM                  30            NO CONTROLS   \n",
       "1168861  07/13/2021 11:30:00 AM                  30            NO CONTROLS   \n",
       "\n",
       "        WEATHER_CONDITION LIGHTING_CONDITION          FIRST_CRASH_TYPE  \\\n",
       "0                   CLEAR           DAYLIGHT                   TURNING   \n",
       "1                   CLEAR           DAYLIGHT                   TURNING   \n",
       "2                   CLEAR           DAYLIGHT                   TURNING   \n",
       "3                   CLEAR           DAYLIGHT                   TURNING   \n",
       "4                   CLEAR           DAYLIGHT                   TURNING   \n",
       "...                   ...                ...                       ...   \n",
       "1168857             CLEAR           DAYLIGHT              REAR TO SIDE   \n",
       "1168858             CLEAR           DAYLIGHT              REAR TO SIDE   \n",
       "1168859             CLEAR           DAYLIGHT      PARKED MOTOR VEHICLE   \n",
       "1168860             CLEAR           DAYLIGHT  SIDESWIPE SAME DIRECTION   \n",
       "1168861             CLEAR           DAYLIGHT  SIDESWIPE SAME DIRECTION   \n",
       "\n",
       "                         TRAFFICWAY_TYPE ROADWAY_SURFACE_COND ROAD_DEFECT  \\\n",
       "0                                ONE-WAY                  DRY  NO DEFECTS   \n",
       "1                                ONE-WAY                  DRY  NO DEFECTS   \n",
       "2                                ONE-WAY                  DRY  NO DEFECTS   \n",
       "3                            NOT DIVIDED                  DRY  NO DEFECTS   \n",
       "4                            NOT DIVIDED                  DRY  NO DEFECTS   \n",
       "...                                  ...                  ...         ...   \n",
       "1168857                          ONE-WAY                  DRY  NO DEFECTS   \n",
       "1168858                          ONE-WAY                  DRY  NO DEFECTS   \n",
       "1168859                      NOT DIVIDED                  DRY  NO DEFECTS   \n",
       "1168860  DIVIDED - W/MEDIAN (NOT RAISED)                  DRY  NO DEFECTS   \n",
       "1168861  DIVIDED - W/MEDIAN (NOT RAISED)                  DRY  NO DEFECTS   \n",
       "\n",
       "                               CRASH_TYPE  ... SEAT_NO SEX   AGE  \\\n",
       "0                  NO INJURY / DRIVE AWAY  ...     NaN   M  31.0   \n",
       "1                  NO INJURY / DRIVE AWAY  ...     NaN   M  43.0   \n",
       "2                  NO INJURY / DRIVE AWAY  ...     3.0   M  28.0   \n",
       "3        INJURY AND / OR TOW DUE TO CRASH  ...     NaN   F  20.0   \n",
       "4        INJURY AND / OR TOW DUE TO CRASH  ...     NaN   F  26.0   \n",
       "...                                   ...  ...     ...  ..   ...   \n",
       "1168857  INJURY AND / OR TOW DUE TO CRASH  ...     NaN   M   NaN   \n",
       "1168858  INJURY AND / OR TOW DUE TO CRASH  ...     NaN   F  25.0   \n",
       "1168859            NO INJURY / DRIVE AWAY  ...     NaN   X   NaN   \n",
       "1168860            NO INJURY / DRIVE AWAY  ...     NaN   X   NaN   \n",
       "1168861            NO INJURY / DRIVE AWAY  ...     NaN   F  48.0   \n",
       "\n",
       "        DRIVERS_LICENSE_CLASS  SAFETY_EQUIPMENT    INJURY_CLASSIFICATION  \\\n",
       "0                           D     USAGE UNKNOWN  NO INDICATION OF INJURY   \n",
       "1                           D     USAGE UNKNOWN  NO INDICATION OF INJURY   \n",
       "2                         NaN     USAGE UNKNOWN  NO INDICATION OF INJURY   \n",
       "3                           D     USAGE UNKNOWN  NO INDICATION OF INJURY   \n",
       "4                           D  SAFETY BELT USED  NO INDICATION OF INJURY   \n",
       "...                       ...               ...                      ...   \n",
       "1168857                   NaN     USAGE UNKNOWN  NO INDICATION OF INJURY   \n",
       "1168858                     D  SAFETY BELT USED    REPORTED, NOT EVIDENT   \n",
       "1168859                   NaN     USAGE UNKNOWN  NO INDICATION OF INJURY   \n",
       "1168860                   NaN     USAGE UNKNOWN  NO INDICATION OF INJURY   \n",
       "1168861                     D  SAFETY BELT USED  NO INDICATION OF INJURY   \n",
       "\n",
       "            DRIVER_ACTION DRIVER_VISION  PHYSICAL_CONDITION        BAC_RESULT  \n",
       "0        IMPROPER BACKING       UNKNOWN              NORMAL  TEST NOT OFFERED  \n",
       "1                    NONE  NOT OBSCURED              NORMAL  TEST NOT OFFERED  \n",
       "2                     NaN           NaN                 NaN               NaN  \n",
       "3         FAILED TO YIELD       UNKNOWN             UNKNOWN  TEST NOT OFFERED  \n",
       "4                    NONE  NOT OBSCURED              NORMAL  TEST NOT OFFERED  \n",
       "...                   ...           ...                 ...               ...  \n",
       "1168857           UNKNOWN       UNKNOWN             UNKNOWN  TEST NOT OFFERED  \n",
       "1168858              NONE  NOT OBSCURED              NORMAL  TEST NOT OFFERED  \n",
       "1168859           UNKNOWN       UNKNOWN             UNKNOWN  TEST NOT OFFERED  \n",
       "1168860           UNKNOWN       UNKNOWN             UNKNOWN  TEST NOT OFFERED  \n",
       "1168861              NONE  NOT OBSCURED              NORMAL  TEST NOT OFFERED  \n",
       "\n",
       "[1168862 rows x 34 columns]"
      ]
     },
     "execution_count": 48,
     "metadata": {},
     "output_type": "execute_result"
    }
   ],
   "source": [
    "more_drops = ['ALIGNMENT', 'DEVICE_CONDITION', 'STREET_NO', 'STREET_DIRECTION', 'WORK_ZONE_TYPE', \n",
    "              'WORKERS_PRESENT_I', 'LANE_CNT', 'PERSON_ID', 'VEHICLE_ID', 'CRASH_DATE_y', \n",
    "              'CITY', 'STATE', 'ZIPCODE', 'LATITUDE', 'LONGITUDE', 'RD_NO_y', 'DRIVERS_LICENSE_STATE', \n",
    "              'AIRBAG_DEPLOYED', 'EJECTION', 'HOSPITAL', 'EMS_AGENCY', 'EMS_RUN_NO', 'PEDPEDAL_ACTION', \n",
    "              'PEDPEDAL_VISIBILITY', 'PEDPEDAL_LOCATION', 'BAC_RESULT VALUE', 'CELL_PHONE_USE']\n",
    "\n",
    "all_df.drop(more_drops, axis=1, inplace=True)\n",
    "all_df"
   ]
  },
  {
   "cell_type": "code",
   "execution_count": 49,
   "metadata": {},
   "outputs": [
    {
     "name": "stdout",
     "output_type": "stream",
     "text": [
      "<class 'pandas.core.frame.DataFrame'>\n",
      "Int64Index: 1168862 entries, 0 to 1168861\n",
      "Data columns (total 34 columns):\n",
      " #   Column                   Non-Null Count    Dtype  \n",
      "---  ------                   --------------    -----  \n",
      " 0   CRASH_DATE_x             1168862 non-null  object \n",
      " 1   POSTED_SPEED_LIMIT       1168862 non-null  int64  \n",
      " 2   TRAFFIC_CONTROL_DEVICE   1168862 non-null  object \n",
      " 3   WEATHER_CONDITION        1168862 non-null  object \n",
      " 4   LIGHTING_CONDITION       1168862 non-null  object \n",
      " 5   FIRST_CRASH_TYPE         1168862 non-null  object \n",
      " 6   TRAFFICWAY_TYPE          1168862 non-null  object \n",
      " 7   ROADWAY_SURFACE_COND     1168862 non-null  object \n",
      " 8   ROAD_DEFECT              1168862 non-null  object \n",
      " 9   CRASH_TYPE               1168862 non-null  object \n",
      " 10  INTERSECTION_RELATED_I   318673 non-null   object \n",
      " 11  NOT_RIGHT_OF_WAY_I       42842 non-null    object \n",
      " 12  HIT_AND_RUN_I            302682 non-null   object \n",
      " 13  PRIM_CONTRIBUTORY_CAUSE  1168862 non-null  object \n",
      " 14  SEC_CONTRIBUTORY_CAUSE   1168862 non-null  object \n",
      " 15  STREET_NAME              1168860 non-null  object \n",
      " 16  DOORING_I                3651 non-null     object \n",
      " 17  WORK_ZONE_I              7284 non-null     object \n",
      " 18  NUM_UNITS                1168862 non-null  int64  \n",
      " 19  CRASH_HOUR               1168862 non-null  int64  \n",
      " 20  CRASH_DAY_OF_WEEK        1168862 non-null  int64  \n",
      " 21  CRASH_MONTH              1168862 non-null  int64  \n",
      " 22  LOCATION                 1162088 non-null  object \n",
      " 23  PERSON_TYPE              1168862 non-null  object \n",
      " 24  SEAT_NO                  239087 non-null   float64\n",
      " 25  SEX                      1151267 non-null  object \n",
      " 26  AGE                      833902 non-null   float64\n",
      " 27  DRIVERS_LICENSE_CLASS    595860 non-null   object \n",
      " 28  SAFETY_EQUIPMENT         1165443 non-null  object \n",
      " 29  INJURY_CLASSIFICATION    1168275 non-null  object \n",
      " 30  DRIVER_ACTION            927540 non-null   object \n",
      " 31  DRIVER_VISION            927222 non-null   object \n",
      " 32  PHYSICAL_CONDITION       928216 non-null   object \n",
      " 33  BAC_RESULT               928650 non-null   object \n",
      "dtypes: float64(2), int64(5), object(27)\n",
      "memory usage: 312.1+ MB\n"
     ]
    }
   ],
   "source": [
    "all_df.info()"
   ]
  },
  {
   "cell_type": "code",
   "execution_count": 58,
   "metadata": {},
   "outputs": [
    {
     "data": {
      "text/html": [
       "<div>\n",
       "<style scoped>\n",
       "    .dataframe tbody tr th:only-of-type {\n",
       "        vertical-align: middle;\n",
       "    }\n",
       "\n",
       "    .dataframe tbody tr th {\n",
       "        vertical-align: top;\n",
       "    }\n",
       "\n",
       "    .dataframe thead th {\n",
       "        text-align: right;\n",
       "    }\n",
       "</style>\n",
       "<table border=\"1\" class=\"dataframe\">\n",
       "  <thead>\n",
       "    <tr style=\"text-align: right;\">\n",
       "      <th></th>\n",
       "      <th>POSTED_SPEED_LIMIT</th>\n",
       "      <th>TRAFFIC_CONTROL_DEVICE</th>\n",
       "      <th>WEATHER_CONDITION</th>\n",
       "      <th>LIGHTING_CONDITION</th>\n",
       "      <th>FIRST_CRASH_TYPE</th>\n",
       "      <th>TRAFFICWAY_TYPE</th>\n",
       "      <th>ROADWAY_SURFACE_COND</th>\n",
       "      <th>ROAD_DEFECT</th>\n",
       "      <th>CRASH_TYPE</th>\n",
       "      <th>INTERSECTION_RELATED_I</th>\n",
       "      <th>...</th>\n",
       "      <th>PERSON_TYPE</th>\n",
       "      <th>SEX</th>\n",
       "      <th>AGE</th>\n",
       "      <th>DRIVERS_LICENSE_CLASS</th>\n",
       "      <th>SAFETY_EQUIPMENT</th>\n",
       "      <th>INJURY_CLASSIFICATION</th>\n",
       "      <th>DRIVER_ACTION</th>\n",
       "      <th>DRIVER_VISION</th>\n",
       "      <th>PHYSICAL_CONDITION</th>\n",
       "      <th>BAC_RESULT</th>\n",
       "    </tr>\n",
       "  </thead>\n",
       "  <tbody>\n",
       "    <tr>\n",
       "      <th>0</th>\n",
       "      <td>35</td>\n",
       "      <td>NO CONTROLS</td>\n",
       "      <td>CLEAR</td>\n",
       "      <td>DAYLIGHT</td>\n",
       "      <td>TURNING</td>\n",
       "      <td>ONE-WAY</td>\n",
       "      <td>DRY</td>\n",
       "      <td>NO DEFECTS</td>\n",
       "      <td>NO INJURY / DRIVE AWAY</td>\n",
       "      <td>NaN</td>\n",
       "      <td>...</td>\n",
       "      <td>DRIVER</td>\n",
       "      <td>M</td>\n",
       "      <td>31.0</td>\n",
       "      <td>D</td>\n",
       "      <td>USAGE UNKNOWN</td>\n",
       "      <td>NO INDICATION OF INJURY</td>\n",
       "      <td>IMPROPER BACKING</td>\n",
       "      <td>UNKNOWN</td>\n",
       "      <td>NORMAL</td>\n",
       "      <td>TEST NOT OFFERED</td>\n",
       "    </tr>\n",
       "    <tr>\n",
       "      <th>1</th>\n",
       "      <td>35</td>\n",
       "      <td>NO CONTROLS</td>\n",
       "      <td>CLEAR</td>\n",
       "      <td>DAYLIGHT</td>\n",
       "      <td>TURNING</td>\n",
       "      <td>ONE-WAY</td>\n",
       "      <td>DRY</td>\n",
       "      <td>NO DEFECTS</td>\n",
       "      <td>NO INJURY / DRIVE AWAY</td>\n",
       "      <td>NaN</td>\n",
       "      <td>...</td>\n",
       "      <td>DRIVER</td>\n",
       "      <td>M</td>\n",
       "      <td>43.0</td>\n",
       "      <td>D</td>\n",
       "      <td>USAGE UNKNOWN</td>\n",
       "      <td>NO INDICATION OF INJURY</td>\n",
       "      <td>NONE</td>\n",
       "      <td>NOT OBSCURED</td>\n",
       "      <td>NORMAL</td>\n",
       "      <td>TEST NOT OFFERED</td>\n",
       "    </tr>\n",
       "    <tr>\n",
       "      <th>2</th>\n",
       "      <td>35</td>\n",
       "      <td>NO CONTROLS</td>\n",
       "      <td>CLEAR</td>\n",
       "      <td>DAYLIGHT</td>\n",
       "      <td>TURNING</td>\n",
       "      <td>ONE-WAY</td>\n",
       "      <td>DRY</td>\n",
       "      <td>NO DEFECTS</td>\n",
       "      <td>NO INJURY / DRIVE AWAY</td>\n",
       "      <td>NaN</td>\n",
       "      <td>...</td>\n",
       "      <td>PASSENGER</td>\n",
       "      <td>M</td>\n",
       "      <td>28.0</td>\n",
       "      <td>NaN</td>\n",
       "      <td>USAGE UNKNOWN</td>\n",
       "      <td>NO INDICATION OF INJURY</td>\n",
       "      <td>NaN</td>\n",
       "      <td>NaN</td>\n",
       "      <td>NaN</td>\n",
       "      <td>NaN</td>\n",
       "    </tr>\n",
       "    <tr>\n",
       "      <th>3</th>\n",
       "      <td>35</td>\n",
       "      <td>STOP SIGN/FLASHER</td>\n",
       "      <td>CLEAR</td>\n",
       "      <td>DAYLIGHT</td>\n",
       "      <td>TURNING</td>\n",
       "      <td>NOT DIVIDED</td>\n",
       "      <td>DRY</td>\n",
       "      <td>NO DEFECTS</td>\n",
       "      <td>INJURY AND / OR TOW DUE TO CRASH</td>\n",
       "      <td>Y</td>\n",
       "      <td>...</td>\n",
       "      <td>DRIVER</td>\n",
       "      <td>F</td>\n",
       "      <td>20.0</td>\n",
       "      <td>D</td>\n",
       "      <td>USAGE UNKNOWN</td>\n",
       "      <td>NO INDICATION OF INJURY</td>\n",
       "      <td>FAILED TO YIELD</td>\n",
       "      <td>UNKNOWN</td>\n",
       "      <td>UNKNOWN</td>\n",
       "      <td>TEST NOT OFFERED</td>\n",
       "    </tr>\n",
       "    <tr>\n",
       "      <th>4</th>\n",
       "      <td>35</td>\n",
       "      <td>STOP SIGN/FLASHER</td>\n",
       "      <td>CLEAR</td>\n",
       "      <td>DAYLIGHT</td>\n",
       "      <td>TURNING</td>\n",
       "      <td>NOT DIVIDED</td>\n",
       "      <td>DRY</td>\n",
       "      <td>NO DEFECTS</td>\n",
       "      <td>INJURY AND / OR TOW DUE TO CRASH</td>\n",
       "      <td>Y</td>\n",
       "      <td>...</td>\n",
       "      <td>DRIVER</td>\n",
       "      <td>F</td>\n",
       "      <td>26.0</td>\n",
       "      <td>D</td>\n",
       "      <td>SAFETY BELT USED</td>\n",
       "      <td>NO INDICATION OF INJURY</td>\n",
       "      <td>NONE</td>\n",
       "      <td>NOT OBSCURED</td>\n",
       "      <td>NORMAL</td>\n",
       "      <td>TEST NOT OFFERED</td>\n",
       "    </tr>\n",
       "    <tr>\n",
       "      <th>...</th>\n",
       "      <td>...</td>\n",
       "      <td>...</td>\n",
       "      <td>...</td>\n",
       "      <td>...</td>\n",
       "      <td>...</td>\n",
       "      <td>...</td>\n",
       "      <td>...</td>\n",
       "      <td>...</td>\n",
       "      <td>...</td>\n",
       "      <td>...</td>\n",
       "      <td>...</td>\n",
       "      <td>...</td>\n",
       "      <td>...</td>\n",
       "      <td>...</td>\n",
       "      <td>...</td>\n",
       "      <td>...</td>\n",
       "      <td>...</td>\n",
       "      <td>...</td>\n",
       "      <td>...</td>\n",
       "      <td>...</td>\n",
       "      <td>...</td>\n",
       "    </tr>\n",
       "    <tr>\n",
       "      <th>1168857</th>\n",
       "      <td>30</td>\n",
       "      <td>NO CONTROLS</td>\n",
       "      <td>CLEAR</td>\n",
       "      <td>DAYLIGHT</td>\n",
       "      <td>REAR TO SIDE</td>\n",
       "      <td>ONE-WAY</td>\n",
       "      <td>DRY</td>\n",
       "      <td>NO DEFECTS</td>\n",
       "      <td>INJURY AND / OR TOW DUE TO CRASH</td>\n",
       "      <td>Y</td>\n",
       "      <td>...</td>\n",
       "      <td>DRIVER</td>\n",
       "      <td>M</td>\n",
       "      <td>NaN</td>\n",
       "      <td>NaN</td>\n",
       "      <td>USAGE UNKNOWN</td>\n",
       "      <td>NO INDICATION OF INJURY</td>\n",
       "      <td>UNKNOWN</td>\n",
       "      <td>UNKNOWN</td>\n",
       "      <td>UNKNOWN</td>\n",
       "      <td>TEST NOT OFFERED</td>\n",
       "    </tr>\n",
       "    <tr>\n",
       "      <th>1168858</th>\n",
       "      <td>30</td>\n",
       "      <td>NO CONTROLS</td>\n",
       "      <td>CLEAR</td>\n",
       "      <td>DAYLIGHT</td>\n",
       "      <td>REAR TO SIDE</td>\n",
       "      <td>ONE-WAY</td>\n",
       "      <td>DRY</td>\n",
       "      <td>NO DEFECTS</td>\n",
       "      <td>INJURY AND / OR TOW DUE TO CRASH</td>\n",
       "      <td>Y</td>\n",
       "      <td>...</td>\n",
       "      <td>DRIVER</td>\n",
       "      <td>F</td>\n",
       "      <td>25.0</td>\n",
       "      <td>D</td>\n",
       "      <td>SAFETY BELT USED</td>\n",
       "      <td>REPORTED, NOT EVIDENT</td>\n",
       "      <td>NONE</td>\n",
       "      <td>NOT OBSCURED</td>\n",
       "      <td>NORMAL</td>\n",
       "      <td>TEST NOT OFFERED</td>\n",
       "    </tr>\n",
       "    <tr>\n",
       "      <th>1168859</th>\n",
       "      <td>15</td>\n",
       "      <td>NO CONTROLS</td>\n",
       "      <td>CLEAR</td>\n",
       "      <td>DAYLIGHT</td>\n",
       "      <td>PARKED MOTOR VEHICLE</td>\n",
       "      <td>NOT DIVIDED</td>\n",
       "      <td>DRY</td>\n",
       "      <td>NO DEFECTS</td>\n",
       "      <td>NO INJURY / DRIVE AWAY</td>\n",
       "      <td>NaN</td>\n",
       "      <td>...</td>\n",
       "      <td>DRIVER</td>\n",
       "      <td>X</td>\n",
       "      <td>NaN</td>\n",
       "      <td>NaN</td>\n",
       "      <td>USAGE UNKNOWN</td>\n",
       "      <td>NO INDICATION OF INJURY</td>\n",
       "      <td>UNKNOWN</td>\n",
       "      <td>UNKNOWN</td>\n",
       "      <td>UNKNOWN</td>\n",
       "      <td>TEST NOT OFFERED</td>\n",
       "    </tr>\n",
       "    <tr>\n",
       "      <th>1168860</th>\n",
       "      <td>30</td>\n",
       "      <td>NO CONTROLS</td>\n",
       "      <td>CLEAR</td>\n",
       "      <td>DAYLIGHT</td>\n",
       "      <td>SIDESWIPE SAME DIRECTION</td>\n",
       "      <td>DIVIDED - W/MEDIAN (NOT RAISED)</td>\n",
       "      <td>DRY</td>\n",
       "      <td>NO DEFECTS</td>\n",
       "      <td>NO INJURY / DRIVE AWAY</td>\n",
       "      <td>NaN</td>\n",
       "      <td>...</td>\n",
       "      <td>DRIVER</td>\n",
       "      <td>X</td>\n",
       "      <td>NaN</td>\n",
       "      <td>NaN</td>\n",
       "      <td>USAGE UNKNOWN</td>\n",
       "      <td>NO INDICATION OF INJURY</td>\n",
       "      <td>UNKNOWN</td>\n",
       "      <td>UNKNOWN</td>\n",
       "      <td>UNKNOWN</td>\n",
       "      <td>TEST NOT OFFERED</td>\n",
       "    </tr>\n",
       "    <tr>\n",
       "      <th>1168861</th>\n",
       "      <td>30</td>\n",
       "      <td>NO CONTROLS</td>\n",
       "      <td>CLEAR</td>\n",
       "      <td>DAYLIGHT</td>\n",
       "      <td>SIDESWIPE SAME DIRECTION</td>\n",
       "      <td>DIVIDED - W/MEDIAN (NOT RAISED)</td>\n",
       "      <td>DRY</td>\n",
       "      <td>NO DEFECTS</td>\n",
       "      <td>NO INJURY / DRIVE AWAY</td>\n",
       "      <td>NaN</td>\n",
       "      <td>...</td>\n",
       "      <td>DRIVER</td>\n",
       "      <td>F</td>\n",
       "      <td>48.0</td>\n",
       "      <td>D</td>\n",
       "      <td>SAFETY BELT USED</td>\n",
       "      <td>NO INDICATION OF INJURY</td>\n",
       "      <td>NONE</td>\n",
       "      <td>NOT OBSCURED</td>\n",
       "      <td>NORMAL</td>\n",
       "      <td>TEST NOT OFFERED</td>\n",
       "    </tr>\n",
       "  </tbody>\n",
       "</table>\n",
       "<p>1168862 rows × 27 columns</p>\n",
       "</div>"
      ],
      "text/plain": [
       "         POSTED_SPEED_LIMIT TRAFFIC_CONTROL_DEVICE WEATHER_CONDITION  \\\n",
       "0                        35            NO CONTROLS             CLEAR   \n",
       "1                        35            NO CONTROLS             CLEAR   \n",
       "2                        35            NO CONTROLS             CLEAR   \n",
       "3                        35      STOP SIGN/FLASHER             CLEAR   \n",
       "4                        35      STOP SIGN/FLASHER             CLEAR   \n",
       "...                     ...                    ...               ...   \n",
       "1168857                  30            NO CONTROLS             CLEAR   \n",
       "1168858                  30            NO CONTROLS             CLEAR   \n",
       "1168859                  15            NO CONTROLS             CLEAR   \n",
       "1168860                  30            NO CONTROLS             CLEAR   \n",
       "1168861                  30            NO CONTROLS             CLEAR   \n",
       "\n",
       "        LIGHTING_CONDITION          FIRST_CRASH_TYPE  \\\n",
       "0                 DAYLIGHT                   TURNING   \n",
       "1                 DAYLIGHT                   TURNING   \n",
       "2                 DAYLIGHT                   TURNING   \n",
       "3                 DAYLIGHT                   TURNING   \n",
       "4                 DAYLIGHT                   TURNING   \n",
       "...                    ...                       ...   \n",
       "1168857           DAYLIGHT              REAR TO SIDE   \n",
       "1168858           DAYLIGHT              REAR TO SIDE   \n",
       "1168859           DAYLIGHT      PARKED MOTOR VEHICLE   \n",
       "1168860           DAYLIGHT  SIDESWIPE SAME DIRECTION   \n",
       "1168861           DAYLIGHT  SIDESWIPE SAME DIRECTION   \n",
       "\n",
       "                         TRAFFICWAY_TYPE ROADWAY_SURFACE_COND ROAD_DEFECT  \\\n",
       "0                                ONE-WAY                  DRY  NO DEFECTS   \n",
       "1                                ONE-WAY                  DRY  NO DEFECTS   \n",
       "2                                ONE-WAY                  DRY  NO DEFECTS   \n",
       "3                            NOT DIVIDED                  DRY  NO DEFECTS   \n",
       "4                            NOT DIVIDED                  DRY  NO DEFECTS   \n",
       "...                                  ...                  ...         ...   \n",
       "1168857                          ONE-WAY                  DRY  NO DEFECTS   \n",
       "1168858                          ONE-WAY                  DRY  NO DEFECTS   \n",
       "1168859                      NOT DIVIDED                  DRY  NO DEFECTS   \n",
       "1168860  DIVIDED - W/MEDIAN (NOT RAISED)                  DRY  NO DEFECTS   \n",
       "1168861  DIVIDED - W/MEDIAN (NOT RAISED)                  DRY  NO DEFECTS   \n",
       "\n",
       "                               CRASH_TYPE INTERSECTION_RELATED_I  ...  \\\n",
       "0                  NO INJURY / DRIVE AWAY                    NaN  ...   \n",
       "1                  NO INJURY / DRIVE AWAY                    NaN  ...   \n",
       "2                  NO INJURY / DRIVE AWAY                    NaN  ...   \n",
       "3        INJURY AND / OR TOW DUE TO CRASH                      Y  ...   \n",
       "4        INJURY AND / OR TOW DUE TO CRASH                      Y  ...   \n",
       "...                                   ...                    ...  ...   \n",
       "1168857  INJURY AND / OR TOW DUE TO CRASH                      Y  ...   \n",
       "1168858  INJURY AND / OR TOW DUE TO CRASH                      Y  ...   \n",
       "1168859            NO INJURY / DRIVE AWAY                    NaN  ...   \n",
       "1168860            NO INJURY / DRIVE AWAY                    NaN  ...   \n",
       "1168861            NO INJURY / DRIVE AWAY                    NaN  ...   \n",
       "\n",
       "        PERSON_TYPE SEX   AGE  DRIVERS_LICENSE_CLASS  SAFETY_EQUIPMENT  \\\n",
       "0            DRIVER   M  31.0                      D     USAGE UNKNOWN   \n",
       "1            DRIVER   M  43.0                      D     USAGE UNKNOWN   \n",
       "2         PASSENGER   M  28.0                    NaN     USAGE UNKNOWN   \n",
       "3            DRIVER   F  20.0                      D     USAGE UNKNOWN   \n",
       "4            DRIVER   F  26.0                      D  SAFETY BELT USED   \n",
       "...             ...  ..   ...                    ...               ...   \n",
       "1168857      DRIVER   M   NaN                    NaN     USAGE UNKNOWN   \n",
       "1168858      DRIVER   F  25.0                      D  SAFETY BELT USED   \n",
       "1168859      DRIVER   X   NaN                    NaN     USAGE UNKNOWN   \n",
       "1168860      DRIVER   X   NaN                    NaN     USAGE UNKNOWN   \n",
       "1168861      DRIVER   F  48.0                      D  SAFETY BELT USED   \n",
       "\n",
       "           INJURY_CLASSIFICATION     DRIVER_ACTION DRIVER_VISION  \\\n",
       "0        NO INDICATION OF INJURY  IMPROPER BACKING       UNKNOWN   \n",
       "1        NO INDICATION OF INJURY              NONE  NOT OBSCURED   \n",
       "2        NO INDICATION OF INJURY               NaN           NaN   \n",
       "3        NO INDICATION OF INJURY   FAILED TO YIELD       UNKNOWN   \n",
       "4        NO INDICATION OF INJURY              NONE  NOT OBSCURED   \n",
       "...                          ...               ...           ...   \n",
       "1168857  NO INDICATION OF INJURY           UNKNOWN       UNKNOWN   \n",
       "1168858    REPORTED, NOT EVIDENT              NONE  NOT OBSCURED   \n",
       "1168859  NO INDICATION OF INJURY           UNKNOWN       UNKNOWN   \n",
       "1168860  NO INDICATION OF INJURY           UNKNOWN       UNKNOWN   \n",
       "1168861  NO INDICATION OF INJURY              NONE  NOT OBSCURED   \n",
       "\n",
       "        PHYSICAL_CONDITION        BAC_RESULT  \n",
       "0                   NORMAL  TEST NOT OFFERED  \n",
       "1                   NORMAL  TEST NOT OFFERED  \n",
       "2                      NaN               NaN  \n",
       "3                  UNKNOWN  TEST NOT OFFERED  \n",
       "4                   NORMAL  TEST NOT OFFERED  \n",
       "...                    ...               ...  \n",
       "1168857            UNKNOWN  TEST NOT OFFERED  \n",
       "1168858             NORMAL  TEST NOT OFFERED  \n",
       "1168859            UNKNOWN  TEST NOT OFFERED  \n",
       "1168860            UNKNOWN  TEST NOT OFFERED  \n",
       "1168861             NORMAL  TEST NOT OFFERED  \n",
       "\n",
       "[1168862 rows x 27 columns]"
      ]
     },
     "execution_count": 58,
     "metadata": {},
     "output_type": "execute_result"
    }
   ],
   "source": [
    "drops3 = ['CRASH_DATE_x', 'DOORING_I', 'NOT_RIGHT_OF_WAY_I', 'HIT_AND_RUN_I', \n",
    "         'SEC_CONTRIBUTORY_CAUSE', 'WORK_ZONE_I', 'SEAT_NO']\n",
    "\n",
    "all_df.drop(drops3, axis=1, inplace=True)\n",
    "all_df"
   ]
  },
  {
   "cell_type": "code",
   "execution_count": 57,
   "metadata": {},
   "outputs": [
    {
     "data": {
      "text/plain": [
       "3.0     115776\n",
       "6.0      40892\n",
       "4.0      32309\n",
       "5.0      11332\n",
       "1.0      10229\n",
       "2.0       9508\n",
       "12.0      6042\n",
       "7.0       5492\n",
       "10.0      5200\n",
       "11.0      2035\n",
       "8.0        272\n",
       "Name: SEAT_NO, dtype: int64"
      ]
     },
     "execution_count": 57,
     "metadata": {},
     "output_type": "execute_result"
    }
   ],
   "source": [
    "all_df.SEAT_NO.value_counts()"
   ]
  },
  {
   "cell_type": "code",
   "execution_count": 56,
   "metadata": {},
   "outputs": [
    {
     "data": {
      "text/plain": [
       "6    191265\n",
       "7    178525\n",
       "5    166354\n",
       "3    165073\n",
       "4    164774\n",
       "2    158903\n",
       "1    143968\n",
       "Name: CRASH_DAY_OF_WEEK, dtype: int64"
      ]
     },
     "execution_count": 56,
     "metadata": {},
     "output_type": "execute_result"
    }
   ],
   "source": [
    "all_df.CRASH_DAY_OF_WEEK.value_counts()"
   ]
  },
  {
   "cell_type": "code",
   "execution_count": 55,
   "metadata": {},
   "outputs": [
    {
     "data": {
      "text/plain": [
       "Y    5817\n",
       "N    1467\n",
       "Name: WORK_ZONE_I, dtype: int64"
      ]
     },
     "execution_count": 55,
     "metadata": {},
     "output_type": "execute_result"
    }
   ],
   "source": [
    "all_df.WORK_ZONE_I.value_counts()"
   ]
  },
  {
   "cell_type": "code",
   "execution_count": 50,
   "metadata": {},
   "outputs": [
    {
     "data": {
      "text/plain": [
       "Y    304573\n",
       "N     14100\n",
       "Name: INTERSECTION_RELATED_I, dtype: int64"
      ]
     },
     "execution_count": 50,
     "metadata": {},
     "output_type": "execute_result"
    }
   ],
   "source": [
    "all_df.INTERSECTION_RELATED_I.value_counts()"
   ]
  },
  {
   "cell_type": "code",
   "execution_count": 51,
   "metadata": {},
   "outputs": [
    {
     "data": {
      "text/plain": [
       "Y    38771\n",
       "N     4071\n",
       "Name: NOT_RIGHT_OF_WAY_I, dtype: int64"
      ]
     },
     "execution_count": 51,
     "metadata": {},
     "output_type": "execute_result"
    }
   ],
   "source": [
    "all_df.NOT_RIGHT_OF_WAY_I.value_counts()"
   ]
  },
  {
   "cell_type": "code",
   "execution_count": 52,
   "metadata": {},
   "outputs": [
    {
     "data": {
      "text/plain": [
       "UNABLE TO DETERMINE                                                                 386368\n",
       "FAILING TO YIELD RIGHT-OF-WAY                                                       148929\n",
       "FOLLOWING TOO CLOSELY                                                               141928\n",
       "IMPROPER OVERTAKING/PASSING                                                          60373\n",
       "FAILING TO REDUCE SPEED TO AVOID CRASH                                               57526\n",
       "NOT APPLICABLE                                                                       55117\n",
       "IMPROPER LANE USAGE                                                                  47489\n",
       "IMPROPER BACKING                                                                     44789\n",
       "IMPROPER TURNING/NO SIGNAL                                                           43653\n",
       "DRIVING SKILLS/KNOWLEDGE/EXPERIENCE                                                  32680\n",
       "DISREGARDING TRAFFIC SIGNALS                                                         28738\n",
       "WEATHER                                                                              18025\n",
       "DISREGARDING STOP SIGN                                                               16042\n",
       "OPERATING VEHICLE IN ERRATIC, RECKLESS, CARELESS, NEGLIGENT OR AGGRESSIVE MANNER     15530\n",
       "DISTRACTION - FROM INSIDE VEHICLE                                                     9376\n",
       "VISION OBSCURED (SIGNS, TREE LIMBS, BUILDINGS, ETC.)                                  6859\n",
       "EQUIPMENT - VEHICLE CONDITION                                                         6644\n",
       "DRIVING ON WRONG SIDE/WRONG WAY                                                       6265\n",
       "PHYSICAL CONDITION OF DRIVER                                                          5857\n",
       "UNDER THE INFLUENCE OF ALCOHOL/DRUGS (USE WHEN ARREST IS EFFECTED)                    5781\n",
       "DISTRACTION - FROM OUTSIDE VEHICLE                                                    5034\n",
       "EXCEEDING AUTHORIZED SPEED LIMIT                                                      4409\n",
       "EXCEEDING SAFE SPEED FOR CONDITIONS                                                   3721\n",
       "DISREGARDING OTHER TRAFFIC SIGNS                                                      2879\n",
       "ROAD CONSTRUCTION/MAINTENANCE                                                         2071\n",
       "ROAD ENGINEERING/SURFACE/MARKING DEFECTS                                              2002\n",
       "EVASIVE ACTION DUE TO ANIMAL, OBJECT, NONMOTORIST                                     1985\n",
       "CELL PHONE USE OTHER THAN TEXTING                                                     1755\n",
       "DISREGARDING ROAD MARKINGS                                                            1619\n",
       "HAD BEEN DRINKING (USE WHEN ARREST IS NOT MADE)                                       1241\n",
       "TURNING RIGHT ON RED                                                                   996\n",
       "ANIMAL                                                                                 670\n",
       "DISTRACTION - OTHER ELECTRONIC DEVICE (NAVIGATION DEVICE, DVD PLAYER, ETC.)            580\n",
       "TEXTING                                                                                519\n",
       "RELATED TO BUS STOP                                                                    452\n",
       "DISREGARDING YIELD SIGN                                                                452\n",
       "PASSING STOPPED SCHOOL BUS                                                             238\n",
       "BICYCLE ADVANCING LEGALLY ON RED LIGHT                                                 141\n",
       "OBSTRUCTED CROSSWALKS                                                                   89\n",
       "MOTORCYCLE ADVANCING LEGALLY ON RED LIGHT                                               40\n",
       "Name: PRIM_CONTRIBUTORY_CAUSE, dtype: int64"
      ]
     },
     "execution_count": 52,
     "metadata": {},
     "output_type": "execute_result"
    }
   ],
   "source": [
    "all_df.PRIM_CONTRIBUTORY_CAUSE.value_counts()"
   ]
  },
  {
   "cell_type": "code",
   "execution_count": 53,
   "metadata": {},
   "outputs": [
    {
     "data": {
      "text/plain": [
       "NOT APPLICABLE                                                                      466253\n",
       "UNABLE TO DETERMINE                                                                 397789\n",
       "FAILING TO REDUCE SPEED TO AVOID CRASH                                               55595\n",
       "FAILING TO YIELD RIGHT-OF-WAY                                                        40711\n",
       "DRIVING SKILLS/KNOWLEDGE/EXPERIENCE                                                  37660\n",
       "FOLLOWING TOO CLOSELY                                                                37346\n",
       "IMPROPER OVERTAKING/PASSING                                                          19210\n",
       "IMPROPER LANE USAGE                                                                  18001\n",
       "WEATHER                                                                              15178\n",
       "IMPROPER TURNING/NO SIGNAL                                                           13315\n",
       "IMPROPER BACKING                                                                      9014\n",
       "OPERATING VEHICLE IN ERRATIC, RECKLESS, CARELESS, NEGLIGENT OR AGGRESSIVE MANNER      8597\n",
       "DISREGARDING TRAFFIC SIGNALS                                                          5915\n",
       "DISTRACTION - FROM INSIDE VEHICLE                                                     4328\n",
       "DISREGARDING STOP SIGN                                                                4290\n",
       "VISION OBSCURED (SIGNS, TREE LIMBS, BUILDINGS, ETC.)                                  4266\n",
       "EXCEEDING AUTHORIZED SPEED LIMIT                                                      3641\n",
       "EXCEEDING SAFE SPEED FOR CONDITIONS                                                   3485\n",
       "PHYSICAL CONDITION OF DRIVER                                                          3414\n",
       "DRIVING ON WRONG SIDE/WRONG WAY                                                       2475\n",
       "EQUIPMENT - VEHICLE CONDITION                                                         2460\n",
       "DISTRACTION - FROM OUTSIDE VEHICLE                                                    2177\n",
       "UNDER THE INFLUENCE OF ALCOHOL/DRUGS (USE WHEN ARREST IS EFFECTED)                    2091\n",
       "HAD BEEN DRINKING (USE WHEN ARREST IS NOT MADE)                                       1539\n",
       "DISREGARDING ROAD MARKINGS                                                            1409\n",
       "DISREGARDING OTHER TRAFFIC SIGNS                                                      1401\n",
       "ROAD CONSTRUCTION/MAINTENANCE                                                         1318\n",
       "CELL PHONE USE OTHER THAN TEXTING                                                     1027\n",
       "ROAD ENGINEERING/SURFACE/MARKING DEFECTS                                               971\n",
       "EVASIVE ACTION DUE TO ANIMAL, OBJECT, NONMOTORIST                                      654\n",
       "RELATED TO BUS STOP                                                                    505\n",
       "TURNING RIGHT ON RED                                                                   487\n",
       "BICYCLE ADVANCING LEGALLY ON RED LIGHT                                                 473\n",
       "ANIMAL                                                                                 465\n",
       "DISTRACTION - OTHER ELECTRONIC DEVICE (NAVIGATION DEVICE, DVD PLAYER, ETC.)            409\n",
       "DISREGARDING YIELD SIGN                                                                350\n",
       "TEXTING                                                                                233\n",
       "PASSING STOPPED SCHOOL BUS                                                             203\n",
       "OBSTRUCTED CROSSWALKS                                                                  108\n",
       "MOTORCYCLE ADVANCING LEGALLY ON RED LIGHT                                               99\n",
       "Name: SEC_CONTRIBUTORY_CAUSE, dtype: int64"
      ]
     },
     "execution_count": 53,
     "metadata": {},
     "output_type": "execute_result"
    }
   ],
   "source": [
    "all_df.SEC_CONTRIBUTORY_CAUSE.value_counts()"
   ]
  },
  {
   "cell_type": "code",
   "execution_count": 54,
   "metadata": {},
   "outputs": [
    {
     "data": {
      "text/plain": [
       "Y    2485\n",
       "N    1166\n",
       "Name: DOORING_I, dtype: int64"
      ]
     },
     "execution_count": 54,
     "metadata": {},
     "output_type": "execute_result"
    }
   ],
   "source": [
    "all_df.DOORING_I.value_counts()"
   ]
  },
  {
   "cell_type": "code",
   "execution_count": 59,
   "metadata": {},
   "outputs": [
    {
     "data": {
      "text/plain": [
       "30    887881\n",
       "35     85250\n",
       "25     63149\n",
       "20     37459\n",
       "15     32352\n",
       "10     19471\n",
       "0      13380\n",
       "40     12628\n",
       "45      8038\n",
       "5       6642\n",
       "55      1203\n",
       "3        288\n",
       "50       270\n",
       "9        194\n",
       "99       140\n",
       "39       135\n",
       "60        68\n",
       "1         58\n",
       "24        37\n",
       "2         31\n",
       "65        30\n",
       "32        29\n",
       "33        25\n",
       "34        20\n",
       "36        15\n",
       "6         13\n",
       "11        11\n",
       "14         8\n",
       "31         7\n",
       "26         4\n",
       "18         3\n",
       "12         3\n",
       "22         3\n",
       "7          3\n",
       "70         3\n",
       "38         2\n",
       "23         2\n",
       "63         2\n",
       "4          2\n",
       "29         2\n",
       "49         1\n",
       "Name: POSTED_SPEED_LIMIT, dtype: int64"
      ]
     },
     "execution_count": 59,
     "metadata": {},
     "output_type": "execute_result"
    }
   ],
   "source": [
    "all_df.POSTED_SPEED_LIMIT.value_counts()"
   ]
  },
  {
   "cell_type": "code",
   "execution_count": 60,
   "metadata": {},
   "outputs": [
    {
     "data": {
      "text/plain": [
       "NO CONTROLS                 602240\n",
       "TRAFFIC SIGNAL              382590\n",
       "STOP SIGN/FLASHER           131853\n",
       "UNKNOWN                      34751\n",
       "OTHER                         6947\n",
       "LANE USE MARKING              2893\n",
       "YIELD                         1856\n",
       "OTHER REG. SIGN               1122\n",
       "OTHER WARNING SIGN             944\n",
       "RAILROAD CROSSING GATE         838\n",
       "PEDESTRIAN CROSSING SIGN       557\n",
       "POLICE/FLAGMAN                 489\n",
       "SCHOOL ZONE                    449\n",
       "FLASHING CONTROL SIGNAL        416\n",
       "DELINEATORS                    384\n",
       "OTHER RAILROAD CROSSING        303\n",
       "RR CROSSING SIGN               116\n",
       "NO PASSING                      71\n",
       "BICYCLE CROSSING SIGN           43\n",
       "Name: TRAFFIC_CONTROL_DEVICE, dtype: int64"
      ]
     },
     "execution_count": 60,
     "metadata": {},
     "output_type": "execute_result"
    }
   ],
   "source": [
    "all_df.TRAFFIC_CONTROL_DEVICE.value_counts()"
   ]
  },
  {
   "cell_type": "code",
   "execution_count": 61,
   "metadata": {},
   "outputs": [
    {
     "data": {
      "text/plain": [
       "CLEAR                       935980\n",
       "RAIN                        106513\n",
       "SNOW                         42455\n",
       "UNKNOWN                      38349\n",
       "CLOUDY/OVERCAST              36500\n",
       "OTHER                         3566\n",
       "FOG/SMOKE/HAZE                1906\n",
       "SLEET/HAIL                    1605\n",
       "FREEZING RAIN/DRIZZLE         1453\n",
       "BLOWING SNOW                   334\n",
       "SEVERE CROSS WIND GATE         197\n",
       "BLOWING SAND, SOIL, DIRT         4\n",
       "Name: WEATHER_CONDITION, dtype: int64"
      ]
     },
     "execution_count": 61,
     "metadata": {},
     "output_type": "execute_result"
    }
   ],
   "source": [
    "all_df.WEATHER_CONDITION.value_counts()"
   ]
  },
  {
   "cell_type": "code",
   "execution_count": 62,
   "metadata": {},
   "outputs": [
    {
     "data": {
      "text/plain": [
       "DAYLIGHT                  776626\n",
       "DARKNESS, LIGHTED ROAD    252587\n",
       "DARKNESS                   53888\n",
       "DUSK                       37301\n",
       "UNKNOWN                    29384\n",
       "DAWN                       19076\n",
       "Name: LIGHTING_CONDITION, dtype: int64"
      ]
     },
     "execution_count": 62,
     "metadata": {},
     "output_type": "execute_result"
    }
   ],
   "source": [
    "all_df.LIGHTING_CONDITION.value_counts()"
   ]
  },
  {
   "cell_type": "code",
   "execution_count": 64,
   "metadata": {},
   "outputs": [
    {
     "data": {
      "text/plain": [
       "DRY                885170\n",
       "WET                164199\n",
       "UNKNOWN             66588\n",
       "SNOW OR SLUSH       41710\n",
       "ICE                  8256\n",
       "OTHER                2550\n",
       "SAND, MUD, DIRT       389\n",
       "Name: ROADWAY_SURFACE_COND, dtype: int64"
      ]
     },
     "execution_count": 64,
     "metadata": {},
     "output_type": "execute_result"
    }
   ],
   "source": [
    "all_df.ROADWAY_SURFACE_COND.value_counts()"
   ]
  },
  {
   "cell_type": "code",
   "execution_count": 65,
   "metadata": {},
   "outputs": [
    {
     "data": {
      "text/plain": [
       "NO DEFECTS           977277\n",
       "UNKNOWN              169706\n",
       "RUT, HOLES             7529\n",
       "OTHER                  6186\n",
       "WORN SURFACE           4818\n",
       "SHOULDER DEFECT        2436\n",
       "DEBRIS ON ROADWAY       910\n",
       "Name: ROAD_DEFECT, dtype: int64"
      ]
     },
     "execution_count": 65,
     "metadata": {},
     "output_type": "execute_result"
    }
   ],
   "source": [
    "all_df.ROAD_DEFECT.value_counts()"
   ]
  },
  {
   "cell_type": "code",
   "execution_count": 66,
   "metadata": {},
   "outputs": [
    {
     "data": {
      "text/plain": [
       "NO INJURY / DRIVE AWAY              832638\n",
       "INJURY AND / OR TOW DUE TO CRASH    336224\n",
       "Name: CRASH_TYPE, dtype: int64"
      ]
     },
     "execution_count": 66,
     "metadata": {},
     "output_type": "execute_result"
    }
   ],
   "source": [
    "all_df.CRASH_TYPE.value_counts()"
   ]
  },
  {
   "cell_type": "code",
   "execution_count": 67,
   "metadata": {},
   "outputs": [
    {
     "data": {
      "text/plain": [
       "2     1025923\n",
       "3       84784\n",
       "1       36112\n",
       "4       16260\n",
       "5        3811\n",
       "6        1217\n",
       "7         418\n",
       "8         205\n",
       "9          72\n",
       "10         32\n",
       "14         13\n",
       "11          8\n",
       "12          3\n",
       "18          2\n",
       "16          1\n",
       "15          1\n",
       "Name: NUM_UNITS, dtype: int64"
      ]
     },
     "execution_count": 67,
     "metadata": {},
     "output_type": "execute_result"
    }
   ],
   "source": [
    "all_df.NUM_UNITS.value_counts()"
   ]
  },
  {
   "cell_type": "code",
   "execution_count": 68,
   "metadata": {},
   "outputs": [
    {
     "data": {
      "text/plain": [
       "POINT (-87.905309125103 41.976201139024)    1378\n",
       "POINT (-87.585971992965 41.751460603167)     995\n",
       "POINT (-87.580147768689 41.791420282098)     874\n",
       "POINT (-87.585275565077 41.722257273006)     719\n",
       "POINT (-87.619928173678 41.900958919109)     544\n",
       "                                            ... \n",
       "POINT (-87.662970857912 41.752071937367)       1\n",
       "POINT (-87.615273834942 41.677393783736)       1\n",
       "POINT (-87.65436688397 41.887084997328)        1\n",
       "POINT (-87.736472981545 41.792432623505)       1\n",
       "POINT (-87.57059236496 41.759051232521)        1\n",
       "Name: LOCATION, Length: 224654, dtype: int64"
      ]
     },
     "execution_count": 68,
     "metadata": {},
     "output_type": "execute_result"
    }
   ],
   "source": [
    "all_df.LOCATION.value_counts()"
   ]
  },
  {
   "cell_type": "code",
   "execution_count": 69,
   "metadata": {},
   "outputs": [
    {
     "data": {
      "text/plain": [
       "TEST NOT OFFERED                   914404\n",
       "TEST REFUSED                        10114\n",
       "TEST PERFORMED, RESULTS UNKNOWN      2371\n",
       "TEST TAKEN                           1761\n",
       "Name: BAC_RESULT, dtype: int64"
      ]
     },
     "execution_count": 69,
     "metadata": {},
     "output_type": "execute_result"
    }
   ],
   "source": [
    "all_df.BAC_RESULT.value_counts()"
   ]
  },
  {
   "cell_type": "code",
   "execution_count": 81,
   "metadata": {},
   "outputs": [
    {
     "data": {
      "text/plain": [
       "115"
      ]
     },
     "execution_count": 81,
     "metadata": {},
     "output_type": "execute_result"
    }
   ],
   "source": [
    "ages = len(list(all_df.AGE.value_counts().index))\n",
    "ages"
   ]
  },
  {
   "cell_type": "code",
   "execution_count": 75,
   "metadata": {},
   "outputs": [
    {
     "data": {
      "text/plain": [
       " 25.0     24092\n",
       " 26.0     23883\n",
       " 27.0     23616\n",
       " 24.0     23162\n",
       " 28.0     23132\n",
       "          ...  \n",
       "-177.0        1\n",
       "-49.0         1\n",
       "-40.0         1\n",
       " 106.0        1\n",
       "-47.0         1\n",
       "Name: AGE, Length: 115, dtype: int64"
      ]
     },
     "execution_count": 75,
     "metadata": {},
     "output_type": "execute_result"
    }
   ],
   "source": [
    "all_df.AGE.value_counts()"
   ]
  },
  {
   "cell_type": "code",
   "execution_count": 82,
   "metadata": {},
   "outputs": [
    {
     "data": {
      "text/plain": [
       "M    609274\n",
       "F    441535\n",
       "X    100458\n",
       "Name: SEX, dtype: int64"
      ]
     },
     "execution_count": 82,
     "metadata": {},
     "output_type": "execute_result"
    }
   ],
   "source": [
    "all_df.SEX.value_counts()"
   ]
  },
  {
   "cell_type": "code",
   "execution_count": 87,
   "metadata": {},
   "outputs": [
    {
     "data": {
      "text/plain": [
       "WESTERN AVE       34057\n",
       "PULASKI RD        31047\n",
       "CICERO AVE        28651\n",
       "ASHLAND AVE       26947\n",
       "HALSTED ST        24703\n",
       "                  ...  \n",
       "BLAKE ST              1\n",
       "CHANAY ST             1\n",
       "LOUIE PKWY            1\n",
       "ALTA VISTA TER        1\n",
       "MCVICKER AVE          1\n",
       "Name: STREET_NAME, Length: 1579, dtype: int64"
      ]
     },
     "execution_count": 87,
     "metadata": {},
     "output_type": "execute_result"
    }
   ],
   "source": [
    "all_df.STREET_NAME.value_counts()"
   ]
  },
  {
   "cell_type": "code",
   "execution_count": 133,
   "metadata": {},
   "outputs": [
    {
     "name": "stdout",
     "output_type": "stream",
     "text": [
      "1579\n"
     ]
    },
    {
     "data": {
      "text/plain": [
       "HARRISON ST       5008\n",
       "VINCENNES AVE     5009\n",
       "CONGRESS PKWY     5084\n",
       "GARFIELD BLVD     5097\n",
       "PETERSON AVE      5462\n",
       "                 ...  \n",
       "HALSTED ST       24703\n",
       "ASHLAND AVE      26947\n",
       "CICERO AVE       28651\n",
       "PULASKI RD       31047\n",
       "WESTERN AVE      34057\n",
       "Name: STREET_NAME, Length: 61, dtype: int64"
      ]
     },
     "execution_count": 133,
     "metadata": {},
     "output_type": "execute_result"
    }
   ],
   "source": [
    "streets = all_df.STREET_NAME.value_counts()\n",
    "sort_st = streets.sort_values()\n",
    "print(len(sort_st))\n",
    "sort_st[1518:]"
   ]
  },
  {
   "cell_type": "code",
   "execution_count": 145,
   "metadata": {},
   "outputs": [
    {
     "data": {
      "text/plain": [
       "HARRISON ST       5008\n",
       "VINCENNES AVE     5009\n",
       "CONGRESS PKWY     5084\n",
       "GARFIELD BLVD     5097\n",
       "PETERSON AVE      5462\n",
       "                 ...  \n",
       "HALSTED ST       24703\n",
       "ASHLAND AVE      26947\n",
       "CICERO AVE       28651\n",
       "PULASKI RD       31047\n",
       "WESTERN AVE      34057\n",
       "Name: STREET_NAME, Length: 61, dtype: int64"
      ]
     },
     "execution_count": 145,
     "metadata": {},
     "output_type": "execute_result"
    }
   ],
   "source": [
    "all_df.STREET_NAME.value_counts().sort_values()[1518:]"
   ]
  },
  {
   "cell_type": "code",
   "execution_count": 134,
   "metadata": {},
   "outputs": [
    {
     "data": {
      "text/plain": [
       "pandas.core.series.Series"
      ]
     },
     "execution_count": 134,
     "metadata": {},
     "output_type": "execute_result"
    }
   ],
   "source": [
    "type(sort_st)"
   ]
  },
  {
   "cell_type": "code",
   "execution_count": 137,
   "metadata": {},
   "outputs": [],
   "source": [
    "names = list(sort_st[1518:].index)"
   ]
  },
  {
   "cell_type": "code",
   "execution_count": 138,
   "metadata": {},
   "outputs": [
    {
     "data": {
      "text/plain": [
       "['HARRISON ST',\n",
       " 'VINCENNES AVE',\n",
       " 'CONGRESS PKWY',\n",
       " 'GARFIELD BLVD',\n",
       " 'PETERSON AVE',\n",
       " 'RACINE AVE',\n",
       " 'ELSTON AVE',\n",
       " 'LINCOLN AVE',\n",
       " 'BROADWAY',\n",
       " 'MARQUETTE RD',\n",
       " 'WASHINGTON BLVD',\n",
       " 'JACKSON BLVD',\n",
       " 'WENTWORTH AVE',\n",
       " 'MONTROSE AVE',\n",
       " 'KOSTNER AVE',\n",
       " 'HARLEM AVE',\n",
       " '71ST ST',\n",
       " 'FOSTER AVE',\n",
       " 'DIVERSEY AVE',\n",
       " 'OGDEN AVE',\n",
       " 'LARAMIE AVE',\n",
       " 'LAKE ST',\n",
       " 'LAWRENCE AVE',\n",
       " 'DEVON AVE',\n",
       " 'SHERIDAN RD',\n",
       " 'LAKE SHORE DR',\n",
       " 'CERMAK RD',\n",
       " '95TH ST',\n",
       " '47TH ST',\n",
       " 'DIVISION ST',\n",
       " 'DR MARTIN LUTHER KING JR DR',\n",
       " 'LAKE SHORE DR SB',\n",
       " 'MILWAUKEE AVE',\n",
       " 'ADDISON ST',\n",
       " 'LAKE SHORE DR NB',\n",
       " '79TH ST',\n",
       " 'COTTAGE GROVE AVE',\n",
       " 'MADISON ST',\n",
       " 'CHICAGO AVE',\n",
       " 'ROOSEVELT RD',\n",
       " 'BELMONT AVE',\n",
       " '63RD ST',\n",
       " 'FULLERTON AVE',\n",
       " '87TH ST',\n",
       " 'ARCHER AVE',\n",
       " 'IRVING PARK RD',\n",
       " 'DAMEN AVE',\n",
       " 'CENTRAL AVE',\n",
       " 'CALIFORNIA AVE',\n",
       " 'GRAND AVE',\n",
       " 'CLARK ST',\n",
       " 'STONY ISLAND AVE',\n",
       " 'NORTH AVE',\n",
       " 'STATE ST',\n",
       " 'MICHIGAN AVE',\n",
       " 'KEDZIE AVE',\n",
       " 'HALSTED ST',\n",
       " 'ASHLAND AVE',\n",
       " 'CICERO AVE',\n",
       " 'PULASKI RD',\n",
       " 'WESTERN AVE']"
      ]
     },
     "execution_count": 138,
     "metadata": {},
     "output_type": "execute_result"
    }
   ],
   "source": [
    "names"
   ]
  },
  {
   "cell_type": "code",
   "execution_count": 146,
   "metadata": {
    "scrolled": true
   },
   "outputs": [
    {
     "data": {
      "text/plain": [
       "DRIVER                 907222\n",
       "PASSENGER              239087\n",
       "PEDESTRIAN              13329\n",
       "BICYCLE                  7995\n",
       "NON-MOTOR VEHICLE        1015\n",
       "NON-CONTACT VEHICLE       214\n",
       "Name: PERSON_TYPE, dtype: int64"
      ]
     },
     "execution_count": 146,
     "metadata": {},
     "output_type": "execute_result"
    }
   ],
   "source": [
    "all_df.PERSON_TYPE.value_counts()"
   ]
  },
  {
   "cell_type": "code",
   "execution_count": 149,
   "metadata": {},
   "outputs": [
    {
     "data": {
      "text/plain": [
       "['D',\n",
       " 'A',\n",
       " 'C',\n",
       " 'B',\n",
       " 'DM',\n",
       " 'AM',\n",
       " 'CD',\n",
       " 'BM',\n",
       " 'E',\n",
       " 'O',\n",
       " 'DL',\n",
       " 'CM',\n",
       " 'F',\n",
       " 'M',\n",
       " 'UN',\n",
       " 'R',\n",
       " '99',\n",
       " 'TV',\n",
       " '0',\n",
       " 'CA',\n",
       " 'AB',\n",
       " '9',\n",
       " 'D*',\n",
       " 'S',\n",
       " 'CL',\n",
       " 'IL',\n",
       " 'NO',\n",
       " 'G',\n",
       " 'UK',\n",
       " 'L',\n",
       " 'U',\n",
       " 'N',\n",
       " 'DD',\n",
       " 'P',\n",
       " '1',\n",
       " 'OP',\n",
       " 'EO',\n",
       " 'DA',\n",
       " '00',\n",
       " 'D`',\n",
       " 'B*',\n",
       " 'DQ',\n",
       " 'BC',\n",
       " 'A*',\n",
       " 'T',\n",
       " 'CO',\n",
       " 'ID',\n",
       " 'CB',\n",
       " '2',\n",
       " '3',\n",
       " '5',\n",
       " 'K',\n",
       " 'DE',\n",
       " 'MC',\n",
       " 'IP',\n",
       " '`D',\n",
       " 'AC',\n",
       " 'X',\n",
       " 'AL',\n",
       " '10',\n",
       " 'PC',\n",
       " 'TM',\n",
       " 'AD',\n",
       " 'DV',\n",
       " 'H',\n",
       " 'D1',\n",
       " 'I',\n",
       " '1F',\n",
       " 'XD',\n",
       " 'Z',\n",
       " 'J',\n",
       " 'LP',\n",
       " 'NT',\n",
       " 'DU',\n",
       " 'OR',\n",
       " 'VL',\n",
       " 'DC',\n",
       " 'ND',\n",
       " 'DF',\n",
       " 'PS',\n",
       " 'G2',\n",
       " 'DS',\n",
       " '9A',\n",
       " 'CR',\n",
       " 'AV',\n",
       " 'BE',\n",
       " '`',\n",
       " 'SU',\n",
       " 'C*',\n",
       " 'BD',\n",
       " 'EC',\n",
       " 'DN',\n",
       " 'EM',\n",
       " 'C1',\n",
       " '02',\n",
       " 'SD',\n",
       " 'W',\n",
       " 'OL',\n",
       " 'P2',\n",
       " 'MD',\n",
       " 'BF',\n",
       " 'V',\n",
       " 'DB',\n",
       " 'Y',\n",
       " 'D.',\n",
       " 'RG',\n",
       " 'NN',\n",
       " 'BL',\n",
       " 'ST',\n",
       " '``',\n",
       " 'DR',\n",
       " 'OA',\n",
       " 'A3',\n",
       " '-',\n",
       " 'B1',\n",
       " 'ED',\n",
       " 'CP',\n",
       " 'AN',\n",
       " 'CH',\n",
       " '??',\n",
       " 'AA',\n",
       " 'E0',\n",
       " 'MB',\n",
       " 'ER',\n",
       " 'TL',\n",
       " 'P1',\n",
       " 'G1',\n",
       " 'TP',\n",
       " '.',\n",
       " '4D',\n",
       " 'RE',\n",
       " '4A',\n",
       " 'GM',\n",
       " 'TX',\n",
       " 'WI',\n",
       " '09',\n",
       " 'DZ',\n",
       " 'LY',\n",
       " 'LM',\n",
       " 'CC',\n",
       " 'IN',\n",
       " 'PD',\n",
       " 'M2',\n",
       " 'OH',\n",
       " 'PB',\n",
       " 'PA',\n",
       " 'CV',\n",
       " 'CN',\n",
       " '1W',\n",
       " 'EK',\n",
       " 'TB',\n",
       " '\\\\D',\n",
       " 'CY',\n",
       " 'A+',\n",
       " 'C2',\n",
       " 'OM',\n",
       " 'D,',\n",
       " '*D',\n",
       " ']',\n",
       " '5B',\n",
       " 'TR',\n",
       " 'EX',\n",
       " 'LT',\n",
       " '01',\n",
       " 'LD',\n",
       " '2F',\n",
       " 'F1',\n",
       " 'PP',\n",
       " '4',\n",
       " 'GV',\n",
       " 'VD',\n",
       " '\\\\',\n",
       " '2C',\n",
       " 'BX',\n",
       " 'BK',\n",
       " 'AX',\n",
       " 'AW',\n",
       " 'HC',\n",
       " 'A1',\n",
       " 'TK',\n",
       " 'E,',\n",
       " 'A`',\n",
       " 'NP',\n",
       " '2B',\n",
       " '9B',\n",
       " 'MX',\n",
       " ';',\n",
       " 'A2',\n",
       " '11',\n",
       " 'A,',\n",
       " 'MO',\n",
       " 'DO',\n",
       " 'D7',\n",
       " 'DX',\n",
       " '31',\n",
       " 'D6',\n",
       " 'RO',\n",
       " 'JM',\n",
       " 'E`',\n",
       " 'O+',\n",
       " ',D',\n",
       " 'HH',\n",
       " 'GE',\n",
       " '--',\n",
       " 'KL',\n",
       " 'PE',\n",
       " 'LA',\n",
       " 'D\"',\n",
       " 'PR',\n",
       " 'AR',\n",
       " 'BN',\n",
       " 'HZ',\n",
       " 'GN',\n",
       " 'RV',\n",
       " 'LL',\n",
       " 'NC',\n",
       " '2P',\n",
       " 'IF',\n",
       " '1A',\n",
       " '19',\n",
       " 'TA',\n",
       " 'HG',\n",
       " 'MA',\n",
       " '3E',\n",
       " 'CG',\n",
       " '6',\n",
       " 'FD',\n",
       " '56',\n",
       " '?',\n",
       " 'DP',\n",
       " 'MN',\n",
       " 'TD',\n",
       " 'CJ',\n",
       " 'CI',\n",
       " 'UB',\n",
       " 'WD',\n",
       " 'IS',\n",
       " 'M1',\n",
       " 'UP',\n",
       " 'BV']"
      ]
     },
     "execution_count": 149,
     "metadata": {},
     "output_type": "execute_result"
    }
   ],
   "source": [
    "lics = list(all_df.DRIVERS_LICENSE_CLASS.value_counts().index)\n",
    "lics"
   ]
  },
  {
   "cell_type": "code",
   "execution_count": null,
   "metadata": {},
   "outputs": [],
   "source": []
  }
 ],
 "metadata": {
  "kernelspec": {
   "display_name": "Python 3",
   "language": "python",
   "name": "python3"
  },
  "language_info": {
   "codemirror_mode": {
    "name": "ipython",
    "version": 3
   },
   "file_extension": ".py",
   "mimetype": "text/x-python",
   "name": "python",
   "nbconvert_exporter": "python",
   "pygments_lexer": "ipython3",
   "version": "3.8.3"
  }
 },
 "nbformat": 4,
 "nbformat_minor": 4
}
